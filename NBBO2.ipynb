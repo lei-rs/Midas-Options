{
 "cells": [
  {
   "cell_type": "code",
   "execution_count": 1,
   "metadata": {
    "collapsed": true,
    "ExecuteTime": {
     "end_time": "2023-07-05T12:30:44.963425600Z",
     "start_time": "2023-07-05T12:30:44.389805500Z"
    }
   },
   "outputs": [],
   "source": [
    "from src.helpers import cast_types\n",
    "import polars as pl"
   ]
  },
  {
   "cell_type": "code",
   "execution_count": 2,
   "outputs": [],
   "source": [
    "col_names = [f'c{i}' for i in range(16)]\n",
    "df = pl.read_csv(\n",
    "    'data/raw/temp_tesla.csv',\n",
    "     separator=',',\n",
    "     has_header=False,\n",
    "     new_columns=col_names,\n",
    "     ignore_errors=True,\n",
    "     skip_rows=1\n",
    ")\n",
    "df = df.filter(pl.col('c1') != 'FT')\n",
    "df = cast_types(df)"
   ],
   "metadata": {
    "collapsed": false,
    "ExecuteTime": {
     "end_time": "2023-07-05T12:30:46.359426500Z",
     "start_time": "2023-07-05T12:30:44.965430300Z"
    }
   }
  },
  {
   "cell_type": "code",
   "execution_count": 3,
   "outputs": [
    {
     "name": "stdout",
     "output_type": "stream",
     "text": [
      "CPU times: total: 26.2 s\n",
      "Wall time: 10.1 s\n"
     ]
    }
   ],
   "source": [
    "%%time\n",
    "from src.nbbo import generate_nbbo\n",
    "\n",
    "nbbo = generate_nbbo(df)"
   ],
   "metadata": {
    "collapsed": false,
    "ExecuteTime": {
     "end_time": "2023-07-05T12:30:56.443659Z",
     "start_time": "2023-07-05T12:30:46.362433Z"
    }
   }
  },
  {
   "cell_type": "code",
   "execution_count": 4,
   "outputs": [
    {
     "data": {
      "text/plain": "shape: (5, 83)\n┌─────────────────┬──────┬──────┬───────────┬───┬───────────┬───────────┬───────────┬───────────┐\n│ c2              ┆ nbb  ┆ nbo  ┆ c11_c10_A ┆ … ┆ T_nbo_ind ┆ W_nbo_ind ┆ X_nbo_ind ┆ Z_nbo_ind │\n│ ---             ┆ ---  ┆ ---  ┆ ---       ┆   ┆ ---       ┆ ---       ┆ ---       ┆ ---       │\n│ time            ┆ f32  ┆ f32  ┆ u16       ┆   ┆ i32       ┆ i32       ┆ i32       ┆ i32       │\n╞═════════════════╪══════╪══════╪═══════════╪═══╪═══════════╪═══════════╪═══════════╪═══════════╡\n│ 09:30:00.031005 ┆ 4.95 ┆ 7.35 ┆ 0         ┆ … ┆ 0         ┆ 0         ┆ 0         ┆ 0         │\n│ 09:30:00.042824 ┆ 6.85 ┆ 7.35 ┆ 0         ┆ … ┆ 0         ┆ 0         ┆ 0         ┆ 0         │\n│ 09:30:00.067477 ┆ 6.95 ┆ 7.35 ┆ 0         ┆ … ┆ 0         ┆ 0         ┆ 0         ┆ 0         │\n│ 09:30:00.068220 ┆ 6.95 ┆ 7.35 ┆ 0         ┆ … ┆ 0         ┆ 0         ┆ 0         ┆ 0         │\n│ 09:30:00.072374 ┆ 6.95 ┆ 7.35 ┆ 0         ┆ … ┆ 0         ┆ 0         ┆ 0         ┆ 0         │\n└─────────────────┴──────┴──────┴───────────┴───┴───────────┴───────────┴───────────┴───────────┘",
      "text/html": "<div><style>\n.dataframe > thead > tr > th,\n.dataframe > tbody > tr > td {\n  text-align: right;\n}\n</style>\n<small>shape: (5, 83)</small><table border=\"1\" class=\"dataframe\"><thead><tr><th>c2</th><th>nbb</th><th>nbo</th><th>c11_c10_A</th><th>c11_c10_B</th><th>c11_c10_C</th><th>c11_c10_D</th><th>c11_c10_E</th><th>c11_c10_H</th><th>c11_c10_I</th><th>c11_c10_J</th><th>c11_c10_M</th><th>c11_c10_N</th><th>c11_c10_P</th><th>c11_c10_Q</th><th>c11_c10_T</th><th>c11_c10_W</th><th>c11_c10_X</th><th>c11_c10_Z</th><th>c7_c10_A</th><th>c7_c10_B</th><th>c7_c10_C</th><th>c7_c10_D</th><th>c7_c10_E</th><th>c7_c10_H</th><th>c7_c10_I</th><th>c7_c10_J</th><th>c7_c10_M</th><th>c7_c10_N</th><th>c7_c10_P</th><th>c7_c10_Q</th><th>c7_c10_T</th><th>c7_c10_W</th><th>c7_c10_X</th><th>c7_c10_Z</th><th>c15_c10_A</th><th>c15_c10_B</th><th>&hellip;</th><th>c15_c10_Q</th><th>c15_c10_T</th><th>c15_c10_W</th><th>c15_c10_X</th><th>c15_c10_Z</th><th>A_nbb_ind</th><th>B_nbb_ind</th><th>C_nbb_ind</th><th>D_nbb_ind</th><th>E_nbb_ind</th><th>H_nbb_ind</th><th>I_nbb_ind</th><th>J_nbb_ind</th><th>M_nbb_ind</th><th>N_nbb_ind</th><th>P_nbb_ind</th><th>Q_nbb_ind</th><th>T_nbb_ind</th><th>W_nbb_ind</th><th>X_nbb_ind</th><th>Z_nbb_ind</th><th>A_nbo_ind</th><th>B_nbo_ind</th><th>C_nbo_ind</th><th>D_nbo_ind</th><th>E_nbo_ind</th><th>H_nbo_ind</th><th>I_nbo_ind</th><th>J_nbo_ind</th><th>M_nbo_ind</th><th>N_nbo_ind</th><th>P_nbo_ind</th><th>Q_nbo_ind</th><th>T_nbo_ind</th><th>W_nbo_ind</th><th>X_nbo_ind</th><th>Z_nbo_ind</th></tr><tr><td>time</td><td>f32</td><td>f32</td><td>u16</td><td>u16</td><td>u16</td><td>u16</td><td>u16</td><td>u16</td><td>u16</td><td>u16</td><td>u16</td><td>u16</td><td>u16</td><td>u16</td><td>u16</td><td>u16</td><td>u16</td><td>u16</td><td>u16</td><td>u16</td><td>u16</td><td>u16</td><td>u16</td><td>u16</td><td>u16</td><td>u16</td><td>u16</td><td>u16</td><td>u16</td><td>u16</td><td>u16</td><td>u16</td><td>u16</td><td>u16</td><td>str</td><td>str</td><td>&hellip;</td><td>str</td><td>str</td><td>str</td><td>str</td><td>str</td><td>i32</td><td>i32</td><td>i32</td><td>i32</td><td>i32</td><td>i32</td><td>i32</td><td>i32</td><td>i32</td><td>i32</td><td>i32</td><td>i32</td><td>i32</td><td>i32</td><td>i32</td><td>i32</td><td>i32</td><td>i32</td><td>i32</td><td>i32</td><td>i32</td><td>i32</td><td>i32</td><td>i32</td><td>i32</td><td>i32</td><td>i32</td><td>i32</td><td>i32</td><td>i32</td><td>i32</td><td>i32</td></tr></thead><tbody><tr><td>09:30:00.031005</td><td>4.95</td><td>7.35</td><td>0</td><td>0</td><td>0</td><td>0</td><td>0</td><td>0</td><td>0</td><td>1</td><td>0</td><td>0</td><td>0</td><td>0</td><td>0</td><td>0</td><td>0</td><td>0</td><td>0</td><td>0</td><td>0</td><td>0</td><td>0</td><td>0</td><td>0</td><td>1</td><td>0</td><td>0</td><td>0</td><td>0</td><td>0</td><td>0</td><td>0</td><td>0</td><td>&quot;K&quot;</td><td>&quot;K&quot;</td><td>&hellip;</td><td>&quot;R&quot;</td><td>&quot;R&quot;</td><td>&quot;F&quot;</td><td>&quot;R&quot;</td><td>&quot;F&quot;</td><td>0</td><td>0</td><td>0</td><td>0</td><td>0</td><td>0</td><td>0</td><td>1</td><td>0</td><td>0</td><td>0</td><td>0</td><td>0</td><td>0</td><td>0</td><td>0</td><td>0</td><td>0</td><td>0</td><td>0</td><td>0</td><td>0</td><td>0</td><td>1</td><td>0</td><td>0</td><td>0</td><td>0</td><td>0</td><td>0</td><td>0</td><td>0</td></tr><tr><td>09:30:00.042824</td><td>6.85</td><td>7.35</td><td>0</td><td>0</td><td>0</td><td>0</td><td>0</td><td>1</td><td>0</td><td>1</td><td>0</td><td>0</td><td>0</td><td>0</td><td>0</td><td>0</td><td>0</td><td>0</td><td>0</td><td>0</td><td>0</td><td>0</td><td>0</td><td>7</td><td>0</td><td>1</td><td>0</td><td>0</td><td>0</td><td>0</td><td>0</td><td>0</td><td>0</td><td>0</td><td>&quot;K&quot;</td><td>&quot;K&quot;</td><td>&hellip;</td><td>&quot;R&quot;</td><td>&quot;R&quot;</td><td>&quot;F&quot;</td><td>&quot;R&quot;</td><td>&quot;F&quot;</td><td>0</td><td>0</td><td>0</td><td>0</td><td>0</td><td>1</td><td>0</td><td>0</td><td>0</td><td>0</td><td>0</td><td>0</td><td>0</td><td>0</td><td>0</td><td>0</td><td>0</td><td>0</td><td>0</td><td>0</td><td>0</td><td>1</td><td>0</td><td>1</td><td>0</td><td>0</td><td>0</td><td>0</td><td>0</td><td>0</td><td>0</td><td>0</td></tr><tr><td>09:30:00.067477</td><td>6.95</td><td>7.35</td><td>0</td><td>0</td><td>0</td><td>0</td><td>0</td><td>1</td><td>0</td><td>1</td><td>0</td><td>0</td><td>0</td><td>0</td><td>0</td><td>0</td><td>13</td><td>0</td><td>0</td><td>0</td><td>0</td><td>0</td><td>0</td><td>7</td><td>0</td><td>1</td><td>0</td><td>0</td><td>0</td><td>0</td><td>0</td><td>0</td><td>13</td><td>0</td><td>&quot;K&quot;</td><td>&quot;K&quot;</td><td>&hellip;</td><td>&quot;R&quot;</td><td>&quot;R&quot;</td><td>&quot;F&quot;</td><td>&quot;-&quot;</td><td>&quot;F&quot;</td><td>0</td><td>0</td><td>0</td><td>0</td><td>0</td><td>0</td><td>0</td><td>0</td><td>0</td><td>0</td><td>0</td><td>0</td><td>0</td><td>0</td><td>1</td><td>0</td><td>0</td><td>0</td><td>0</td><td>0</td><td>0</td><td>1</td><td>0</td><td>1</td><td>0</td><td>0</td><td>0</td><td>0</td><td>0</td><td>0</td><td>0</td><td>0</td></tr><tr><td>09:30:00.068220</td><td>6.95</td><td>7.35</td><td>0</td><td>0</td><td>0</td><td>0</td><td>0</td><td>1</td><td>0</td><td>1</td><td>0</td><td>0</td><td>0</td><td>0</td><td>0</td><td>0</td><td>13</td><td>0</td><td>0</td><td>0</td><td>0</td><td>0</td><td>0</td><td>7</td><td>0</td><td>17</td><td>0</td><td>0</td><td>0</td><td>0</td><td>0</td><td>0</td><td>13</td><td>0</td><td>&quot;K&quot;</td><td>&quot;K&quot;</td><td>&hellip;</td><td>&quot;R&quot;</td><td>&quot;R&quot;</td><td>&quot;F&quot;</td><td>&quot;-&quot;</td><td>&quot;F&quot;</td><td>0</td><td>0</td><td>0</td><td>0</td><td>0</td><td>0</td><td>0</td><td>1</td><td>0</td><td>0</td><td>0</td><td>0</td><td>0</td><td>0</td><td>1</td><td>0</td><td>0</td><td>0</td><td>0</td><td>0</td><td>0</td><td>1</td><td>0</td><td>1</td><td>0</td><td>0</td><td>0</td><td>0</td><td>0</td><td>0</td><td>0</td><td>0</td></tr><tr><td>09:30:00.072374</td><td>6.95</td><td>7.35</td><td>0</td><td>0</td><td>0</td><td>0</td><td>0</td><td>1</td><td>0</td><td>1</td><td>0</td><td>0</td><td>0</td><td>0</td><td>0</td><td>0</td><td>13</td><td>0</td><td>0</td><td>0</td><td>0</td><td>0</td><td>0</td><td>7</td><td>0</td><td>1</td><td>0</td><td>0</td><td>0</td><td>0</td><td>0</td><td>0</td><td>13</td><td>0</td><td>&quot;K&quot;</td><td>&quot;K&quot;</td><td>&hellip;</td><td>&quot;R&quot;</td><td>&quot;R&quot;</td><td>&quot;F&quot;</td><td>&quot;-&quot;</td><td>&quot;F&quot;</td><td>0</td><td>0</td><td>0</td><td>0</td><td>0</td><td>0</td><td>0</td><td>0</td><td>0</td><td>0</td><td>0</td><td>0</td><td>0</td><td>0</td><td>1</td><td>0</td><td>0</td><td>0</td><td>0</td><td>0</td><td>0</td><td>1</td><td>0</td><td>1</td><td>0</td><td>0</td><td>0</td><td>0</td><td>0</td><td>0</td><td>0</td><td>0</td></tr></tbody></table></div>"
     },
     "execution_count": 4,
     "metadata": {},
     "output_type": "execute_result"
    }
   ],
   "source": [
    "nbbo.head()"
   ],
   "metadata": {
    "collapsed": false,
    "ExecuteTime": {
     "end_time": "2023-07-05T12:31:02.460887700Z",
     "start_time": "2023-07-05T12:31:02.412886700Z"
    }
   }
  },
  {
   "cell_type": "code",
   "execution_count": null,
   "outputs": [],
   "source": [
    "nbbo.write_csv('data/nbbo/test1.csv', float_precision=2)"
   ],
   "metadata": {
    "collapsed": false
   }
  },
  {
   "cell_type": "code",
   "execution_count": 5,
   "outputs": [],
   "source": [
    "nbbo.write_parquet('data/nbbo/test1.parquet', compression_level=6)"
   ],
   "metadata": {
    "collapsed": false,
    "ExecuteTime": {
     "end_time": "2023-07-05T12:31:40.701865100Z",
     "start_time": "2023-07-05T12:31:34.512132500Z"
    }
   }
  },
  {
   "cell_type": "code",
   "execution_count": null,
   "outputs": [],
   "source": [],
   "metadata": {
    "collapsed": false
   }
  }
 ],
 "metadata": {
  "kernelspec": {
   "display_name": "Python 3",
   "language": "python",
   "name": "python3"
  },
  "language_info": {
   "codemirror_mode": {
    "name": "ipython",
    "version": 2
   },
   "file_extension": ".py",
   "mimetype": "text/x-python",
   "name": "python",
   "nbconvert_exporter": "python",
   "pygments_lexer": "ipython2",
   "version": "2.7.6"
  }
 },
 "nbformat": 4,
 "nbformat_minor": 0
}
