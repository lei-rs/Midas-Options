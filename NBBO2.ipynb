{
 "cells": [
  {
   "cell_type": "code",
   "execution_count": 1,
   "metadata": {
    "collapsed": true,
    "ExecuteTime": {
     "end_time": "2023-06-23T14:06:52.089300700Z",
     "start_time": "2023-06-23T14:06:52.016534Z"
    }
   },
   "outputs": [],
   "source": [
    "from src.helpers import cast_types\n",
    "import polars as pl"
   ]
  },
  {
   "cell_type": "code",
   "execution_count": 2,
   "outputs": [],
   "source": [
    "col_names = [f'c{i}' for i in range(16)]\n",
    "df = pl.read_csv(\n",
    "    'data/raw/temp_tesla.csv',\n",
    "     separator=',',\n",
    "     has_header=False,\n",
    "     new_columns=col_names,\n",
    "     ignore_errors=True,\n",
    "     skip_rows=1\n",
    ")\n",
    "df = df.filter(pl.col('c1') != 'FT')\n",
    "df = cast_types(df)"
   ],
   "metadata": {
    "collapsed": false,
    "ExecuteTime": {
     "end_time": "2023-06-23T14:06:53.770323100Z",
     "start_time": "2023-06-23T14:06:52.090301400Z"
    }
   }
  },
  {
   "cell_type": "code",
   "execution_count": 3,
   "outputs": [
    {
     "name": "stdout",
     "output_type": "stream",
     "text": [
      "CPU times: total: 37.9 s\n",
      "Wall time: 19.6 s\n"
     ]
    }
   ],
   "source": [
    "%%time\n",
    "from src.nbbo import generate_nbbo\n",
    "\n",
    "nbbo = generate_nbbo(df)"
   ],
   "metadata": {
    "collapsed": false,
    "ExecuteTime": {
     "end_time": "2023-06-23T14:07:13.423245900Z",
     "start_time": "2023-06-23T14:06:53.771322600Z"
    }
   }
  },
  {
   "cell_type": "code",
   "execution_count": 4,
   "outputs": [],
   "source": [
    "nbbo.write_csv('data/nbbo/test1.csv', float_precision=2)"
   ],
   "metadata": {
    "collapsed": false,
    "ExecuteTime": {
     "end_time": "2023-06-23T14:07:14.422258600Z",
     "start_time": "2023-06-23T14:07:13.425244100Z"
    }
   }
  },
  {
   "cell_type": "code",
   "execution_count": 5,
   "outputs": [],
   "source": [
    "nbbo.write_parquet('data/nbbo/test1.parquet', compression_level=6)"
   ],
   "metadata": {
    "collapsed": false,
    "ExecuteTime": {
     "end_time": "2023-06-23T14:10:37.127430700Z",
     "start_time": "2023-06-23T14:10:35.448705600Z"
    }
   }
  },
  {
   "cell_type": "code",
   "execution_count": null,
   "outputs": [],
   "source": [],
   "metadata": {
    "collapsed": false
   }
  }
 ],
 "metadata": {
  "kernelspec": {
   "display_name": "Python 3",
   "language": "python",
   "name": "python3"
  },
  "language_info": {
   "codemirror_mode": {
    "name": "ipython",
    "version": 2
   },
   "file_extension": ".py",
   "mimetype": "text/x-python",
   "name": "python",
   "nbconvert_exporter": "python",
   "pygments_lexer": "ipython2",
   "version": "2.7.6"
  }
 },
 "nbformat": 4,
 "nbformat_minor": 0
}
