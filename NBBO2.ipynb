{
 "cells": [
  {
   "cell_type": "code",
   "execution_count": 1,
   "metadata": {
    "collapsed": true,
    "ExecuteTime": {
     "end_time": "2023-06-13T13:22:27.117122200Z",
     "start_time": "2023-06-13T13:22:26.932103200Z"
    }
   },
   "outputs": [],
   "source": [
    "from src.helpers import cast_types\n",
    "import polars as pl"
   ]
  },
  {
   "cell_type": "code",
   "execution_count": 2,
   "outputs": [
    {
     "data": {
      "text/plain": "shape: (5, 16)\n┌─────┬─────┬────────────────────────────┬───────┬───┬─────┬─────┬─────┬─────┐\n│ c0  ┆ c1  ┆ c2                         ┆ c3    ┆ … ┆ c12 ┆ c13 ┆ c14 ┆ c15 │\n│ --- ┆ --- ┆ ---                        ┆ ---   ┆   ┆ --- ┆ --- ┆ --- ┆ --- │\n│ i64 ┆ str ┆ datetime[μs]               ┆ i64   ┆   ┆ f32 ┆ str ┆ str ┆ str │\n╞═════╪═════╪════════════════════════════╪═══════╪═══╪═════╪═════╪═════╪═════╡\n│ 0   ┆ F@  ┆ 1970-01-01 08:00:00.222152 ┆ 2551  ┆ … ┆ 0.0 ┆ n   ┆ C   ┆ F   │\n│ 1   ┆ F@  ┆ 1970-01-01 08:00:00.615769 ┆ 7252  ┆ … ┆ 0.0 ┆ n   ┆ Z   ┆ F   │\n│ 2   ┆ F@  ┆ 1970-01-01 08:00:00.713366 ┆ 8472  ┆ … ┆ 0.0 ┆ n   ┆ E   ┆ F   │\n│ 3   ┆ F@  ┆ 1970-01-01 08:00:00.798920 ┆ 9413  ┆ … ┆ 0.0 ┆ n   ┆ W   ┆ F   │\n│ 4   ┆ F@  ┆ 1970-01-01 08:30:00.221420 ┆ 13077 ┆ … ┆ 0.0 ┆ n   ┆ C   ┆ F   │\n└─────┴─────┴────────────────────────────┴───────┴───┴─────┴─────┴─────┴─────┘",
      "text/html": "<div><style>\n.dataframe > thead > tr > th,\n.dataframe > tbody > tr > td {\n  text-align: right;\n}\n</style>\n<small>shape: (5, 16)</small><table border=\"1\" class=\"dataframe\"><thead><tr><th>c0</th><th>c1</th><th>c2</th><th>c3</th><th>c4</th><th>c5</th><th>c6</th><th>c7</th><th>c8</th><th>c9</th><th>c10</th><th>c11</th><th>c12</th><th>c13</th><th>c14</th><th>c15</th></tr><tr><td>i64</td><td>str</td><td>datetime[μs]</td><td>i64</td><td>i64</td><td>str</td><td>str</td><td>u16</td><td>f32</td><td>str</td><td>str</td><td>u16</td><td>f32</td><td>str</td><td>str</td><td>str</td></tr></thead><tbody><tr><td>0</td><td>&quot;F@&quot;</td><td>1970-01-01 08:00:00.222152</td><td>2551</td><td>355</td><td>&quot;P&quot;</td><td>&quot;TSLA__220701P0…</td><td>0</td><td>0.0</td><td>&quot;n&quot;</td><td>&quot;C&quot;</td><td>0</td><td>0.0</td><td>&quot;n&quot;</td><td>&quot;C&quot;</td><td>&quot;F&quot;</td></tr><tr><td>1</td><td>&quot;F@&quot;</td><td>1970-01-01 08:00:00.615769</td><td>7252</td><td>356</td><td>&quot;P&quot;</td><td>&quot;TSLA__220701P0…</td><td>0</td><td>0.0</td><td>&quot;n&quot;</td><td>&quot;Z&quot;</td><td>0</td><td>0.0</td><td>&quot;n&quot;</td><td>&quot;Z&quot;</td><td>&quot;F&quot;</td></tr><tr><td>2</td><td>&quot;F@&quot;</td><td>1970-01-01 08:00:00.713366</td><td>8472</td><td>356</td><td>&quot;P&quot;</td><td>&quot;TSLA__220701P0…</td><td>0</td><td>0.0</td><td>&quot;n&quot;</td><td>&quot;E&quot;</td><td>0</td><td>0.0</td><td>&quot;n&quot;</td><td>&quot;E&quot;</td><td>&quot;F&quot;</td></tr><tr><td>3</td><td>&quot;F@&quot;</td><td>1970-01-01 08:00:00.798920</td><td>9413</td><td>356</td><td>&quot;P&quot;</td><td>&quot;TSLA__220701P0…</td><td>0</td><td>0.0</td><td>&quot;n&quot;</td><td>&quot;W&quot;</td><td>0</td><td>0.0</td><td>&quot;n&quot;</td><td>&quot;W&quot;</td><td>&quot;F&quot;</td></tr><tr><td>4</td><td>&quot;F@&quot;</td><td>1970-01-01 08:30:00.221420</td><td>13077</td><td>357</td><td>&quot;P&quot;</td><td>&quot;TSLA__220701P0…</td><td>0</td><td>0.0</td><td>&quot;n&quot;</td><td>&quot;C&quot;</td><td>0</td><td>0.0</td><td>&quot;n&quot;</td><td>&quot;C&quot;</td><td>&quot;F&quot;</td></tr></tbody></table></div>"
     },
     "execution_count": 2,
     "metadata": {},
     "output_type": "execute_result"
    }
   ],
   "source": [
    "col_names = [f'c{i}' for i in range(16)]\n",
    "df = pl.read_csv(\n",
    "    'data/raw/temp_tesla.csv',\n",
    "     separator=',',\n",
    "     has_header=False,\n",
    "     new_columns=col_names,\n",
    "     ignore_errors=True,\n",
    "     skip_rows=1\n",
    ")\n",
    "df = df.filter(pl.col('c1') != 'FT')\n",
    "df = cast_types(df)\n",
    "df.head()"
   ],
   "metadata": {
    "collapsed": false,
    "ExecuteTime": {
     "end_time": "2023-06-13T13:22:28.631628900Z",
     "start_time": "2023-06-13T13:22:27.118121800Z"
    }
   }
  },
  {
   "cell_type": "code",
   "execution_count": 3,
   "outputs": [
    {
     "name": "stdout",
     "output_type": "stream",
     "text": [
      "CPU times: total: 1min 3s\n",
      "Wall time: 48.2 s\n"
     ]
    },
    {
     "data": {
      "text/plain": "shape: (5, 5)\n┌─────────────────┬──────────┬───────────┬──────────┬───────────┐\n│ time            ┆ bid_size ┆ bid_price ┆ ask_size ┆ ask_price │\n│ ---             ┆ ---      ┆ ---       ┆ ---      ┆ ---       │\n│ time            ┆ f64      ┆ f32       ┆ f64      ┆ f32       │\n╞═════════════════╪══════════╪═══════════╪══════════╪═══════════╡\n│ 08:00:00.222152 ┆ 0.0      ┆ 0.0       ┆ 0.0      ┆ 0.0       │\n│ 08:00:00.615769 ┆ 0.0      ┆ 0.0       ┆ 0.0      ┆ 0.0       │\n│ 08:00:00.713366 ┆ 0.0      ┆ 0.0       ┆ 0.0      ┆ 0.0       │\n│ 08:00:00.798920 ┆ 0.0      ┆ 0.0       ┆ 0.0      ┆ 0.0       │\n│ 08:30:00.221420 ┆ 0.0      ┆ 0.0       ┆ 0.0      ┆ 0.0       │\n└─────────────────┴──────────┴───────────┴──────────┴───────────┘",
      "text/html": "<div><style>\n.dataframe > thead > tr > th,\n.dataframe > tbody > tr > td {\n  text-align: right;\n}\n</style>\n<small>shape: (5, 5)</small><table border=\"1\" class=\"dataframe\"><thead><tr><th>time</th><th>bid_size</th><th>bid_price</th><th>ask_size</th><th>ask_price</th></tr><tr><td>time</td><td>f64</td><td>f32</td><td>f64</td><td>f32</td></tr></thead><tbody><tr><td>08:00:00.222152</td><td>0.0</td><td>0.0</td><td>0.0</td><td>0.0</td></tr><tr><td>08:00:00.615769</td><td>0.0</td><td>0.0</td><td>0.0</td><td>0.0</td></tr><tr><td>08:00:00.713366</td><td>0.0</td><td>0.0</td><td>0.0</td><td>0.0</td></tr><tr><td>08:00:00.798920</td><td>0.0</td><td>0.0</td><td>0.0</td><td>0.0</td></tr><tr><td>08:30:00.221420</td><td>0.0</td><td>0.0</td><td>0.0</td><td>0.0</td></tr></tbody></table></div>"
     },
     "execution_count": 3,
     "metadata": {},
     "output_type": "execute_result"
    }
   ],
   "source": [
    "%%time\n",
    "from src.nbbo import generate_nbbo\n",
    "\n",
    "nbbo, b, a = generate_nbbo(df)\n",
    "nbbo.head()"
   ],
   "metadata": {
    "collapsed": false,
    "ExecuteTime": {
     "end_time": "2023-06-13T13:23:16.950425Z",
     "start_time": "2023-06-13T13:22:28.632628400Z"
    }
   }
  },
  {
   "cell_type": "code",
   "execution_count": 4,
   "outputs": [
    {
     "data": {
      "text/plain": "shape: (5, 5)\n┌─────────────────┬──────────┬───────────┬──────────┬───────────┐\n│ time            ┆ bid_size ┆ bid_price ┆ ask_size ┆ ask_price │\n│ ---             ┆ ---      ┆ ---       ┆ ---      ┆ ---       │\n│ time            ┆ f64      ┆ f32       ┆ f64      ┆ f32       │\n╞═════════════════╪══════════╪═══════════╪══════════╪═══════════╡\n│ 15:59:59.839993 ┆ 7.0      ┆ 0.03      ┆ 1.0      ┆ 0.05      │\n│ 15:59:59.876241 ┆ 7.0      ┆ 0.03      ┆ 1.0      ┆ 0.05      │\n│ 15:59:59.909980 ┆ 7.0      ┆ 0.03      ┆ 1.0      ┆ 0.05      │\n│ 15:59:59.922616 ┆ 7.0      ┆ 0.03      ┆ 1.0      ┆ 0.05      │\n│ 15:59:59.927953 ┆ 7.0      ┆ 0.03      ┆ 1.0      ┆ 0.05      │\n└─────────────────┴──────────┴───────────┴──────────┴───────────┘",
      "text/html": "<div><style>\n.dataframe > thead > tr > th,\n.dataframe > tbody > tr > td {\n  text-align: right;\n}\n</style>\n<small>shape: (5, 5)</small><table border=\"1\" class=\"dataframe\"><thead><tr><th>time</th><th>bid_size</th><th>bid_price</th><th>ask_size</th><th>ask_price</th></tr><tr><td>time</td><td>f64</td><td>f32</td><td>f64</td><td>f32</td></tr></thead><tbody><tr><td>15:59:59.839993</td><td>7.0</td><td>0.03</td><td>1.0</td><td>0.05</td></tr><tr><td>15:59:59.876241</td><td>7.0</td><td>0.03</td><td>1.0</td><td>0.05</td></tr><tr><td>15:59:59.909980</td><td>7.0</td><td>0.03</td><td>1.0</td><td>0.05</td></tr><tr><td>15:59:59.922616</td><td>7.0</td><td>0.03</td><td>1.0</td><td>0.05</td></tr><tr><td>15:59:59.927953</td><td>7.0</td><td>0.03</td><td>1.0</td><td>0.05</td></tr></tbody></table></div>"
     },
     "execution_count": 4,
     "metadata": {},
     "output_type": "execute_result"
    }
   ],
   "source": [
    "nbbo.tail()"
   ],
   "metadata": {
    "collapsed": false,
    "ExecuteTime": {
     "end_time": "2023-06-13T13:23:29.005543900Z",
     "start_time": "2023-06-13T13:23:28.962544300Z"
    }
   }
  },
  {
   "cell_type": "code",
   "execution_count": 6,
   "outputs": [],
   "source": [
    "nbbo.write_csv('data/nbbo/test1.csv')"
   ],
   "metadata": {
    "collapsed": false,
    "ExecuteTime": {
     "end_time": "2023-06-13T13:24:16.989618Z",
     "start_time": "2023-06-13T13:24:15.414626100Z"
    }
   }
  },
  {
   "cell_type": "code",
   "execution_count": null,
   "outputs": [],
   "source": [],
   "metadata": {
    "collapsed": false
   }
  }
 ],
 "metadata": {
  "kernelspec": {
   "display_name": "Python 3",
   "language": "python",
   "name": "python3"
  },
  "language_info": {
   "codemirror_mode": {
    "name": "ipython",
    "version": 2
   },
   "file_extension": ".py",
   "mimetype": "text/x-python",
   "name": "python",
   "nbconvert_exporter": "python",
   "pygments_lexer": "ipython2",
   "version": "2.7.6"
  }
 },
 "nbformat": 4,
 "nbformat_minor": 0
}
