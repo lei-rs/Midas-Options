{
 "cells": [
  {
   "cell_type": "code",
   "execution_count": 1,
   "metadata": {
    "collapsed": true,
    "ExecuteTime": {
     "end_time": "2023-06-06T23:25:03.602274501Z",
     "start_time": "2023-06-06T23:25:03.602042208Z"
    }
   },
   "outputs": [],
   "source": [
    "from src.helpers import *"
   ]
  },
  {
   "cell_type": "code",
   "execution_count": 2,
   "outputs": [],
   "source": [
    "col_names = [f'c{i}' for i in range(1, 16)]"
   ],
   "metadata": {
    "collapsed": false,
    "ExecuteTime": {
     "end_time": "2023-06-06T23:25:04.287170885Z",
     "start_time": "2023-06-06T23:25:04.277099022Z"
    }
   }
  },
  {
   "cell_type": "code",
   "execution_count": 3,
   "outputs": [],
   "source": [
    "df = pl.read_csv(\n",
    "    'data/raw/SPXW__220302P04390000.csv',\n",
    "     separator=' ',\n",
    "     has_header=False,\n",
    "     new_columns=col_names,\n",
    "     ignore_errors=True,\n",
    ")\n",
    "df = cast_types(df)"
   ],
   "metadata": {
    "collapsed": false,
    "ExecuteTime": {
     "end_time": "2023-06-06T23:25:04.915521075Z",
     "start_time": "2023-06-06T23:25:04.910741521Z"
    }
   }
  },
  {
   "cell_type": "code",
   "execution_count": 4,
   "outputs": [
    {
     "data": {
      "text/plain": "shape: (5, 10)\n┌──────────┬──────────┬──────────┬──────────┬───┬──────────┬───────────┬──────────┬───────────┐\n│ floor    ┆ A        ┆ B        ┆ C        ┆ … ┆ bid_size ┆ bid_price ┆ ask_size ┆ ask_price │\n│ ---      ┆ ---      ┆ ---      ┆ ---      ┆   ┆ ---      ┆ ---       ┆ ---      ┆ ---       │\n│ time     ┆ f64      ┆ f64      ┆ f64      ┆   ┆ u16      ┆ f32       ┆ u16      ┆ f32       │\n╞══════════╪══════════╪══════════╪══════════╪═══╪══════════╪═══════════╪══════════╪═══════════╡\n│ 15:56:00 ┆ 0.692153 ┆ 0.048635 ┆ 0.037932 ┆ … ┆ 9        ┆ 3.7       ┆ 30       ┆ 4.2       │\n│ 15:57:00 ┆ 0.621722 ┆ 0.097804 ┆ 0.015767 ┆ … ┆ 1        ┆ 5.3       ┆ 1        ┆ 5.9       │\n│ 15:58:00 ┆ 0.670967 ┆ 0.130972 ┆ 0.000002 ┆ … ┆ 1        ┆ 6.0       ┆ 1        ┆ 6.7       │\n│ 15:59:00 ┆ 0.528441 ┆ 0.105863 ┆ 0.253316 ┆ … ┆ 9        ┆ 3.3       ┆ 1        ┆ 7.0       │\n│ 16:00:00 ┆ null     ┆ null     ┆ null     ┆ … ┆ null     ┆ null      ┆ null     ┆ null      │\n└──────────┴──────────┴──────────┴──────────┴───┴──────────┴───────────┴──────────┴───────────┘",
      "text/html": "<div><style>\n.dataframe > thead > tr > th,\n.dataframe > tbody > tr > td {\n  text-align: right;\n}\n</style>\n<small>shape: (5, 10)</small><table border=\"1\" class=\"dataframe\"><thead><tr><th>floor</th><th>A</th><th>B</th><th>C</th><th>O</th><th>symbol</th><th>bid_size</th><th>bid_price</th><th>ask_size</th><th>ask_price</th></tr><tr><td>time</td><td>f64</td><td>f64</td><td>f64</td><td>f64</td><td>str</td><td>u16</td><td>f32</td><td>u16</td><td>f32</td></tr></thead><tbody><tr><td>15:56:00</td><td>0.692153</td><td>0.048635</td><td>0.037932</td><td>0.22128</td><td>&quot;SPXW__220302P0…</td><td>9</td><td>3.7</td><td>30</td><td>4.2</td></tr><tr><td>15:57:00</td><td>0.621722</td><td>0.097804</td><td>0.015767</td><td>0.264706</td><td>&quot;SPXW__220302P0…</td><td>1</td><td>5.3</td><td>1</td><td>5.9</td></tr><tr><td>15:58:00</td><td>0.670967</td><td>0.130972</td><td>0.000002</td><td>0.198059</td><td>&quot;SPXW__220302P0…</td><td>1</td><td>6.0</td><td>1</td><td>6.7</td></tr><tr><td>15:59:00</td><td>0.528441</td><td>0.105863</td><td>0.253316</td><td>0.11238</td><td>&quot;SPXW__220302P0…</td><td>9</td><td>3.3</td><td>1</td><td>7.0</td></tr><tr><td>16:00:00</td><td>null</td><td>null</td><td>null</td><td>null</td><td>null</td><td>null</td><td>null</td><td>null</td><td>null</td></tr></tbody></table></div>"
     },
     "execution_count": 4,
     "metadata": {},
     "output_type": "execute_result"
    }
   ],
   "source": [
    "from src.quote import QuoteReport\n",
    "\n",
    "qr = QuoteReport(df)\n",
    "qr.generate().tail()"
   ],
   "metadata": {
    "collapsed": false,
    "ExecuteTime": {
     "end_time": "2023-06-06T23:25:05.803609923Z",
     "start_time": "2023-06-06T23:25:05.588675844Z"
    }
   }
  },
  {
   "cell_type": "code",
   "execution_count": 5,
   "outputs": [
    {
     "name": "stdout",
     "output_type": "stream",
     "text": [
      "CPU times: user 298 ms, sys: 76.9 ms, total: 375 ms\n",
      "Wall time: 104 ms\n"
     ]
    }
   ],
   "source": [
    "%%time\n",
    "test = qr.generate()"
   ],
   "metadata": {
    "collapsed": false,
    "ExecuteTime": {
     "end_time": "2023-06-06T23:25:08.174394358Z",
     "start_time": "2023-06-06T23:25:08.069179918Z"
    }
   }
  },
  {
   "cell_type": "code",
   "execution_count": 6,
   "outputs": [
    {
     "data": {
      "text/plain": "shape: (20, 15)\n┌─────┬────────────────────────────┬────────┬─────┬───┬───────────┬─────┬─────┬─────┐\n│ c1  ┆ c2                         ┆ c3     ┆ c4  ┆ … ┆ c12       ┆ c13 ┆ c14 ┆ c15 │\n│ --- ┆ ---                        ┆ ---    ┆ --- ┆   ┆ ---       ┆ --- ┆ --- ┆ --- │\n│ str ┆ datetime[μs]               ┆ i64    ┆ i64 ┆   ┆ f32       ┆ str ┆ str ┆ str │\n╞═════╪════════════════════════════╪════════╪═════╪═══╪═══════════╪═════╪═════╪═════╡\n│ F@  ┆ 1970-01-01 03:00:00.419064 ┆ 81065  ┆ 352 ┆ … ┆ 99.800003 ┆ -   ┆ C   ┆ A   │\n│ F@  ┆ 1970-01-01 03:00:00.768722 ┆ 139585 ┆ 352 ┆ … ┆ 98.300003 ┆ -   ┆ C   ┆ A   │\n│ F@  ┆ 1970-01-01 03:00:00.803435 ┆ 144021 ┆ 352 ┆ … ┆ 98.300003 ┆ -   ┆ C   ┆ A   │\n│ F@  ┆ 1970-01-01 03:00:00.807038 ┆ 144546 ┆ 352 ┆ … ┆ 98.300003 ┆ -   ┆ C   ┆ A   │\n│ …   ┆ …                          ┆ …      ┆ …   ┆ … ┆ …         ┆ …   ┆ …   ┆ …   │\n│ F@  ┆ 1970-01-01 03:00:01.879072 ┆ 206803 ┆ 351 ┆ … ┆ 97.5      ┆ -   ┆ C   ┆ A   │\n│ F@  ┆ 1970-01-01 03:00:01.925850 ┆ 214126 ┆ 352 ┆ … ┆ 97.5      ┆ -   ┆ C   ┆ A   │\n│ F@  ┆ 1970-01-01 03:00:01.930841 ┆ 214948 ┆ 352 ┆ … ┆ 97.5      ┆ -   ┆ C   ┆ A   │\n│ F@  ┆ 1970-01-01 03:00:01.952598 ┆ 219070 ┆ 352 ┆ … ┆ 97.5      ┆ -   ┆ C   ┆ A   │\n└─────┴────────────────────────────┴────────┴─────┴───┴───────────┴─────┴─────┴─────┘",
      "text/html": "<div><style>\n.dataframe > thead > tr > th,\n.dataframe > tbody > tr > td {\n  text-align: right;\n}\n</style>\n<small>shape: (20, 15)</small><table border=\"1\" class=\"dataframe\"><thead><tr><th>c1</th><th>c2</th><th>c3</th><th>c4</th><th>c5</th><th>c6</th><th>c7</th><th>c8</th><th>c9</th><th>c10</th><th>c11</th><th>c12</th><th>c13</th><th>c14</th><th>c15</th></tr><tr><td>str</td><td>datetime[μs]</td><td>i64</td><td>i64</td><td>str</td><td>str</td><td>u16</td><td>f32</td><td>str</td><td>str</td><td>u16</td><td>f32</td><td>str</td><td>str</td><td>str</td></tr></thead><tbody><tr><td>&quot;F@&quot;</td><td>1970-01-01 03:00:00.419064</td><td>81065</td><td>352</td><td>&quot;P&quot;</td><td>&quot;SPXW__220302P0…</td><td>1</td><td>91.5</td><td>&quot;-&quot;</td><td>&quot;C&quot;</td><td>5</td><td>99.800003</td><td>&quot;-&quot;</td><td>&quot;C&quot;</td><td>&quot;A&quot;</td></tr><tr><td>&quot;F@&quot;</td><td>1970-01-01 03:00:00.768722</td><td>139585</td><td>352</td><td>&quot;P&quot;</td><td>&quot;SPXW__220302P0…</td><td>10</td><td>90.300003</td><td>&quot;-&quot;</td><td>&quot;C&quot;</td><td>1</td><td>98.300003</td><td>&quot;-&quot;</td><td>&quot;C&quot;</td><td>&quot;A&quot;</td></tr><tr><td>&quot;F@&quot;</td><td>1970-01-01 03:00:00.803435</td><td>144021</td><td>352</td><td>&quot;P&quot;</td><td>&quot;SPXW__220302P0…</td><td>4</td><td>91.900002</td><td>&quot;-&quot;</td><td>&quot;C&quot;</td><td>1</td><td>98.300003</td><td>&quot;-&quot;</td><td>&quot;C&quot;</td><td>&quot;A&quot;</td></tr><tr><td>&quot;F@&quot;</td><td>1970-01-01 03:00:00.807038</td><td>144546</td><td>352</td><td>&quot;P&quot;</td><td>&quot;SPXW__220302P0…</td><td>4</td><td>91.599998</td><td>&quot;-&quot;</td><td>&quot;C&quot;</td><td>1</td><td>98.300003</td><td>&quot;-&quot;</td><td>&quot;C&quot;</td><td>&quot;A&quot;</td></tr><tr><td>&quot;F@&quot;</td><td>1970-01-01 03:00:00.809469</td><td>144834</td><td>352</td><td>&quot;P&quot;</td><td>&quot;SPXW__220302P0…</td><td>4</td><td>91.599998</td><td>&quot;-&quot;</td><td>&quot;C&quot;</td><td>4</td><td>95.099998</td><td>&quot;-&quot;</td><td>&quot;C&quot;</td><td>&quot;A&quot;</td></tr><tr><td>&quot;F@&quot;</td><td>1970-01-01 03:00:00.810461</td><td>145050</td><td>352</td><td>&quot;P&quot;</td><td>&quot;SPXW__220302P0…</td><td>4</td><td>91.599998</td><td>&quot;-&quot;</td><td>&quot;C&quot;</td><td>4</td><td>95.300003</td><td>&quot;-&quot;</td><td>&quot;C&quot;</td><td>&quot;A&quot;</td></tr><tr><td>&quot;F@&quot;</td><td>1970-01-01 03:00:00.939499</td><td>150217</td><td>352</td><td>&quot;P&quot;</td><td>&quot;SPXW__220302P0…</td><td>4</td><td>91.400002</td><td>&quot;-&quot;</td><td>&quot;C&quot;</td><td>4</td><td>95.300003</td><td>&quot;-&quot;</td><td>&quot;C&quot;</td><td>&quot;A&quot;</td></tr><tr><td>&quot;F@&quot;</td><td>1970-01-01 03:00:01.035518</td><td>151596</td><td>352</td><td>&quot;P&quot;</td><td>&quot;SPXW__220302P0…</td><td>4</td><td>91.400002</td><td>&quot;-&quot;</td><td>&quot;C&quot;</td><td>1</td><td>98.300003</td><td>&quot;-&quot;</td><td>&quot;C&quot;</td><td>&quot;A&quot;</td></tr><tr><td>&quot;F@&quot;</td><td>1970-01-01 03:00:01.036144</td><td>151946</td><td>352</td><td>&quot;P&quot;</td><td>&quot;SPXW__220302P0…</td><td>5</td><td>89.099998</td><td>&quot;-&quot;</td><td>&quot;C&quot;</td><td>1</td><td>98.300003</td><td>&quot;-&quot;</td><td>&quot;C&quot;</td><td>&quot;A&quot;</td></tr><tr><td>&quot;F@&quot;</td><td>1970-01-01 03:00:01.040199</td><td>152653</td><td>352</td><td>&quot;P&quot;</td><td>&quot;SPXW__220302P0…</td><td>4</td><td>91.900002</td><td>&quot;-&quot;</td><td>&quot;C&quot;</td><td>1</td><td>98.300003</td><td>&quot;-&quot;</td><td>&quot;C&quot;</td><td>&quot;A&quot;</td></tr><tr><td>&quot;F@&quot;</td><td>1970-01-01 03:00:01.042018</td><td>153032</td><td>352</td><td>&quot;P&quot;</td><td>&quot;SPXW__220302P0…</td><td>4</td><td>91.599998</td><td>&quot;-&quot;</td><td>&quot;C&quot;</td><td>1</td><td>98.300003</td><td>&quot;-&quot;</td><td>&quot;C&quot;</td><td>&quot;A&quot;</td></tr><tr><td>&quot;F@&quot;</td><td>1970-01-01 03:00:01.141094</td><td>155628</td><td>352</td><td>&quot;P&quot;</td><td>&quot;SPXW__220302P0…</td><td>1</td><td>88.300003</td><td>&quot;-&quot;</td><td>&quot;C&quot;</td><td>1</td><td>98.300003</td><td>&quot;-&quot;</td><td>&quot;C&quot;</td><td>&quot;A&quot;</td></tr><tr><td>&quot;F@&quot;</td><td>1970-01-01 03:00:01.830914</td><td>202803</td><td>353</td><td>&quot;P&quot;</td><td>&quot;SPXW__220302P0…</td><td>1</td><td>88.300003</td><td>&quot;-&quot;</td><td>&quot;C&quot;</td><td>4</td><td>94.099998</td><td>&quot;-&quot;</td><td>&quot;C&quot;</td><td>&quot;A&quot;</td></tr><tr><td>&quot;F@&quot;</td><td>1970-01-01 03:00:01.831675</td><td>203047</td><td>351</td><td>&quot;P&quot;</td><td>&quot;SPXW__220302P0…</td><td>4</td><td>90.900002</td><td>&quot;-&quot;</td><td>&quot;C&quot;</td><td>4</td><td>94.099998</td><td>&quot;-&quot;</td><td>&quot;C&quot;</td><td>&quot;A&quot;</td></tr><tr><td>&quot;F@&quot;</td><td>1970-01-01 03:00:01.845974</td><td>203771</td><td>352</td><td>&quot;P&quot;</td><td>&quot;SPXW__220302P0…</td><td>4</td><td>90.900002</td><td>&quot;-&quot;</td><td>&quot;C&quot;</td><td>1</td><td>98.300003</td><td>&quot;-&quot;</td><td>&quot;C&quot;</td><td>&quot;A&quot;</td></tr><tr><td>&quot;F@&quot;</td><td>1970-01-01 03:00:01.847137</td><td>204143</td><td>352</td><td>&quot;P&quot;</td><td>&quot;SPXW__220302P0…</td><td>1</td><td>88.300003</td><td>&quot;-&quot;</td><td>&quot;C&quot;</td><td>1</td><td>98.300003</td><td>&quot;-&quot;</td><td>&quot;C&quot;</td><td>&quot;A&quot;</td></tr><tr><td>&quot;F@&quot;</td><td>1970-01-01 03:00:01.879072</td><td>206803</td><td>351</td><td>&quot;P&quot;</td><td>&quot;SPXW__220302P0…</td><td>1</td><td>88.300003</td><td>&quot;-&quot;</td><td>&quot;C&quot;</td><td>5</td><td>97.5</td><td>&quot;-&quot;</td><td>&quot;C&quot;</td><td>&quot;A&quot;</td></tr><tr><td>&quot;F@&quot;</td><td>1970-01-01 03:00:01.925850</td><td>214126</td><td>352</td><td>&quot;P&quot;</td><td>&quot;SPXW__220302P0…</td><td>4</td><td>90.599998</td><td>&quot;-&quot;</td><td>&quot;C&quot;</td><td>5</td><td>97.5</td><td>&quot;-&quot;</td><td>&quot;C&quot;</td><td>&quot;A&quot;</td></tr><tr><td>&quot;F@&quot;</td><td>1970-01-01 03:00:01.930841</td><td>214948</td><td>352</td><td>&quot;P&quot;</td><td>&quot;SPXW__220302P0…</td><td>4</td><td>90.400002</td><td>&quot;-&quot;</td><td>&quot;C&quot;</td><td>5</td><td>97.5</td><td>&quot;-&quot;</td><td>&quot;C&quot;</td><td>&quot;A&quot;</td></tr><tr><td>&quot;F@&quot;</td><td>1970-01-01 03:00:01.952598</td><td>219070</td><td>352</td><td>&quot;P&quot;</td><td>&quot;SPXW__220302P0…</td><td>1</td><td>88.300003</td><td>&quot;-&quot;</td><td>&quot;C&quot;</td><td>5</td><td>97.5</td><td>&quot;-&quot;</td><td>&quot;C&quot;</td><td>&quot;A&quot;</td></tr></tbody></table></div>"
     },
     "execution_count": 6,
     "metadata": {},
     "output_type": "execute_result"
    }
   ],
   "source": [
    "df.head(20)"
   ],
   "metadata": {
    "collapsed": false,
    "ExecuteTime": {
     "end_time": "2023-06-06T23:25:10.495158570Z",
     "start_time": "2023-06-06T23:25:10.489901078Z"
    }
   }
  },
  {
   "cell_type": "code",
   "execution_count": 7,
   "outputs": [
    {
     "data": {
      "text/plain": "shape: (5, 10)\n┌──────────┬───────────┬──────┬──────┬───┬──────────┬───────────┬──────────┬───────────┐\n│ floor    ┆ A         ┆ B    ┆ C    ┆ … ┆ bid_size ┆ bid_price ┆ ask_size ┆ ask_price │\n│ ---      ┆ ---       ┆ ---  ┆ ---  ┆   ┆ ---      ┆ ---       ┆ ---      ┆ ---       │\n│ time     ┆ f64       ┆ f64  ┆ f64  ┆   ┆ u16      ┆ f32       ┆ u16      ┆ f32       │\n╞══════════╪═══════════╪══════╪══════╪═══╪══════════╪═══════════╪══════════╪═══════════╡\n│ 03:00:00 ┆ 0.9930156 ┆ null ┆ null ┆ … ┆ 5        ┆ 83.599998 ┆ 1        ┆ 93.099998 │\n│ 03:01:00 ┆ 1.0       ┆ null ┆ null ┆ … ┆ 4        ┆ 86.900002 ┆ 4        ┆ 90.599998 │\n│ 03:02:00 ┆ 1.0       ┆ null ┆ null ┆ … ┆ 4        ┆ 89.800003 ┆ 4        ┆ 93.300003 │\n│ 03:03:00 ┆ 1.0       ┆ null ┆ null ┆ … ┆ 4        ┆ 91.300003 ┆ 4        ┆ 95.0      │\n│ 03:04:00 ┆ 1.0       ┆ null ┆ null ┆ … ┆ 15       ┆ 92.5      ┆ 4        ┆ 96.300003 │\n└──────────┴───────────┴──────┴──────┴───┴──────────┴───────────┴──────────┴───────────┘",
      "text/html": "<div><style>\n.dataframe > thead > tr > th,\n.dataframe > tbody > tr > td {\n  text-align: right;\n}\n</style>\n<small>shape: (5, 10)</small><table border=\"1\" class=\"dataframe\"><thead><tr><th>floor</th><th>A</th><th>B</th><th>C</th><th>O</th><th>symbol</th><th>bid_size</th><th>bid_price</th><th>ask_size</th><th>ask_price</th></tr><tr><td>time</td><td>f64</td><td>f64</td><td>f64</td><td>f64</td><td>str</td><td>u16</td><td>f32</td><td>u16</td><td>f32</td></tr></thead><tbody><tr><td>03:00:00</td><td>0.9930156</td><td>null</td><td>null</td><td>null</td><td>&quot;SPXW__220302P0…</td><td>5</td><td>83.599998</td><td>1</td><td>93.099998</td></tr><tr><td>03:01:00</td><td>1.0</td><td>null</td><td>null</td><td>null</td><td>&quot;SPXW__220302P0…</td><td>4</td><td>86.900002</td><td>4</td><td>90.599998</td></tr><tr><td>03:02:00</td><td>1.0</td><td>null</td><td>null</td><td>null</td><td>&quot;SPXW__220302P0…</td><td>4</td><td>89.800003</td><td>4</td><td>93.300003</td></tr><tr><td>03:03:00</td><td>1.0</td><td>null</td><td>null</td><td>null</td><td>&quot;SPXW__220302P0…</td><td>4</td><td>91.300003</td><td>4</td><td>95.0</td></tr><tr><td>03:04:00</td><td>1.0</td><td>null</td><td>null</td><td>null</td><td>&quot;SPXW__220302P0…</td><td>15</td><td>92.5</td><td>4</td><td>96.300003</td></tr></tbody></table></div>"
     },
     "execution_count": 7,
     "metadata": {},
     "output_type": "execute_result"
    }
   ],
   "source": [
    "test.head()"
   ],
   "metadata": {
    "collapsed": false,
    "ExecuteTime": {
     "end_time": "2023-06-06T23:25:13.900257925Z",
     "start_time": "2023-06-06T23:25:13.898474939Z"
    }
   }
  },
  {
   "cell_type": "code",
   "execution_count": 8,
   "outputs": [],
   "source": [
    "test.write_csv('data/quote reports/qr2.csv', float_precision=2)"
   ],
   "metadata": {
    "collapsed": false,
    "ExecuteTime": {
     "end_time": "2023-06-06T23:25:16.063117126Z",
     "start_time": "2023-06-06T23:25:16.056685471Z"
    }
   }
  },
  {
   "cell_type": "code",
   "execution_count": null,
   "outputs": [],
   "source": [],
   "metadata": {
    "collapsed": false
   }
  }
 ],
 "metadata": {
  "kernelspec": {
   "display_name": "Python 3",
   "language": "python",
   "name": "python3"
  },
  "language_info": {
   "codemirror_mode": {
    "name": "ipython",
    "version": 2
   },
   "file_extension": ".py",
   "mimetype": "text/x-python",
   "name": "python",
   "nbconvert_exporter": "python",
   "pygments_lexer": "ipython2",
   "version": "2.7.6"
  }
 },
 "nbformat": 4,
 "nbformat_minor": 0
}
