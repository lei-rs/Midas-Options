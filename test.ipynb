{
 "cells": [
  {
   "cell_type": "code",
   "execution_count": 1,
   "outputs": [],
   "source": [
    "import polars as pl\n",
    "from src.helpers import prep_quotes\n",
    "\n",
    "df = pl.read_parquet(\"data/temp_tesla.parquet\")\n",
    "df.columns = [f\"c{i}\" for i in range(1, 16)]\n",
    "df = prep_quotes(df.lazy())"
   ],
   "metadata": {
    "collapsed": false,
    "ExecuteTime": {
     "end_time": "2024-04-06T01:59:20.296863Z",
     "start_time": "2024-04-06T01:59:19.840998Z"
    }
   }
  },
  {
   "cell_type": "code",
   "outputs": [
    {
     "ename": "ComputeError",
     "evalue": "the name: 'literal' passed to `LazyFrame.with_columns` is duplicate\n\nIt's possible that multiple expressions are returning the same default column name. If this is the case, try renaming the columns with `.alias(\"new_name\")` to avoid duplicate column names.\n\nError originated just after this operation:\n WITH_COLUMNS:\n [col(\"bid_price_exchange_C\").fill_null([0]), col(\"bid_price_exchange_Z\").fill_null([0]), col(\"bid_price_exchange_E\").fill_null([0]), col(\"bid_price_exchange_W\").fill_null([0]), col(\"bid_price_exchange_X\").fill_null([0]), col(\"bid_price_exchange_J\").fill_null([0]), col(\"bid_price_exchange_I\").fill_null([0]), col(\"bid_price_exchange_H\").fill_null([0]), col(\"bid_price_exchange_T\").fill_null([0]), col(\"bid_price_exchange_Q\").fill_null([0]), col(\"bid_price_exchange_N\").fill_null([0]), col(\"bid_price_exchange_A\").fill_null([0]), col(\"bid_price_exchange_D\").fill_null([0]), col(\"bid_price_exchange_P\").fill_null([0]), col(\"bid_price_exchange_M\").fill_null([0]), col(\"bid_price_exchange_B\").fill_null([0]), col(\"ask_price_exchange_C\").fill_null([inf]), col(\"ask_price_exchange_Z\").fill_null([inf]), col(\"ask_price_exchange_E\").fill_null([inf]), col(\"ask_price_exchange_W\").fill_null([inf]), col(\"ask_price_exchange_X\").fill_null([inf]), col(\"ask_price_exchange_J\").fill_null([inf]), col(\"ask_price_exchange_I\").fill_null([inf]), col(\"ask_price_exchange_H\").fill_null([inf]), col(\"ask_price_exchange_T\").fill_null([inf]), col(\"ask_price_exchange_Q\").fill_null([inf]), col(\"ask_price_exchange_N\").fill_null([inf]), col(\"ask_price_exchange_A\").fill_null([inf]), col(\"ask_price_exchange_D\").fill_null([inf]), col(\"ask_price_exchange_P\").fill_null([inf]), col(\"ask_price_exchange_M\").fill_null([inf]), col(\"ask_price_exchange_B\").fill_null([inf])]\n   SELECT [col(\"seq\").forward_fill(), col(\"bid_size_exchange_C\").forward_fill(), col(\"bid_size_exchange_Z\").forward_fill(), col(\"bid_size_exchange_E\").forward_fill(), col(\"bid_size_exchange_W\").forward_fill(), col(\"bid_size_exchange_X\").forward_fill(), col(\"bid_size_exchange_J\").forward_fill(), col(\"bid_size_exchange_I\").forward_fill(), col(\"bid_size_exchange_H\").forward_fill(), col(\"bid_size_exchange_T\").forward_fill(), col(\"bid_size_exchange_Q\").forward_fill(), col(\"bid_size_exchange_N\").forward_fill(), col(\"bid_size_exchange_A\").forward_fill(), col(\"bid_size_exchange_D\").forward_fill(), col(\"bid_size_exchange_P\").forward_fill(), col(\"bid_size_exchange_M\").forward_fill(), col(\"bid_size_exchange_B\").forward_fill(), col(\"bid_price_exchange_C\").forward_fill(), col(\"bid_price_exchange_Z\").forward_fill(), col(\"bid_price_exchange_E\").forward_fill(), col(\"bid_price_exchange_W\").forward_fill(), col(\"bid_price_exchange_X\").forward_fill(), col(\"bid_price_exchange_J\").forward_fill(), col(\"bid_price_exchange_I\").forward_fill(), col(\"bid_price_exchange_H\").forward_fill(), col(\"bid_price_exchange_T\").forward_fill(), col(\"bid_price_exchange_Q\").forward_fill(), col(\"bid_price_exchange_N\").forward_fill(), col(\"bid_price_exchange_A\").forward_fill(), col(\"bid_price_exchange_D\").forward_fill(), col(\"bid_price_exchange_P\").forward_fill(), col(\"bid_price_exchange_M\").forward_fill(), col(\"bid_price_exchange_B\").forward_fill(), col(\"ask_size_exchange_C\").forward_fill(), col(\"ask_size_exchange_Z\").forward_fill(), col(\"ask_size_exchange_E\").forward_fill(), col(\"ask_size_exchange_W\").forward_fill(), col(\"ask_size_exchange_X\").forward_fill(), col(\"ask_size_exchange_J\").forward_fill(), col(\"ask_size_exchange_I\").forward_fill(), col(\"ask_size_exchange_H\").forward_fill(), col(\"ask_size_exchange_T\").forward_fill(), col(\"ask_size_exchange_Q\").forward_fill(), col(\"ask_size_exchange_N\").forward_fill(), col(\"ask_size_exchange_A\").forward_fill(), col(\"ask_size_exchange_D\").forward_fill(), col(\"ask_size_exchange_P\").forward_fill(), col(\"ask_size_exchange_M\").forward_fill(), col(\"ask_size_exchange_B\").forward_fill(), col(\"ask_price_exchange_C\").forward_fill(), col(\"ask_price_exchange_Z\").forward_fill(), col(\"ask_price_exchange_E\").forward_fill(), col(\"ask_price_exchange_W\").forward_fill(), col(\"ask_price_exchange_X\").forward_fill(), col(\"ask_price_exchange_J\").forward_fill(), col(\"ask_price_exchange_I\").forward_fill(), col(\"ask_price_exchange_H\").forward_fill(), col(\"ask_price_exchange_T\").forward_fill(), col(\"ask_price_exchange_Q\").forward_fill(), col(\"ask_price_exchange_N\").forward_fill(), col(\"ask_price_exchange_A\").forward_fill(), col(\"ask_price_exchange_D\").forward_fill(), col(\"ask_price_exchange_P\").forward_fill(), col(\"ask_price_exchange_M\").forward_fill(), col(\"ask_price_exchange_B\").forward_fill()] FROM\n    DF [\"seq\", \"bid_size_exchange_C\", \"bid_size_exchange_Z\", \"bid_size_exchange_E\"]; PROJECT */65 COLUMNS; SELECTION: \"None\"\n\nLogicalPlan had already failed with the above error; after failure, 4 additional operations were attempted on the LazyFrame",
     "output_type": "error",
     "traceback": [
      "\u001B[0;31m---------------------------------------------------------------------------\u001B[0m",
      "\u001B[0;31mComputeError\u001B[0m                              Traceback (most recent call last)",
      "Cell \u001B[0;32mIn[2], line 3\u001B[0m\n\u001B[1;32m      1\u001B[0m \u001B[38;5;28;01mfrom\u001B[39;00m \u001B[38;5;21;01msrc\u001B[39;00m\u001B[38;5;21;01m.\u001B[39;00m\u001B[38;5;21;01mnbbo\u001B[39;00m \u001B[38;5;28;01mimport\u001B[39;00m generate_nbbo\n\u001B[0;32m----> 3\u001B[0m \u001B[43mgenerate_nbbo\u001B[49m\u001B[43m(\u001B[49m\u001B[43mdf\u001B[49m\u001B[38;5;241;43m.\u001B[39;49m\u001B[43mcollect\u001B[49m\u001B[43m(\u001B[49m\u001B[43m)\u001B[49m\u001B[43m)\u001B[49m\u001B[38;5;241;43m.\u001B[39;49m\u001B[43mcollect\u001B[49m\u001B[43m(\u001B[49m\u001B[43m)\u001B[49m\u001B[38;5;241m.\u001B[39mwrite_parquet(\u001B[38;5;124m\"\u001B[39m\u001B[38;5;124mnbbo.parquet\u001B[39m\u001B[38;5;124m\"\u001B[39m)\n",
      "File \u001B[0;32m~/Code/Midas-Options/.venv/lib/python3.10/site-packages/polars/lazyframe/frame.py:1943\u001B[0m, in \u001B[0;36mLazyFrame.collect\u001B[0;34m(self, type_coercion, predicate_pushdown, projection_pushdown, simplify_expression, slice_pushdown, comm_subplan_elim, comm_subexpr_elim, no_optimization, streaming, background, _eager)\u001B[0m\n\u001B[1;32m   1940\u001B[0m \u001B[38;5;28;01mif\u001B[39;00m background:\n\u001B[1;32m   1941\u001B[0m     \u001B[38;5;28;01mreturn\u001B[39;00m InProcessQuery(ldf\u001B[38;5;241m.\u001B[39mcollect_concurrently())\n\u001B[0;32m-> 1943\u001B[0m \u001B[38;5;28;01mreturn\u001B[39;00m wrap_df(\u001B[43mldf\u001B[49m\u001B[38;5;241;43m.\u001B[39;49m\u001B[43mcollect\u001B[49m\u001B[43m(\u001B[49m\u001B[43m)\u001B[49m)\n",
      "\u001B[0;31mComputeError\u001B[0m: the name: 'literal' passed to `LazyFrame.with_columns` is duplicate\n\nIt's possible that multiple expressions are returning the same default column name. If this is the case, try renaming the columns with `.alias(\"new_name\")` to avoid duplicate column names.\n\nError originated just after this operation:\n WITH_COLUMNS:\n [col(\"bid_price_exchange_C\").fill_null([0]), col(\"bid_price_exchange_Z\").fill_null([0]), col(\"bid_price_exchange_E\").fill_null([0]), col(\"bid_price_exchange_W\").fill_null([0]), col(\"bid_price_exchange_X\").fill_null([0]), col(\"bid_price_exchange_J\").fill_null([0]), col(\"bid_price_exchange_I\").fill_null([0]), col(\"bid_price_exchange_H\").fill_null([0]), col(\"bid_price_exchange_T\").fill_null([0]), col(\"bid_price_exchange_Q\").fill_null([0]), col(\"bid_price_exchange_N\").fill_null([0]), col(\"bid_price_exchange_A\").fill_null([0]), col(\"bid_price_exchange_D\").fill_null([0]), col(\"bid_price_exchange_P\").fill_null([0]), col(\"bid_price_exchange_M\").fill_null([0]), col(\"bid_price_exchange_B\").fill_null([0]), col(\"ask_price_exchange_C\").fill_null([inf]), col(\"ask_price_exchange_Z\").fill_null([inf]), col(\"ask_price_exchange_E\").fill_null([inf]), col(\"ask_price_exchange_W\").fill_null([inf]), col(\"ask_price_exchange_X\").fill_null([inf]), col(\"ask_price_exchange_J\").fill_null([inf]), col(\"ask_price_exchange_I\").fill_null([inf]), col(\"ask_price_exchange_H\").fill_null([inf]), col(\"ask_price_exchange_T\").fill_null([inf]), col(\"ask_price_exchange_Q\").fill_null([inf]), col(\"ask_price_exchange_N\").fill_null([inf]), col(\"ask_price_exchange_A\").fill_null([inf]), col(\"ask_price_exchange_D\").fill_null([inf]), col(\"ask_price_exchange_P\").fill_null([inf]), col(\"ask_price_exchange_M\").fill_null([inf]), col(\"ask_price_exchange_B\").fill_null([inf])]\n   SELECT [col(\"seq\").forward_fill(), col(\"bid_size_exchange_C\").forward_fill(), col(\"bid_size_exchange_Z\").forward_fill(), col(\"bid_size_exchange_E\").forward_fill(), col(\"bid_size_exchange_W\").forward_fill(), col(\"bid_size_exchange_X\").forward_fill(), col(\"bid_size_exchange_J\").forward_fill(), col(\"bid_size_exchange_I\").forward_fill(), col(\"bid_size_exchange_H\").forward_fill(), col(\"bid_size_exchange_T\").forward_fill(), col(\"bid_size_exchange_Q\").forward_fill(), col(\"bid_size_exchange_N\").forward_fill(), col(\"bid_size_exchange_A\").forward_fill(), col(\"bid_size_exchange_D\").forward_fill(), col(\"bid_size_exchange_P\").forward_fill(), col(\"bid_size_exchange_M\").forward_fill(), col(\"bid_size_exchange_B\").forward_fill(), col(\"bid_price_exchange_C\").forward_fill(), col(\"bid_price_exchange_Z\").forward_fill(), col(\"bid_price_exchange_E\").forward_fill(), col(\"bid_price_exchange_W\").forward_fill(), col(\"bid_price_exchange_X\").forward_fill(), col(\"bid_price_exchange_J\").forward_fill(), col(\"bid_price_exchange_I\").forward_fill(), col(\"bid_price_exchange_H\").forward_fill(), col(\"bid_price_exchange_T\").forward_fill(), col(\"bid_price_exchange_Q\").forward_fill(), col(\"bid_price_exchange_N\").forward_fill(), col(\"bid_price_exchange_A\").forward_fill(), col(\"bid_price_exchange_D\").forward_fill(), col(\"bid_price_exchange_P\").forward_fill(), col(\"bid_price_exchange_M\").forward_fill(), col(\"bid_price_exchange_B\").forward_fill(), col(\"ask_size_exchange_C\").forward_fill(), col(\"ask_size_exchange_Z\").forward_fill(), col(\"ask_size_exchange_E\").forward_fill(), col(\"ask_size_exchange_W\").forward_fill(), col(\"ask_size_exchange_X\").forward_fill(), col(\"ask_size_exchange_J\").forward_fill(), col(\"ask_size_exchange_I\").forward_fill(), col(\"ask_size_exchange_H\").forward_fill(), col(\"ask_size_exchange_T\").forward_fill(), col(\"ask_size_exchange_Q\").forward_fill(), col(\"ask_size_exchange_N\").forward_fill(), col(\"ask_size_exchange_A\").forward_fill(), col(\"ask_size_exchange_D\").forward_fill(), col(\"ask_size_exchange_P\").forward_fill(), col(\"ask_size_exchange_M\").forward_fill(), col(\"ask_size_exchange_B\").forward_fill(), col(\"ask_price_exchange_C\").forward_fill(), col(\"ask_price_exchange_Z\").forward_fill(), col(\"ask_price_exchange_E\").forward_fill(), col(\"ask_price_exchange_W\").forward_fill(), col(\"ask_price_exchange_X\").forward_fill(), col(\"ask_price_exchange_J\").forward_fill(), col(\"ask_price_exchange_I\").forward_fill(), col(\"ask_price_exchange_H\").forward_fill(), col(\"ask_price_exchange_T\").forward_fill(), col(\"ask_price_exchange_Q\").forward_fill(), col(\"ask_price_exchange_N\").forward_fill(), col(\"ask_price_exchange_A\").forward_fill(), col(\"ask_price_exchange_D\").forward_fill(), col(\"ask_price_exchange_P\").forward_fill(), col(\"ask_price_exchange_M\").forward_fill(), col(\"ask_price_exchange_B\").forward_fill()] FROM\n    DF [\"seq\", \"bid_size_exchange_C\", \"bid_size_exchange_Z\", \"bid_size_exchange_E\"]; PROJECT */65 COLUMNS; SELECTION: \"None\"\n\nLogicalPlan had already failed with the above error; after failure, 4 additional operations were attempted on the LazyFrame"
     ]
    }
   ],
   "source": [
    "from src.nbbo import generate_nbbo\n",
    "\n",
    "generate_nbbo(df.collect()).collect().write_parquet(\"nbbo.parquet\")"
   ],
   "metadata": {
    "collapsed": false,
    "ExecuteTime": {
     "end_time": "2024-04-06T01:55:44.174280Z",
     "start_time": "2024-04-06T01:55:43.150280Z"
    }
   },
   "execution_count": 2
  },
  {
   "cell_type": "code",
   "outputs": [],
   "source": [
    "from src.nbbo import EquityReport\n",
    "\n",
    "er = EquityReport(df)\n",
    "r = er.generate()"
   ],
   "metadata": {
    "collapsed": false,
    "ExecuteTime": {
     "end_time": "2024-04-06T01:59:25.768218Z",
     "start_time": "2024-04-06T01:59:23.946489Z"
    }
   },
   "execution_count": 2
  },
  {
   "cell_type": "code",
   "outputs": [],
   "source": [
    "r.write_parquet(\"output.parquet\")"
   ],
   "metadata": {
    "collapsed": false,
    "ExecuteTime": {
     "end_time": "2024-04-06T02:00:11.886938Z",
     "start_time": "2024-04-06T02:00:11.879605Z"
    }
   },
   "execution_count": 4
  },
  {
   "cell_type": "code",
   "outputs": [
    {
     "name": "stdout",
     "output_type": "stream",
     "text": [
      "CPU times: user 1.37 s, sys: 440 ms, total: 1.81 s\n",
      "Wall time: 895 ms\n"
     ]
    },
    {
     "data": {
      "text/plain": "shape: (1_531_025, 10)\n┌──────┬─────────────┬───────────┬───────────────┬───┬──────────┬───────────┬──────────┬───────────┐\n│ type ┆ time        ┆ seq       ┆ symbol        ┆ … ┆ ask_size ┆ ask_price ┆ exchange ┆ condition │\n│ ---  ┆ ---         ┆ ---       ┆ ---           ┆   ┆ ---      ┆ ---       ┆ ---      ┆ ---       │\n│ str  ┆ u64         ┆ u32       ┆ str           ┆   ┆ u16      ┆ f32       ┆ str      ┆ str       │\n╞══════╪═════════════╪═══════════╪═══════════════╪═══╪══════════╪═══════════╪══════════╪═══════════╡\n│ F@   ┆ 28800222152 ┆ 2551      ┆ TSLA__220701P ┆ … ┆ 0        ┆ 0.0       ┆ C        ┆ F         │\n│      ┆             ┆           ┆ 00675000      ┆   ┆          ┆           ┆          ┆           │\n│ F@   ┆ 28800615769 ┆ 7252      ┆ TSLA__220701P ┆ … ┆ 0        ┆ 0.0       ┆ Z        ┆ F         │\n│      ┆             ┆           ┆ 00675000      ┆   ┆          ┆           ┆          ┆           │\n│ F@   ┆ 28800713366 ┆ 8472      ┆ TSLA__220701P ┆ … ┆ 0        ┆ 0.0       ┆ E        ┆ F         │\n│      ┆             ┆           ┆ 00675000      ┆   ┆          ┆           ┆          ┆           │\n│ F@   ┆ 28800798920 ┆ 9413      ┆ TSLA__220701P ┆ … ┆ 0        ┆ 0.0       ┆ W        ┆ F         │\n│      ┆             ┆           ┆ 00675000      ┆   ┆          ┆           ┆          ┆           │\n│ F@   ┆ 30600221420 ┆ 13077     ┆ TSLA__220701P ┆ … ┆ 0        ┆ 0.0       ┆ C        ┆ F         │\n│      ┆             ┆           ┆ 00675000      ┆   ┆          ┆           ┆          ┆           │\n│ …    ┆ …           ┆ …         ┆ …             ┆ … ┆ …        ┆ …         ┆ …        ┆ …         │\n│ F@   ┆ 39105594794 ┆ 614277452 ┆ TSLA__220701P ┆ … ┆ 10       ┆ 8.65      ┆ P        ┆ -         │\n│      ┆             ┆           ┆ 00675000      ┆   ┆          ┆           ┆          ┆           │\n│ F@   ┆ 39105594799 ┆ 614277453 ┆ TSLA__220701P ┆ … ┆ 1        ┆ 8.6       ┆ P        ┆ -         │\n│      ┆             ┆           ┆ 00675000      ┆   ┆          ┆           ┆          ┆           │\n│ F@   ┆ 39105595085 ┆ 614277617 ┆ TSLA__220701P ┆ … ┆ 10       ┆ 8.65      ┆ Z        ┆ A         │\n│      ┆             ┆           ┆ 00675000      ┆   ┆          ┆           ┆          ┆           │\n│ F@   ┆ 39105595352 ┆ 614277737 ┆ TSLA__220701P ┆ … ┆ 10       ┆ 8.65      ┆ Z        ┆ A         │\n│      ┆             ┆           ┆ 00675000      ┆   ┆          ┆           ┆          ┆           │\n│ F@   ┆ 39105595481 ┆ 614277792 ┆ TSLA__220701P ┆ … ┆ 7        ┆ 8.55      ┆ I        ┆ -         │\n│      ┆             ┆           ┆ 00675000      ┆   ┆          ┆           ┆          ┆           │\n└──────┴─────────────┴───────────┴───────────────┴───┴──────────┴───────────┴──────────┴───────────┘",
      "text/html": "<div><style>\n.dataframe > thead > tr,\n.dataframe > tbody > tr {\n  text-align: right;\n  white-space: pre-wrap;\n}\n</style>\n<small>shape: (1_531_025, 10)</small><table border=\"1\" class=\"dataframe\"><thead><tr><th>type</th><th>time</th><th>seq</th><th>symbol</th><th>bid_size</th><th>bid_price</th><th>ask_size</th><th>ask_price</th><th>exchange</th><th>condition</th></tr><tr><td>str</td><td>u64</td><td>u32</td><td>str</td><td>u16</td><td>f32</td><td>u16</td><td>f32</td><td>str</td><td>str</td></tr></thead><tbody><tr><td>&quot;F@&quot;</td><td>28800222152</td><td>2551</td><td>&quot;TSLA__220701P0…</td><td>0</td><td>0.0</td><td>0</td><td>0.0</td><td>&quot;C&quot;</td><td>&quot;F&quot;</td></tr><tr><td>&quot;F@&quot;</td><td>28800615769</td><td>7252</td><td>&quot;TSLA__220701P0…</td><td>0</td><td>0.0</td><td>0</td><td>0.0</td><td>&quot;Z&quot;</td><td>&quot;F&quot;</td></tr><tr><td>&quot;F@&quot;</td><td>28800713366</td><td>8472</td><td>&quot;TSLA__220701P0…</td><td>0</td><td>0.0</td><td>0</td><td>0.0</td><td>&quot;E&quot;</td><td>&quot;F&quot;</td></tr><tr><td>&quot;F@&quot;</td><td>28800798920</td><td>9413</td><td>&quot;TSLA__220701P0…</td><td>0</td><td>0.0</td><td>0</td><td>0.0</td><td>&quot;W&quot;</td><td>&quot;F&quot;</td></tr><tr><td>&quot;F@&quot;</td><td>30600221420</td><td>13077</td><td>&quot;TSLA__220701P0…</td><td>0</td><td>0.0</td><td>0</td><td>0.0</td><td>&quot;C&quot;</td><td>&quot;F&quot;</td></tr><tr><td>&hellip;</td><td>&hellip;</td><td>&hellip;</td><td>&hellip;</td><td>&hellip;</td><td>&hellip;</td><td>&hellip;</td><td>&hellip;</td><td>&hellip;</td><td>&hellip;</td></tr><tr><td>&quot;F@&quot;</td><td>39105594794</td><td>614277452</td><td>&quot;TSLA__220701P0…</td><td>1</td><td>7.95</td><td>10</td><td>8.65</td><td>&quot;P&quot;</td><td>&quot;-&quot;</td></tr><tr><td>&quot;F@&quot;</td><td>39105594799</td><td>614277453</td><td>&quot;TSLA__220701P0…</td><td>1</td><td>7.95</td><td>1</td><td>8.6</td><td>&quot;P&quot;</td><td>&quot;-&quot;</td></tr><tr><td>&quot;F@&quot;</td><td>39105595085</td><td>614277617</td><td>&quot;TSLA__220701P0…</td><td>1</td><td>7.95</td><td>10</td><td>8.65</td><td>&quot;Z&quot;</td><td>&quot;A&quot;</td></tr><tr><td>&quot;F@&quot;</td><td>39105595352</td><td>614277737</td><td>&quot;TSLA__220701P0…</td><td>6</td><td>8.05</td><td>10</td><td>8.65</td><td>&quot;Z&quot;</td><td>&quot;A&quot;</td></tr><tr><td>&quot;F@&quot;</td><td>39105595481</td><td>614277792</td><td>&quot;TSLA__220701P0…</td><td>7</td><td>8.05</td><td>7</td><td>8.55</td><td>&quot;I&quot;</td><td>&quot;-&quot;</td></tr></tbody></table></div>"
     },
     "execution_count": 2,
     "metadata": {},
     "output_type": "execute_result"
    }
   ],
   "source": [
    "%%time\n",
    "from src.nbbo import generate_equity_report\n",
    "\n",
    "generate_equity_report(df)"
   ],
   "metadata": {
    "collapsed": false,
    "ExecuteTime": {
     "end_time": "2024-04-01T23:13:56.424593Z",
     "start_time": "2024-04-01T23:13:55.511900Z"
    }
   },
   "execution_count": 2
  },
  {
   "cell_type": "code",
   "outputs": [],
   "source": [
    "df.write_csv(\"data/temp_tesla.csv\")"
   ],
   "metadata": {
    "collapsed": false,
    "ExecuteTime": {
     "end_time": "2024-04-01T08:02:31.152110Z",
     "start_time": "2024-04-01T08:02:31.136657Z"
    }
   },
   "execution_count": 2
  },
  {
   "cell_type": "code",
   "outputs": [
    {
     "data": {
      "text/plain": "shape: (425, 11)\n┌──────┬─────────────┬───────────┬──────────────┬───┬───────────┬──────────┬───────────┬───────────┐\n│ type ┆ time        ┆ seq       ┆ symbol       ┆ … ┆ ask_price ┆ exchange ┆ condition ┆ prev_type │\n│ ---  ┆ ---         ┆ ---       ┆ ---          ┆   ┆ ---       ┆ ---      ┆ ---       ┆ ---       │\n│ str  ┆ u64         ┆ u32       ┆ str          ┆   ┆ f32       ┆ str      ┆ str       ┆ str       │\n╞══════╪═════════════╪═══════════╪══════════════╪═══╪═══════════╪══════════╪═══════════╪═══════════╡\n│ FT   ┆ 34329962417 ┆ 24829074  ┆ TSLA__220701 ┆ … ┆ 0.0       ┆ A        ┆ f         ┆ FT        │\n│      ┆             ┆           ┆ P00675000    ┆   ┆           ┆          ┆           ┆           │\n│ FT   ┆ 34330034089 ┆ 24850678  ┆ TSLA__220701 ┆ … ┆ 0.0       ┆ A        ┆ f         ┆ FT        │\n│      ┆             ┆           ┆ P00675000    ┆   ┆           ┆          ┆           ┆           │\n│ FT   ┆ 34524895236 ┆ 61355535  ┆ TSLA__220701 ┆ … ┆ 0.0       ┆ A        ┆ a         ┆ FT        │\n│      ┆             ┆           ┆ P00675000    ┆   ┆           ┆          ┆           ┆           │\n│ FT   ┆ 34883386037 ┆ 124167839 ┆ TSLA__220701 ┆ … ┆ 0.0       ┆ A        ┆ S         ┆ FT        │\n│      ┆             ┆           ┆ P00675000    ┆   ┆           ┆          ┆           ┆           │\n│ FT   ┆ 35104569326 ┆ 152712929 ┆ TSLA__220701 ┆ … ┆ 0.0       ┆ A        ┆ a         ┆ FT        │\n│      ┆             ┆           ┆ P00675000    ┆   ┆           ┆          ┆           ┆           │\n│ …    ┆ …           ┆ …         ┆ …            ┆ … ┆ …         ┆ …        ┆ …         ┆ …         │\n│ FT   ┆ 37714964300 ┆ 488629291 ┆ TSLA__220701 ┆ … ┆ 0.0       ┆ Z        ┆ I         ┆ FT        │\n│      ┆             ┆           ┆ P00675000    ┆   ┆           ┆          ┆           ┆           │\n│ FT   ┆ 38004649602 ┆ 515398496 ┆ TSLA__220701 ┆ … ┆ 0.0       ┆ Z        ┆ I         ┆ FT        │\n│      ┆             ┆           ┆ P00675000    ┆   ┆           ┆          ┆           ┆           │\n│ FT   ┆ 38141742872 ┆ 528536382 ┆ TSLA__220701 ┆ … ┆ 0.0       ┆ Z        ┆ I         ┆ FT        │\n│      ┆             ┆           ┆ P00675000    ┆   ┆           ┆          ┆           ┆           │\n│ FT   ┆ 38234476792 ┆ 536158099 ┆ TSLA__220701 ┆ … ┆ 0.0       ┆ Z        ┆ I         ┆ FT        │\n│      ┆             ┆           ┆ P00675000    ┆   ┆           ┆          ┆           ┆           │\n│ FT   ┆ 38749553140 ┆ 581236527 ┆ TSLA__220701 ┆ … ┆ 0.0       ┆ Z        ┆ I         ┆ FT        │\n│      ┆             ┆           ┆ P00675000    ┆   ┆           ┆          ┆           ┆           │\n└──────┴─────────────┴───────────┴──────────────┴───┴───────────┴──────────┴───────────┴───────────┘",
      "text/html": "<div><style>\n.dataframe > thead > tr,\n.dataframe > tbody > tr {\n  text-align: right;\n  white-space: pre-wrap;\n}\n</style>\n<small>shape: (425, 11)</small><table border=\"1\" class=\"dataframe\"><thead><tr><th>type</th><th>time</th><th>seq</th><th>symbol</th><th>bid_size</th><th>bid_price</th><th>ask_size</th><th>ask_price</th><th>exchange</th><th>condition</th><th>prev_type</th></tr><tr><td>str</td><td>u64</td><td>u32</td><td>str</td><td>u16</td><td>f32</td><td>u16</td><td>f32</td><td>str</td><td>str</td><td>str</td></tr></thead><tbody><tr><td>&quot;FT&quot;</td><td>34329962417</td><td>24829074</td><td>&quot;TSLA__220701P0…</td><td>3</td><td>7.64</td><td>0</td><td>0.0</td><td>&quot;A&quot;</td><td>&quot;f&quot;</td><td>&quot;FT&quot;</td></tr><tr><td>&quot;FT&quot;</td><td>34330034089</td><td>24850678</td><td>&quot;TSLA__220701P0…</td><td>1</td><td>7.63</td><td>0</td><td>0.0</td><td>&quot;A&quot;</td><td>&quot;f&quot;</td><td>&quot;FT&quot;</td></tr><tr><td>&quot;FT&quot;</td><td>34524895236</td><td>61355535</td><td>&quot;TSLA__220701P0…</td><td>1</td><td>8.75</td><td>0</td><td>0.0</td><td>&quot;A&quot;</td><td>&quot;a&quot;</td><td>&quot;FT&quot;</td></tr><tr><td>&quot;FT&quot;</td><td>34883386037</td><td>124167839</td><td>&quot;TSLA__220701P0…</td><td>6</td><td>5.9</td><td>0</td><td>0.0</td><td>&quot;A&quot;</td><td>&quot;S&quot;</td><td>&quot;FT&quot;</td></tr><tr><td>&quot;FT&quot;</td><td>35104569326</td><td>152712929</td><td>&quot;TSLA__220701P0…</td><td>3</td><td>7.19</td><td>0</td><td>0.0</td><td>&quot;A&quot;</td><td>&quot;a&quot;</td><td>&quot;FT&quot;</td></tr><tr><td>&hellip;</td><td>&hellip;</td><td>&hellip;</td><td>&hellip;</td><td>&hellip;</td><td>&hellip;</td><td>&hellip;</td><td>&hellip;</td><td>&hellip;</td><td>&hellip;</td><td>&hellip;</td></tr><tr><td>&quot;FT&quot;</td><td>37714964300</td><td>488629291</td><td>&quot;TSLA__220701P0…</td><td>3</td><td>8.1</td><td>0</td><td>0.0</td><td>&quot;Z&quot;</td><td>&quot;I&quot;</td><td>&quot;FT&quot;</td></tr><tr><td>&quot;FT&quot;</td><td>38004649602</td><td>515398496</td><td>&quot;TSLA__220701P0…</td><td>1</td><td>9.6</td><td>0</td><td>0.0</td><td>&quot;Z&quot;</td><td>&quot;I&quot;</td><td>&quot;FT&quot;</td></tr><tr><td>&quot;FT&quot;</td><td>38141742872</td><td>528536382</td><td>&quot;TSLA__220701P0…</td><td>3</td><td>10.0</td><td>0</td><td>0.0</td><td>&quot;Z&quot;</td><td>&quot;I&quot;</td><td>&quot;FT&quot;</td></tr><tr><td>&quot;FT&quot;</td><td>38234476792</td><td>536158099</td><td>&quot;TSLA__220701P0…</td><td>1</td><td>10.5</td><td>0</td><td>0.0</td><td>&quot;Z&quot;</td><td>&quot;I&quot;</td><td>&quot;FT&quot;</td></tr><tr><td>&quot;FT&quot;</td><td>38749553140</td><td>581236527</td><td>&quot;TSLA__220701P0…</td><td>1</td><td>9.2</td><td>0</td><td>0.0</td><td>&quot;Z&quot;</td><td>&quot;I&quot;</td><td>&quot;FT&quot;</td></tr></tbody></table></div>"
     },
     "execution_count": 4,
     "metadata": {},
     "output_type": "execute_result"
    }
   ],
   "source": [
    "df.filter(pl.col(\"prev_type\") == \"FT\")"
   ],
   "metadata": {
    "collapsed": false,
    "ExecuteTime": {
     "end_time": "2024-04-01T08:06:10.146847Z",
     "start_time": "2024-04-01T08:06:10.126085Z"
    }
   },
   "execution_count": 4
  },
  {
   "cell_type": "code",
   "outputs": [
    {
     "name": "stderr",
     "output_type": "stream",
     "text": [
      "569138it [03:27, 2738.27it/s] \n"
     ]
    }
   ],
   "source": [
    "from src.nbbo import generate_equity_report\n",
    "\n",
    "generate_equity_report(df)"
   ],
   "metadata": {
    "collapsed": false,
    "ExecuteTime": {
     "start_time": "2024-04-01T07:35:17.344441Z"
    }
   },
   "execution_count": null
  },
  {
   "cell_type": "code",
   "outputs": [
    {
     "name": "stdout",
     "output_type": "stream",
     "text": [
      "[(0, 'index'), (1, 'type'), (2, 'time'), (3, 'seq'), (4, 'symbol'), (5, 'bid_size'), (6, 'bid_price'), (7, 'ask_size'), (8, 'ask_price'), (9, 'exchange'), (10, 'condition'), (11, 'time_right'), (12, 'nbb'), (13, 'nbo'), (14, 'nbb_ex'), (15, 'nbo_ex')]\n"
     ]
    }
   ],
   "source": [
    "print(list(enumerate(nbbo.columns)))"
   ],
   "metadata": {
    "collapsed": false,
    "ExecuteTime": {
     "end_time": "2024-04-01T06:52:52.550946Z",
     "start_time": "2024-04-01T06:52:52.544210Z"
    }
   },
   "execution_count": 3
  },
  {
   "cell_type": "code",
   "outputs": [
    {
     "ename": "NameError",
     "evalue": "name 'df' is not defined",
     "output_type": "error",
     "traceback": [
      "\u001B[0;31m---------------------------------------------------------------------------\u001B[0m",
      "\u001B[0;31mNameError\u001B[0m                                 Traceback (most recent call last)",
      "Cell \u001B[0;32mIn[1], line 4\u001B[0m\n\u001B[1;32m      1\u001B[0m \u001B[38;5;28;01mfrom\u001B[39;00m \u001B[38;5;21;01msrc\u001B[39;00m\u001B[38;5;21;01m.\u001B[39;00m\u001B[38;5;21;01mhelpers\u001B[39;00m \u001B[38;5;28;01mimport\u001B[39;00m prep_quotes\n\u001B[1;32m      2\u001B[0m \u001B[38;5;28;01mfrom\u001B[39;00m \u001B[38;5;21;01msrc\u001B[39;00m\u001B[38;5;21;01m.\u001B[39;00m\u001B[38;5;21;01mturning\u001B[39;00m \u001B[38;5;28;01mimport\u001B[39;00m generate_turning\n\u001B[0;32m----> 4\u001B[0m df \u001B[38;5;241m=\u001B[39m prep_quotes(\u001B[43mdf\u001B[49m\u001B[38;5;241m.\u001B[39mlazy())\n\u001B[1;32m      5\u001B[0m generate_turning(df)\u001B[38;5;241m.\u001B[39mtail()\u001B[38;5;241m.\u001B[39mcollect()\n",
      "\u001B[0;31mNameError\u001B[0m: name 'df' is not defined"
     ]
    }
   ],
   "source": [
    "from src.helpers import prep_quotes\n",
    "from src.turning import generate_turning\n",
    "\n",
    "df = prep_quotes(df.lazy())\n",
    "generate_turning(df).tail().collect()"
   ],
   "metadata": {
    "collapsed": false,
    "ExecuteTime": {
     "end_time": "2024-03-27T06:53:29.528606Z",
     "start_time": "2024-03-27T06:53:28.474998Z"
    }
   },
   "execution_count": 1
  },
  {
   "cell_type": "code",
   "outputs": [
    {
     "data": {
      "text/plain": "        c1           c2          c3   c4 c5                     c6  c7    c8  \\\n0       F@  10800073861        7220  351  P  SPXW__220302C04400000  43   2.4   \n1       F@  10800256346       50518  352  P  SPXW__220302C04400000   9  2.55   \n2       F@  10800267411       53171  351  P  SPXW__220302C04400000  43   2.4   \n3       F@  10800365896       71529  351  P  SPXW__220302C04400000  30  2.45   \n4       F@  10800451937       86034  352  P  SPXW__220302C04400000   9  2.55   \n...     ..          ...         ...  ... ..                    ...  ..   ...   \n720938  F@  57599120620  2484044881  355  P  SPXW__220302C04400000   0   0.0   \n720939  FT  57599120631  2484044882  356  P  SPXW__220302C04400000   T   1.0   \n720940  F@  57599366662  2484092201  356  P  SPXW__220302C04400000   0   0.0   \n720941  FT  57599463122  2484108268  356  P  SPXW__220302C04400000   T   1.0   \n720942  F@  57599463132  2484108270  356  P  SPXW__220302C04400000   0   0.0   \n\n          c9 c10 c11   c12 c13   c14   c15  \n0          -   C   1  2.60   q     C     O  \n1          -   C   1  2.60   q     C     O  \n2          -   C   1  2.60   q     C     O  \n3          -   C   1  2.60   q     C     O  \n4          -   C   1  2.60   q     C     O  \n...      ...  ..  ..   ...  ..   ...   ...  \n720938     -   C  55  0.05   q     C     O  \n720939  0.05   -   -     C   j  None  None  \n720940     -   C  60  0.05   q     C     O  \n720941  0.05   -   -     C   j  None  None  \n720942     -   C  59  0.05   q     C     O  \n\n[720943 rows x 15 columns]",
      "text/html": "<div>\n<style scoped>\n    .dataframe tbody tr th:only-of-type {\n        vertical-align: middle;\n    }\n\n    .dataframe tbody tr th {\n        vertical-align: top;\n    }\n\n    .dataframe thead th {\n        text-align: right;\n    }\n</style>\n<table border=\"1\" class=\"dataframe\">\n  <thead>\n    <tr style=\"text-align: right;\">\n      <th></th>\n      <th>c1</th>\n      <th>c2</th>\n      <th>c3</th>\n      <th>c4</th>\n      <th>c5</th>\n      <th>c6</th>\n      <th>c7</th>\n      <th>c8</th>\n      <th>c9</th>\n      <th>c10</th>\n      <th>c11</th>\n      <th>c12</th>\n      <th>c13</th>\n      <th>c14</th>\n      <th>c15</th>\n    </tr>\n  </thead>\n  <tbody>\n    <tr>\n      <th>0</th>\n      <td>F@</td>\n      <td>10800073861</td>\n      <td>7220</td>\n      <td>351</td>\n      <td>P</td>\n      <td>SPXW__220302C04400000</td>\n      <td>43</td>\n      <td>2.4</td>\n      <td>-</td>\n      <td>C</td>\n      <td>1</td>\n      <td>2.60</td>\n      <td>q</td>\n      <td>C</td>\n      <td>O</td>\n    </tr>\n    <tr>\n      <th>1</th>\n      <td>F@</td>\n      <td>10800256346</td>\n      <td>50518</td>\n      <td>352</td>\n      <td>P</td>\n      <td>SPXW__220302C04400000</td>\n      <td>9</td>\n      <td>2.55</td>\n      <td>-</td>\n      <td>C</td>\n      <td>1</td>\n      <td>2.60</td>\n      <td>q</td>\n      <td>C</td>\n      <td>O</td>\n    </tr>\n    <tr>\n      <th>2</th>\n      <td>F@</td>\n      <td>10800267411</td>\n      <td>53171</td>\n      <td>351</td>\n      <td>P</td>\n      <td>SPXW__220302C04400000</td>\n      <td>43</td>\n      <td>2.4</td>\n      <td>-</td>\n      <td>C</td>\n      <td>1</td>\n      <td>2.60</td>\n      <td>q</td>\n      <td>C</td>\n      <td>O</td>\n    </tr>\n    <tr>\n      <th>3</th>\n      <td>F@</td>\n      <td>10800365896</td>\n      <td>71529</td>\n      <td>351</td>\n      <td>P</td>\n      <td>SPXW__220302C04400000</td>\n      <td>30</td>\n      <td>2.45</td>\n      <td>-</td>\n      <td>C</td>\n      <td>1</td>\n      <td>2.60</td>\n      <td>q</td>\n      <td>C</td>\n      <td>O</td>\n    </tr>\n    <tr>\n      <th>4</th>\n      <td>F@</td>\n      <td>10800451937</td>\n      <td>86034</td>\n      <td>352</td>\n      <td>P</td>\n      <td>SPXW__220302C04400000</td>\n      <td>9</td>\n      <td>2.55</td>\n      <td>-</td>\n      <td>C</td>\n      <td>1</td>\n      <td>2.60</td>\n      <td>q</td>\n      <td>C</td>\n      <td>O</td>\n    </tr>\n    <tr>\n      <th>...</th>\n      <td>...</td>\n      <td>...</td>\n      <td>...</td>\n      <td>...</td>\n      <td>...</td>\n      <td>...</td>\n      <td>...</td>\n      <td>...</td>\n      <td>...</td>\n      <td>...</td>\n      <td>...</td>\n      <td>...</td>\n      <td>...</td>\n      <td>...</td>\n      <td>...</td>\n    </tr>\n    <tr>\n      <th>720938</th>\n      <td>F@</td>\n      <td>57599120620</td>\n      <td>2484044881</td>\n      <td>355</td>\n      <td>P</td>\n      <td>SPXW__220302C04400000</td>\n      <td>0</td>\n      <td>0.0</td>\n      <td>-</td>\n      <td>C</td>\n      <td>55</td>\n      <td>0.05</td>\n      <td>q</td>\n      <td>C</td>\n      <td>O</td>\n    </tr>\n    <tr>\n      <th>720939</th>\n      <td>FT</td>\n      <td>57599120631</td>\n      <td>2484044882</td>\n      <td>356</td>\n      <td>P</td>\n      <td>SPXW__220302C04400000</td>\n      <td>T</td>\n      <td>1.0</td>\n      <td>0.05</td>\n      <td>-</td>\n      <td>-</td>\n      <td>C</td>\n      <td>j</td>\n      <td>None</td>\n      <td>None</td>\n    </tr>\n    <tr>\n      <th>720940</th>\n      <td>F@</td>\n      <td>57599366662</td>\n      <td>2484092201</td>\n      <td>356</td>\n      <td>P</td>\n      <td>SPXW__220302C04400000</td>\n      <td>0</td>\n      <td>0.0</td>\n      <td>-</td>\n      <td>C</td>\n      <td>60</td>\n      <td>0.05</td>\n      <td>q</td>\n      <td>C</td>\n      <td>O</td>\n    </tr>\n    <tr>\n      <th>720941</th>\n      <td>FT</td>\n      <td>57599463122</td>\n      <td>2484108268</td>\n      <td>356</td>\n      <td>P</td>\n      <td>SPXW__220302C04400000</td>\n      <td>T</td>\n      <td>1.0</td>\n      <td>0.05</td>\n      <td>-</td>\n      <td>-</td>\n      <td>C</td>\n      <td>j</td>\n      <td>None</td>\n      <td>None</td>\n    </tr>\n    <tr>\n      <th>720942</th>\n      <td>F@</td>\n      <td>57599463132</td>\n      <td>2484108270</td>\n      <td>356</td>\n      <td>P</td>\n      <td>SPXW__220302C04400000</td>\n      <td>0</td>\n      <td>0.0</td>\n      <td>-</td>\n      <td>C</td>\n      <td>59</td>\n      <td>0.05</td>\n      <td>q</td>\n      <td>C</td>\n      <td>O</td>\n    </tr>\n  </tbody>\n</table>\n<p>720943 rows × 15 columns</p>\n</div>"
     },
     "execution_count": 1,
     "metadata": {},
     "output_type": "execute_result"
    }
   ],
   "source": [
    "from src.index import IndexGenerator\n",
    "import pandas as pd\n",
    "\n",
    "df = pd.read_parquet(\"data/spxw.parquet\").astype(str)\n",
    "df"
   ],
   "metadata": {
    "collapsed": false,
    "ExecuteTime": {
     "end_time": "2024-03-27T07:21:37.054051Z",
     "start_time": "2024-03-27T07:21:35.305916Z"
    }
   },
   "execution_count": 1
  },
  {
   "cell_type": "code",
   "outputs": [
    {
     "ename": "ValueError",
     "evalue": "invalid literal for int() with base 10: '1.0'",
     "output_type": "error",
     "traceback": [
      "\u001B[0;31m---------------------------------------------------------------------------\u001B[0m",
      "\u001B[0;31mValueError\u001B[0m                                Traceback (most recent call last)",
      "Cell \u001B[0;32mIn[2], line 1\u001B[0m\n\u001B[0;32m----> 1\u001B[0m df \u001B[38;5;241m=\u001B[39m \u001B[43mIndexGenerator\u001B[49m\u001B[43m(\u001B[49m\u001B[43mdf\u001B[49m\u001B[43m)\u001B[49m\u001B[38;5;241m.\u001B[39mgenerate_tr()\n\u001B[1;32m      2\u001B[0m df\u001B[38;5;241m.\u001B[39mhead()\n",
      "File \u001B[0;32m/Volumes/External/Projects/Midas-Options/src/index.py:19\u001B[0m, in \u001B[0;36mIndexGenerator.__init__\u001B[0;34m(self, data)\u001B[0m\n\u001B[1;32m     17\u001B[0m \u001B[38;5;28mself\u001B[39m\u001B[38;5;241m.\u001B[39mquotes_ar \u001B[38;5;241m=\u001B[39m \u001B[38;5;28mself\u001B[39m\u001B[38;5;241m.\u001B[39mquotes\u001B[38;5;241m.\u001B[39mto_numpy()\n\u001B[1;32m     18\u001B[0m \u001B[38;5;28mself\u001B[39m\u001B[38;5;241m.\u001B[39mtrades \u001B[38;5;241m=\u001B[39m \u001B[38;5;28mself\u001B[39m\u001B[38;5;241m.\u001B[39mdata\u001B[38;5;241m.\u001B[39mloc[\u001B[38;5;28mself\u001B[39m\u001B[38;5;241m.\u001B[39mdata[\u001B[38;5;124m\"\u001B[39m\u001B[38;5;124mc13\u001B[39m\u001B[38;5;124m\"\u001B[39m]\u001B[38;5;241m.\u001B[39misin([\u001B[38;5;124m\"\u001B[39m\u001B[38;5;124mI\u001B[39m\u001B[38;5;124m\"\u001B[39m, \u001B[38;5;124m\"\u001B[39m\u001B[38;5;124mS\u001B[39m\u001B[38;5;124m\"\u001B[39m])]\n\u001B[0;32m---> 19\u001B[0m \u001B[38;5;28mself\u001B[39m\u001B[38;5;241m.\u001B[39mtrades\u001B[38;5;241m.\u001B[39miloc[:, \u001B[38;5;241m7\u001B[39m] \u001B[38;5;241m=\u001B[39m \u001B[38;5;28;43mself\u001B[39;49m\u001B[38;5;241;43m.\u001B[39;49m\u001B[43mtrades\u001B[49m\u001B[38;5;241;43m.\u001B[39;49m\u001B[43miloc\u001B[49m\u001B[43m[\u001B[49m\u001B[43m:\u001B[49m\u001B[43m,\u001B[49m\u001B[43m \u001B[49m\u001B[38;5;241;43m7\u001B[39;49m\u001B[43m]\u001B[49m\u001B[38;5;241;43m.\u001B[39;49m\u001B[43mastype\u001B[49m\u001B[43m(\u001B[49m\u001B[38;5;28;43mint\u001B[39;49m\u001B[43m)\u001B[49m\n\u001B[1;32m     20\u001B[0m \u001B[38;5;28mself\u001B[39m\u001B[38;5;241m.\u001B[39mtrades\u001B[38;5;241m.\u001B[39miloc[:, \u001B[38;5;241m8\u001B[39m] \u001B[38;5;241m=\u001B[39m \u001B[38;5;28mself\u001B[39m\u001B[38;5;241m.\u001B[39mtrades\u001B[38;5;241m.\u001B[39miloc[:, \u001B[38;5;241m8\u001B[39m]\u001B[38;5;241m.\u001B[39mastype(\u001B[38;5;28mfloat\u001B[39m)\n\u001B[1;32m     21\u001B[0m \u001B[38;5;28mself\u001B[39m\u001B[38;5;241m.\u001B[39mtrades \u001B[38;5;241m=\u001B[39m \u001B[38;5;28mself\u001B[39m\u001B[38;5;241m.\u001B[39mtrades\u001B[38;5;241m.\u001B[39mreset_index()\u001B[38;5;241m.\u001B[39mto_numpy()\n",
      "File \u001B[0;32m/Volumes/External/miniconda3/envs/Midas-Options/lib/python3.10/site-packages/pandas/core/generic.py:6534\u001B[0m, in \u001B[0;36mNDFrame.astype\u001B[0;34m(self, dtype, copy, errors)\u001B[0m\n\u001B[1;32m   6530\u001B[0m     results \u001B[38;5;241m=\u001B[39m [ser\u001B[38;5;241m.\u001B[39mastype(dtype, copy\u001B[38;5;241m=\u001B[39mcopy) \u001B[38;5;28;01mfor\u001B[39;00m _, ser \u001B[38;5;129;01min\u001B[39;00m \u001B[38;5;28mself\u001B[39m\u001B[38;5;241m.\u001B[39mitems()]\n\u001B[1;32m   6532\u001B[0m \u001B[38;5;28;01melse\u001B[39;00m:\n\u001B[1;32m   6533\u001B[0m     \u001B[38;5;66;03m# else, only a single dtype is given\u001B[39;00m\n\u001B[0;32m-> 6534\u001B[0m     new_data \u001B[38;5;241m=\u001B[39m \u001B[38;5;28;43mself\u001B[39;49m\u001B[38;5;241;43m.\u001B[39;49m\u001B[43m_mgr\u001B[49m\u001B[38;5;241;43m.\u001B[39;49m\u001B[43mastype\u001B[49m\u001B[43m(\u001B[49m\u001B[43mdtype\u001B[49m\u001B[38;5;241;43m=\u001B[39;49m\u001B[43mdtype\u001B[49m\u001B[43m,\u001B[49m\u001B[43m \u001B[49m\u001B[43mcopy\u001B[49m\u001B[38;5;241;43m=\u001B[39;49m\u001B[43mcopy\u001B[49m\u001B[43m,\u001B[49m\u001B[43m \u001B[49m\u001B[43merrors\u001B[49m\u001B[38;5;241;43m=\u001B[39;49m\u001B[43merrors\u001B[49m\u001B[43m)\u001B[49m\n\u001B[1;32m   6535\u001B[0m     res \u001B[38;5;241m=\u001B[39m \u001B[38;5;28mself\u001B[39m\u001B[38;5;241m.\u001B[39m_constructor_from_mgr(new_data, axes\u001B[38;5;241m=\u001B[39mnew_data\u001B[38;5;241m.\u001B[39maxes)\n\u001B[1;32m   6536\u001B[0m     \u001B[38;5;28;01mreturn\u001B[39;00m res\u001B[38;5;241m.\u001B[39m__finalize__(\u001B[38;5;28mself\u001B[39m, method\u001B[38;5;241m=\u001B[39m\u001B[38;5;124m\"\u001B[39m\u001B[38;5;124mastype\u001B[39m\u001B[38;5;124m\"\u001B[39m)\n",
      "File \u001B[0;32m/Volumes/External/miniconda3/envs/Midas-Options/lib/python3.10/site-packages/pandas/core/internals/managers.py:414\u001B[0m, in \u001B[0;36mBaseBlockManager.astype\u001B[0;34m(self, dtype, copy, errors)\u001B[0m\n\u001B[1;32m    411\u001B[0m \u001B[38;5;28;01melif\u001B[39;00m using_copy_on_write():\n\u001B[1;32m    412\u001B[0m     copy \u001B[38;5;241m=\u001B[39m \u001B[38;5;28;01mFalse\u001B[39;00m\n\u001B[0;32m--> 414\u001B[0m \u001B[38;5;28;01mreturn\u001B[39;00m \u001B[38;5;28;43mself\u001B[39;49m\u001B[38;5;241;43m.\u001B[39;49m\u001B[43mapply\u001B[49m\u001B[43m(\u001B[49m\n\u001B[1;32m    415\u001B[0m \u001B[43m    \u001B[49m\u001B[38;5;124;43m\"\u001B[39;49m\u001B[38;5;124;43mastype\u001B[39;49m\u001B[38;5;124;43m\"\u001B[39;49m\u001B[43m,\u001B[49m\n\u001B[1;32m    416\u001B[0m \u001B[43m    \u001B[49m\u001B[43mdtype\u001B[49m\u001B[38;5;241;43m=\u001B[39;49m\u001B[43mdtype\u001B[49m\u001B[43m,\u001B[49m\n\u001B[1;32m    417\u001B[0m \u001B[43m    \u001B[49m\u001B[43mcopy\u001B[49m\u001B[38;5;241;43m=\u001B[39;49m\u001B[43mcopy\u001B[49m\u001B[43m,\u001B[49m\n\u001B[1;32m    418\u001B[0m \u001B[43m    \u001B[49m\u001B[43merrors\u001B[49m\u001B[38;5;241;43m=\u001B[39;49m\u001B[43merrors\u001B[49m\u001B[43m,\u001B[49m\n\u001B[1;32m    419\u001B[0m \u001B[43m    \u001B[49m\u001B[43musing_cow\u001B[49m\u001B[38;5;241;43m=\u001B[39;49m\u001B[43musing_copy_on_write\u001B[49m\u001B[43m(\u001B[49m\u001B[43m)\u001B[49m\u001B[43m,\u001B[49m\n\u001B[1;32m    420\u001B[0m \u001B[43m\u001B[49m\u001B[43m)\u001B[49m\n",
      "File \u001B[0;32m/Volumes/External/miniconda3/envs/Midas-Options/lib/python3.10/site-packages/pandas/core/internals/managers.py:354\u001B[0m, in \u001B[0;36mBaseBlockManager.apply\u001B[0;34m(self, f, align_keys, **kwargs)\u001B[0m\n\u001B[1;32m    352\u001B[0m         applied \u001B[38;5;241m=\u001B[39m b\u001B[38;5;241m.\u001B[39mapply(f, \u001B[38;5;241m*\u001B[39m\u001B[38;5;241m*\u001B[39mkwargs)\n\u001B[1;32m    353\u001B[0m     \u001B[38;5;28;01melse\u001B[39;00m:\n\u001B[0;32m--> 354\u001B[0m         applied \u001B[38;5;241m=\u001B[39m \u001B[38;5;28;43mgetattr\u001B[39;49m\u001B[43m(\u001B[49m\u001B[43mb\u001B[49m\u001B[43m,\u001B[49m\u001B[43m \u001B[49m\u001B[43mf\u001B[49m\u001B[43m)\u001B[49m\u001B[43m(\u001B[49m\u001B[38;5;241;43m*\u001B[39;49m\u001B[38;5;241;43m*\u001B[39;49m\u001B[43mkwargs\u001B[49m\u001B[43m)\u001B[49m\n\u001B[1;32m    355\u001B[0m     result_blocks \u001B[38;5;241m=\u001B[39m extend_blocks(applied, result_blocks)\n\u001B[1;32m    357\u001B[0m out \u001B[38;5;241m=\u001B[39m \u001B[38;5;28mtype\u001B[39m(\u001B[38;5;28mself\u001B[39m)\u001B[38;5;241m.\u001B[39mfrom_blocks(result_blocks, \u001B[38;5;28mself\u001B[39m\u001B[38;5;241m.\u001B[39maxes)\n",
      "File \u001B[0;32m/Volumes/External/miniconda3/envs/Midas-Options/lib/python3.10/site-packages/pandas/core/internals/blocks.py:616\u001B[0m, in \u001B[0;36mBlock.astype\u001B[0;34m(self, dtype, copy, errors, using_cow)\u001B[0m\n\u001B[1;32m    596\u001B[0m \u001B[38;5;250m\u001B[39m\u001B[38;5;124;03m\"\"\"\u001B[39;00m\n\u001B[1;32m    597\u001B[0m \u001B[38;5;124;03mCoerce to the new dtype.\u001B[39;00m\n\u001B[1;32m    598\u001B[0m \n\u001B[0;32m   (...)\u001B[0m\n\u001B[1;32m    612\u001B[0m \u001B[38;5;124;03mBlock\u001B[39;00m\n\u001B[1;32m    613\u001B[0m \u001B[38;5;124;03m\"\"\"\u001B[39;00m\n\u001B[1;32m    614\u001B[0m values \u001B[38;5;241m=\u001B[39m \u001B[38;5;28mself\u001B[39m\u001B[38;5;241m.\u001B[39mvalues\n\u001B[0;32m--> 616\u001B[0m new_values \u001B[38;5;241m=\u001B[39m \u001B[43mastype_array_safe\u001B[49m\u001B[43m(\u001B[49m\u001B[43mvalues\u001B[49m\u001B[43m,\u001B[49m\u001B[43m \u001B[49m\u001B[43mdtype\u001B[49m\u001B[43m,\u001B[49m\u001B[43m \u001B[49m\u001B[43mcopy\u001B[49m\u001B[38;5;241;43m=\u001B[39;49m\u001B[43mcopy\u001B[49m\u001B[43m,\u001B[49m\u001B[43m \u001B[49m\u001B[43merrors\u001B[49m\u001B[38;5;241;43m=\u001B[39;49m\u001B[43merrors\u001B[49m\u001B[43m)\u001B[49m\n\u001B[1;32m    618\u001B[0m new_values \u001B[38;5;241m=\u001B[39m maybe_coerce_values(new_values)\n\u001B[1;32m    620\u001B[0m refs \u001B[38;5;241m=\u001B[39m \u001B[38;5;28;01mNone\u001B[39;00m\n",
      "File \u001B[0;32m/Volumes/External/miniconda3/envs/Midas-Options/lib/python3.10/site-packages/pandas/core/dtypes/astype.py:238\u001B[0m, in \u001B[0;36mastype_array_safe\u001B[0;34m(values, dtype, copy, errors)\u001B[0m\n\u001B[1;32m    235\u001B[0m     dtype \u001B[38;5;241m=\u001B[39m dtype\u001B[38;5;241m.\u001B[39mnumpy_dtype\n\u001B[1;32m    237\u001B[0m \u001B[38;5;28;01mtry\u001B[39;00m:\n\u001B[0;32m--> 238\u001B[0m     new_values \u001B[38;5;241m=\u001B[39m \u001B[43mastype_array\u001B[49m\u001B[43m(\u001B[49m\u001B[43mvalues\u001B[49m\u001B[43m,\u001B[49m\u001B[43m \u001B[49m\u001B[43mdtype\u001B[49m\u001B[43m,\u001B[49m\u001B[43m \u001B[49m\u001B[43mcopy\u001B[49m\u001B[38;5;241;43m=\u001B[39;49m\u001B[43mcopy\u001B[49m\u001B[43m)\u001B[49m\n\u001B[1;32m    239\u001B[0m \u001B[38;5;28;01mexcept\u001B[39;00m (\u001B[38;5;167;01mValueError\u001B[39;00m, \u001B[38;5;167;01mTypeError\u001B[39;00m):\n\u001B[1;32m    240\u001B[0m     \u001B[38;5;66;03m# e.g. _astype_nansafe can fail on object-dtype of strings\u001B[39;00m\n\u001B[1;32m    241\u001B[0m     \u001B[38;5;66;03m#  trying to convert to float\u001B[39;00m\n\u001B[1;32m    242\u001B[0m     \u001B[38;5;28;01mif\u001B[39;00m errors \u001B[38;5;241m==\u001B[39m \u001B[38;5;124m\"\u001B[39m\u001B[38;5;124mignore\u001B[39m\u001B[38;5;124m\"\u001B[39m:\n",
      "File \u001B[0;32m/Volumes/External/miniconda3/envs/Midas-Options/lib/python3.10/site-packages/pandas/core/dtypes/astype.py:183\u001B[0m, in \u001B[0;36mastype_array\u001B[0;34m(values, dtype, copy)\u001B[0m\n\u001B[1;32m    180\u001B[0m     values \u001B[38;5;241m=\u001B[39m values\u001B[38;5;241m.\u001B[39mastype(dtype, copy\u001B[38;5;241m=\u001B[39mcopy)\n\u001B[1;32m    182\u001B[0m \u001B[38;5;28;01melse\u001B[39;00m:\n\u001B[0;32m--> 183\u001B[0m     values \u001B[38;5;241m=\u001B[39m \u001B[43m_astype_nansafe\u001B[49m\u001B[43m(\u001B[49m\u001B[43mvalues\u001B[49m\u001B[43m,\u001B[49m\u001B[43m \u001B[49m\u001B[43mdtype\u001B[49m\u001B[43m,\u001B[49m\u001B[43m \u001B[49m\u001B[43mcopy\u001B[49m\u001B[38;5;241;43m=\u001B[39;49m\u001B[43mcopy\u001B[49m\u001B[43m)\u001B[49m\n\u001B[1;32m    185\u001B[0m \u001B[38;5;66;03m# in pandas we don't store numpy str dtypes, so convert to object\u001B[39;00m\n\u001B[1;32m    186\u001B[0m \u001B[38;5;28;01mif\u001B[39;00m \u001B[38;5;28misinstance\u001B[39m(dtype, np\u001B[38;5;241m.\u001B[39mdtype) \u001B[38;5;129;01mand\u001B[39;00m \u001B[38;5;28missubclass\u001B[39m(values\u001B[38;5;241m.\u001B[39mdtype\u001B[38;5;241m.\u001B[39mtype, \u001B[38;5;28mstr\u001B[39m):\n",
      "File \u001B[0;32m/Volumes/External/miniconda3/envs/Midas-Options/lib/python3.10/site-packages/pandas/core/dtypes/astype.py:134\u001B[0m, in \u001B[0;36m_astype_nansafe\u001B[0;34m(arr, dtype, copy, skipna)\u001B[0m\n\u001B[1;32m    130\u001B[0m     \u001B[38;5;28;01mraise\u001B[39;00m \u001B[38;5;167;01mValueError\u001B[39;00m(msg)\n\u001B[1;32m    132\u001B[0m \u001B[38;5;28;01mif\u001B[39;00m copy \u001B[38;5;129;01mor\u001B[39;00m arr\u001B[38;5;241m.\u001B[39mdtype \u001B[38;5;241m==\u001B[39m \u001B[38;5;28mobject\u001B[39m \u001B[38;5;129;01mor\u001B[39;00m dtype \u001B[38;5;241m==\u001B[39m \u001B[38;5;28mobject\u001B[39m:\n\u001B[1;32m    133\u001B[0m     \u001B[38;5;66;03m# Explicit copy, or required since NumPy can't view from / to object.\u001B[39;00m\n\u001B[0;32m--> 134\u001B[0m     \u001B[38;5;28;01mreturn\u001B[39;00m \u001B[43marr\u001B[49m\u001B[38;5;241;43m.\u001B[39;49m\u001B[43mastype\u001B[49m\u001B[43m(\u001B[49m\u001B[43mdtype\u001B[49m\u001B[43m,\u001B[49m\u001B[43m \u001B[49m\u001B[43mcopy\u001B[49m\u001B[38;5;241;43m=\u001B[39;49m\u001B[38;5;28;43;01mTrue\u001B[39;49;00m\u001B[43m)\u001B[49m\n\u001B[1;32m    136\u001B[0m \u001B[38;5;28;01mreturn\u001B[39;00m arr\u001B[38;5;241m.\u001B[39mastype(dtype, copy\u001B[38;5;241m=\u001B[39mcopy)\n",
      "\u001B[0;31mValueError\u001B[0m: invalid literal for int() with base 10: '1.0'"
     ]
    }
   ],
   "source": [
    "df = IndexGenerator(df).generate_tr()\n",
    "df.head()"
   ],
   "metadata": {
    "collapsed": false,
    "ExecuteTime": {
     "end_time": "2024-03-27T07:21:38.894028Z",
     "start_time": "2024-03-27T07:21:37.071522Z"
    }
   },
   "execution_count": 2
  },
  {
   "cell_type": "code",
   "outputs": [
    {
     "ename": "TypeError",
     "evalue": "unsupported operand type(s) for +: 'int' and 'str'",
     "output_type": "error",
     "traceback": [
      "\u001B[0;31m---------------------------------------------------------------------------\u001B[0m",
      "\u001B[0;31mTypeError\u001B[0m                                 Traceback (most recent call last)",
      "Cell \u001B[0;32mIn[3], line 1\u001B[0m\n\u001B[0;32m----> 1\u001B[0m \u001B[38;5;28mprint\u001B[39m(\u001B[43mdf\u001B[49m\u001B[43m[\u001B[49m\u001B[38;5;124;43m\"\u001B[39;49m\u001B[38;5;124;43mindicator\u001B[39;49m\u001B[38;5;124;43m\"\u001B[39;49m\u001B[43m]\u001B[49m\u001B[38;5;241;43m.\u001B[39;49m\u001B[43msum\u001B[49m\u001B[43m(\u001B[49m\u001B[43m)\u001B[49m \u001B[38;5;241m/\u001B[39m df\u001B[38;5;241m.\u001B[39mshape[\u001B[38;5;241m0\u001B[39m])\n",
      "File \u001B[0;32m/Volumes/External/miniconda3/envs/Midas-Options/lib/python3.10/site-packages/pandas/core/series.py:6204\u001B[0m, in \u001B[0;36mSeries.sum\u001B[0;34m(self, axis, skipna, numeric_only, min_count, **kwargs)\u001B[0m\n\u001B[1;32m   6195\u001B[0m \u001B[38;5;129m@doc\u001B[39m(make_doc(\u001B[38;5;124m\"\u001B[39m\u001B[38;5;124msum\u001B[39m\u001B[38;5;124m\"\u001B[39m, ndim\u001B[38;5;241m=\u001B[39m\u001B[38;5;241m1\u001B[39m))\n\u001B[1;32m   6196\u001B[0m \u001B[38;5;28;01mdef\u001B[39;00m \u001B[38;5;21msum\u001B[39m(\n\u001B[1;32m   6197\u001B[0m     \u001B[38;5;28mself\u001B[39m,\n\u001B[0;32m   (...)\u001B[0m\n\u001B[1;32m   6202\u001B[0m     \u001B[38;5;241m*\u001B[39m\u001B[38;5;241m*\u001B[39mkwargs,\n\u001B[1;32m   6203\u001B[0m ):\n\u001B[0;32m-> 6204\u001B[0m     \u001B[38;5;28;01mreturn\u001B[39;00m \u001B[43mNDFrame\u001B[49m\u001B[38;5;241;43m.\u001B[39;49m\u001B[43msum\u001B[49m\u001B[43m(\u001B[49m\u001B[38;5;28;43mself\u001B[39;49m\u001B[43m,\u001B[49m\u001B[43m \u001B[49m\u001B[43maxis\u001B[49m\u001B[43m,\u001B[49m\u001B[43m \u001B[49m\u001B[43mskipna\u001B[49m\u001B[43m,\u001B[49m\u001B[43m \u001B[49m\u001B[43mnumeric_only\u001B[49m\u001B[43m,\u001B[49m\u001B[43m \u001B[49m\u001B[43mmin_count\u001B[49m\u001B[43m,\u001B[49m\u001B[43m \u001B[49m\u001B[38;5;241;43m*\u001B[39;49m\u001B[38;5;241;43m*\u001B[39;49m\u001B[43mkwargs\u001B[49m\u001B[43m)\u001B[49m\n",
      "File \u001B[0;32m/Volumes/External/miniconda3/envs/Midas-Options/lib/python3.10/site-packages/pandas/core/generic.py:12078\u001B[0m, in \u001B[0;36mNDFrame.sum\u001B[0;34m(self, axis, skipna, numeric_only, min_count, **kwargs)\u001B[0m\n\u001B[1;32m  12070\u001B[0m \u001B[38;5;28;01mdef\u001B[39;00m \u001B[38;5;21msum\u001B[39m(\n\u001B[1;32m  12071\u001B[0m     \u001B[38;5;28mself\u001B[39m,\n\u001B[1;32m  12072\u001B[0m     axis: Axis \u001B[38;5;241m|\u001B[39m \u001B[38;5;28;01mNone\u001B[39;00m \u001B[38;5;241m=\u001B[39m \u001B[38;5;241m0\u001B[39m,\n\u001B[0;32m   (...)\u001B[0m\n\u001B[1;32m  12076\u001B[0m     \u001B[38;5;241m*\u001B[39m\u001B[38;5;241m*\u001B[39mkwargs,\n\u001B[1;32m  12077\u001B[0m ):\n\u001B[0;32m> 12078\u001B[0m     \u001B[38;5;28;01mreturn\u001B[39;00m \u001B[38;5;28;43mself\u001B[39;49m\u001B[38;5;241;43m.\u001B[39;49m\u001B[43m_min_count_stat_function\u001B[49m\u001B[43m(\u001B[49m\n\u001B[1;32m  12079\u001B[0m \u001B[43m        \u001B[49m\u001B[38;5;124;43m\"\u001B[39;49m\u001B[38;5;124;43msum\u001B[39;49m\u001B[38;5;124;43m\"\u001B[39;49m\u001B[43m,\u001B[49m\u001B[43m \u001B[49m\u001B[43mnanops\u001B[49m\u001B[38;5;241;43m.\u001B[39;49m\u001B[43mnansum\u001B[49m\u001B[43m,\u001B[49m\u001B[43m \u001B[49m\u001B[43maxis\u001B[49m\u001B[43m,\u001B[49m\u001B[43m \u001B[49m\u001B[43mskipna\u001B[49m\u001B[43m,\u001B[49m\u001B[43m \u001B[49m\u001B[43mnumeric_only\u001B[49m\u001B[43m,\u001B[49m\u001B[43m \u001B[49m\u001B[43mmin_count\u001B[49m\u001B[43m,\u001B[49m\u001B[43m \u001B[49m\u001B[38;5;241;43m*\u001B[39;49m\u001B[38;5;241;43m*\u001B[39;49m\u001B[43mkwargs\u001B[49m\n\u001B[1;32m  12080\u001B[0m \u001B[43m    \u001B[49m\u001B[43m)\u001B[49m\n",
      "File \u001B[0;32m/Volumes/External/miniconda3/envs/Midas-Options/lib/python3.10/site-packages/pandas/core/generic.py:12061\u001B[0m, in \u001B[0;36mNDFrame._min_count_stat_function\u001B[0;34m(self, name, func, axis, skipna, numeric_only, min_count, **kwargs)\u001B[0m\n\u001B[1;32m  12058\u001B[0m \u001B[38;5;28;01melif\u001B[39;00m axis \u001B[38;5;129;01mis\u001B[39;00m lib\u001B[38;5;241m.\u001B[39mno_default:\n\u001B[1;32m  12059\u001B[0m     axis \u001B[38;5;241m=\u001B[39m \u001B[38;5;241m0\u001B[39m\n\u001B[0;32m> 12061\u001B[0m \u001B[38;5;28;01mreturn\u001B[39;00m \u001B[38;5;28;43mself\u001B[39;49m\u001B[38;5;241;43m.\u001B[39;49m\u001B[43m_reduce\u001B[49m\u001B[43m(\u001B[49m\n\u001B[1;32m  12062\u001B[0m \u001B[43m    \u001B[49m\u001B[43mfunc\u001B[49m\u001B[43m,\u001B[49m\n\u001B[1;32m  12063\u001B[0m \u001B[43m    \u001B[49m\u001B[43mname\u001B[49m\u001B[38;5;241;43m=\u001B[39;49m\u001B[43mname\u001B[49m\u001B[43m,\u001B[49m\n\u001B[1;32m  12064\u001B[0m \u001B[43m    \u001B[49m\u001B[43maxis\u001B[49m\u001B[38;5;241;43m=\u001B[39;49m\u001B[43maxis\u001B[49m\u001B[43m,\u001B[49m\n\u001B[1;32m  12065\u001B[0m \u001B[43m    \u001B[49m\u001B[43mskipna\u001B[49m\u001B[38;5;241;43m=\u001B[39;49m\u001B[43mskipna\u001B[49m\u001B[43m,\u001B[49m\n\u001B[1;32m  12066\u001B[0m \u001B[43m    \u001B[49m\u001B[43mnumeric_only\u001B[49m\u001B[38;5;241;43m=\u001B[39;49m\u001B[43mnumeric_only\u001B[49m\u001B[43m,\u001B[49m\n\u001B[1;32m  12067\u001B[0m \u001B[43m    \u001B[49m\u001B[43mmin_count\u001B[49m\u001B[38;5;241;43m=\u001B[39;49m\u001B[43mmin_count\u001B[49m\u001B[43m,\u001B[49m\n\u001B[1;32m  12068\u001B[0m \u001B[43m\u001B[49m\u001B[43m)\u001B[49m\n",
      "File \u001B[0;32m/Volumes/External/miniconda3/envs/Midas-Options/lib/python3.10/site-packages/pandas/core/series.py:6133\u001B[0m, in \u001B[0;36mSeries._reduce\u001B[0;34m(self, op, name, axis, skipna, numeric_only, filter_type, **kwds)\u001B[0m\n\u001B[1;32m   6128\u001B[0m     \u001B[38;5;66;03m# GH#47500 - change to TypeError to match other methods\u001B[39;00m\n\u001B[1;32m   6129\u001B[0m     \u001B[38;5;28;01mraise\u001B[39;00m \u001B[38;5;167;01mTypeError\u001B[39;00m(\n\u001B[1;32m   6130\u001B[0m         \u001B[38;5;124mf\u001B[39m\u001B[38;5;124m\"\u001B[39m\u001B[38;5;124mSeries.\u001B[39m\u001B[38;5;132;01m{\u001B[39;00mname\u001B[38;5;132;01m}\u001B[39;00m\u001B[38;5;124m does not allow \u001B[39m\u001B[38;5;132;01m{\u001B[39;00mkwd_name\u001B[38;5;132;01m}\u001B[39;00m\u001B[38;5;124m=\u001B[39m\u001B[38;5;132;01m{\u001B[39;00mnumeric_only\u001B[38;5;132;01m}\u001B[39;00m\u001B[38;5;124m \u001B[39m\u001B[38;5;124m\"\u001B[39m\n\u001B[1;32m   6131\u001B[0m         \u001B[38;5;124m\"\u001B[39m\u001B[38;5;124mwith non-numeric dtypes.\u001B[39m\u001B[38;5;124m\"\u001B[39m\n\u001B[1;32m   6132\u001B[0m     )\n\u001B[0;32m-> 6133\u001B[0m \u001B[38;5;28;01mreturn\u001B[39;00m \u001B[43mop\u001B[49m\u001B[43m(\u001B[49m\u001B[43mdelegate\u001B[49m\u001B[43m,\u001B[49m\u001B[43m \u001B[49m\u001B[43mskipna\u001B[49m\u001B[38;5;241;43m=\u001B[39;49m\u001B[43mskipna\u001B[49m\u001B[43m,\u001B[49m\u001B[43m \u001B[49m\u001B[38;5;241;43m*\u001B[39;49m\u001B[38;5;241;43m*\u001B[39;49m\u001B[43mkwds\u001B[49m\u001B[43m)\u001B[49m\n",
      "File \u001B[0;32m/Volumes/External/miniconda3/envs/Midas-Options/lib/python3.10/site-packages/pandas/core/nanops.py:85\u001B[0m, in \u001B[0;36mdisallow.__call__.<locals>._f\u001B[0;34m(*args, **kwargs)\u001B[0m\n\u001B[1;32m     81\u001B[0m     \u001B[38;5;28;01mraise\u001B[39;00m \u001B[38;5;167;01mTypeError\u001B[39;00m(\n\u001B[1;32m     82\u001B[0m         \u001B[38;5;124mf\u001B[39m\u001B[38;5;124m\"\u001B[39m\u001B[38;5;124mreduction operation \u001B[39m\u001B[38;5;124m'\u001B[39m\u001B[38;5;132;01m{\u001B[39;00mf_name\u001B[38;5;132;01m}\u001B[39;00m\u001B[38;5;124m'\u001B[39m\u001B[38;5;124m not allowed for this dtype\u001B[39m\u001B[38;5;124m\"\u001B[39m\n\u001B[1;32m     83\u001B[0m     )\n\u001B[1;32m     84\u001B[0m \u001B[38;5;28;01mtry\u001B[39;00m:\n\u001B[0;32m---> 85\u001B[0m     \u001B[38;5;28;01mreturn\u001B[39;00m \u001B[43mf\u001B[49m\u001B[43m(\u001B[49m\u001B[38;5;241;43m*\u001B[39;49m\u001B[43margs\u001B[49m\u001B[43m,\u001B[49m\u001B[43m \u001B[49m\u001B[38;5;241;43m*\u001B[39;49m\u001B[38;5;241;43m*\u001B[39;49m\u001B[43mkwargs\u001B[49m\u001B[43m)\u001B[49m\n\u001B[1;32m     86\u001B[0m \u001B[38;5;28;01mexcept\u001B[39;00m \u001B[38;5;167;01mValueError\u001B[39;00m \u001B[38;5;28;01mas\u001B[39;00m e:\n\u001B[1;32m     87\u001B[0m     \u001B[38;5;66;03m# we want to transform an object array\u001B[39;00m\n\u001B[1;32m     88\u001B[0m     \u001B[38;5;66;03m# ValueError message to the more typical TypeError\u001B[39;00m\n\u001B[1;32m     89\u001B[0m     \u001B[38;5;66;03m# e.g. this is normally a disallowed function on\u001B[39;00m\n\u001B[1;32m     90\u001B[0m     \u001B[38;5;66;03m# object arrays that contain strings\u001B[39;00m\n\u001B[1;32m     91\u001B[0m     \u001B[38;5;28;01mif\u001B[39;00m is_object_dtype(args[\u001B[38;5;241m0\u001B[39m]):\n",
      "File \u001B[0;32m/Volumes/External/miniconda3/envs/Midas-Options/lib/python3.10/site-packages/pandas/core/nanops.py:404\u001B[0m, in \u001B[0;36m_datetimelike_compat.<locals>.new_func\u001B[0;34m(values, axis, skipna, mask, **kwargs)\u001B[0m\n\u001B[1;32m    401\u001B[0m \u001B[38;5;28;01mif\u001B[39;00m datetimelike \u001B[38;5;129;01mand\u001B[39;00m mask \u001B[38;5;129;01mis\u001B[39;00m \u001B[38;5;28;01mNone\u001B[39;00m:\n\u001B[1;32m    402\u001B[0m     mask \u001B[38;5;241m=\u001B[39m isna(values)\n\u001B[0;32m--> 404\u001B[0m result \u001B[38;5;241m=\u001B[39m \u001B[43mfunc\u001B[49m\u001B[43m(\u001B[49m\u001B[43mvalues\u001B[49m\u001B[43m,\u001B[49m\u001B[43m \u001B[49m\u001B[43maxis\u001B[49m\u001B[38;5;241;43m=\u001B[39;49m\u001B[43maxis\u001B[49m\u001B[43m,\u001B[49m\u001B[43m \u001B[49m\u001B[43mskipna\u001B[49m\u001B[38;5;241;43m=\u001B[39;49m\u001B[43mskipna\u001B[49m\u001B[43m,\u001B[49m\u001B[43m \u001B[49m\u001B[43mmask\u001B[49m\u001B[38;5;241;43m=\u001B[39;49m\u001B[43mmask\u001B[49m\u001B[43m,\u001B[49m\u001B[43m \u001B[49m\u001B[38;5;241;43m*\u001B[39;49m\u001B[38;5;241;43m*\u001B[39;49m\u001B[43mkwargs\u001B[49m\u001B[43m)\u001B[49m\n\u001B[1;32m    406\u001B[0m \u001B[38;5;28;01mif\u001B[39;00m datetimelike:\n\u001B[1;32m    407\u001B[0m     result \u001B[38;5;241m=\u001B[39m _wrap_results(result, orig_values\u001B[38;5;241m.\u001B[39mdtype, fill_value\u001B[38;5;241m=\u001B[39miNaT)\n",
      "File \u001B[0;32m/Volumes/External/miniconda3/envs/Midas-Options/lib/python3.10/site-packages/pandas/core/nanops.py:477\u001B[0m, in \u001B[0;36mmaybe_operate_rowwise.<locals>.newfunc\u001B[0;34m(values, axis, **kwargs)\u001B[0m\n\u001B[1;32m    474\u001B[0m         results \u001B[38;5;241m=\u001B[39m [func(x, \u001B[38;5;241m*\u001B[39m\u001B[38;5;241m*\u001B[39mkwargs) \u001B[38;5;28;01mfor\u001B[39;00m x \u001B[38;5;129;01min\u001B[39;00m arrs]\n\u001B[1;32m    475\u001B[0m     \u001B[38;5;28;01mreturn\u001B[39;00m np\u001B[38;5;241m.\u001B[39marray(results)\n\u001B[0;32m--> 477\u001B[0m \u001B[38;5;28;01mreturn\u001B[39;00m \u001B[43mfunc\u001B[49m\u001B[43m(\u001B[49m\u001B[43mvalues\u001B[49m\u001B[43m,\u001B[49m\u001B[43m \u001B[49m\u001B[43maxis\u001B[49m\u001B[38;5;241;43m=\u001B[39;49m\u001B[43maxis\u001B[49m\u001B[43m,\u001B[49m\u001B[43m \u001B[49m\u001B[38;5;241;43m*\u001B[39;49m\u001B[38;5;241;43m*\u001B[39;49m\u001B[43mkwargs\u001B[49m\u001B[43m)\u001B[49m\n",
      "File \u001B[0;32m/Volumes/External/miniconda3/envs/Midas-Options/lib/python3.10/site-packages/pandas/core/nanops.py:646\u001B[0m, in \u001B[0;36mnansum\u001B[0;34m(values, axis, skipna, min_count, mask)\u001B[0m\n\u001B[1;32m    643\u001B[0m \u001B[38;5;28;01melif\u001B[39;00m dtype\u001B[38;5;241m.\u001B[39mkind \u001B[38;5;241m==\u001B[39m \u001B[38;5;124m\"\u001B[39m\u001B[38;5;124mm\u001B[39m\u001B[38;5;124m\"\u001B[39m:\n\u001B[1;32m    644\u001B[0m     dtype_sum \u001B[38;5;241m=\u001B[39m np\u001B[38;5;241m.\u001B[39mdtype(np\u001B[38;5;241m.\u001B[39mfloat64)\n\u001B[0;32m--> 646\u001B[0m the_sum \u001B[38;5;241m=\u001B[39m \u001B[43mvalues\u001B[49m\u001B[38;5;241;43m.\u001B[39;49m\u001B[43msum\u001B[49m\u001B[43m(\u001B[49m\u001B[43maxis\u001B[49m\u001B[43m,\u001B[49m\u001B[43m \u001B[49m\u001B[43mdtype\u001B[49m\u001B[38;5;241;43m=\u001B[39;49m\u001B[43mdtype_sum\u001B[49m\u001B[43m)\u001B[49m\n\u001B[1;32m    647\u001B[0m the_sum \u001B[38;5;241m=\u001B[39m _maybe_null_out(the_sum, axis, mask, values\u001B[38;5;241m.\u001B[39mshape, min_count\u001B[38;5;241m=\u001B[39mmin_count)\n\u001B[1;32m    649\u001B[0m \u001B[38;5;28;01mreturn\u001B[39;00m the_sum\n",
      "File \u001B[0;32m/Volumes/External/miniconda3/envs/Midas-Options/lib/python3.10/site-packages/numpy/core/_methods.py:49\u001B[0m, in \u001B[0;36m_sum\u001B[0;34m(a, axis, dtype, out, keepdims, initial, where)\u001B[0m\n\u001B[1;32m     47\u001B[0m \u001B[38;5;28;01mdef\u001B[39;00m \u001B[38;5;21m_sum\u001B[39m(a, axis\u001B[38;5;241m=\u001B[39m\u001B[38;5;28;01mNone\u001B[39;00m, dtype\u001B[38;5;241m=\u001B[39m\u001B[38;5;28;01mNone\u001B[39;00m, out\u001B[38;5;241m=\u001B[39m\u001B[38;5;28;01mNone\u001B[39;00m, keepdims\u001B[38;5;241m=\u001B[39m\u001B[38;5;28;01mFalse\u001B[39;00m,\n\u001B[1;32m     48\u001B[0m          initial\u001B[38;5;241m=\u001B[39m_NoValue, where\u001B[38;5;241m=\u001B[39m\u001B[38;5;28;01mTrue\u001B[39;00m):\n\u001B[0;32m---> 49\u001B[0m     \u001B[38;5;28;01mreturn\u001B[39;00m \u001B[43mumr_sum\u001B[49m\u001B[43m(\u001B[49m\u001B[43ma\u001B[49m\u001B[43m,\u001B[49m\u001B[43m \u001B[49m\u001B[43maxis\u001B[49m\u001B[43m,\u001B[49m\u001B[43m \u001B[49m\u001B[43mdtype\u001B[49m\u001B[43m,\u001B[49m\u001B[43m \u001B[49m\u001B[43mout\u001B[49m\u001B[43m,\u001B[49m\u001B[43m \u001B[49m\u001B[43mkeepdims\u001B[49m\u001B[43m,\u001B[49m\u001B[43m \u001B[49m\u001B[43minitial\u001B[49m\u001B[43m,\u001B[49m\u001B[43m \u001B[49m\u001B[43mwhere\u001B[49m\u001B[43m)\u001B[49m\n",
      "\u001B[0;31mTypeError\u001B[0m: unsupported operand type(s) for +: 'int' and 'str'"
     ]
    }
   ],
   "source": [
    "print(df[\"indicator\"].sum() / df.shape[0])"
   ],
   "metadata": {
    "collapsed": false,
    "ExecuteTime": {
     "end_time": "2024-03-14T22:45:46.983870Z",
     "start_time": "2024-03-14T22:45:45.842632Z"
    }
   },
   "execution_count": 3
  },
  {
   "cell_type": "code",
   "outputs": [
    {
     "data": {
      "text/plain": "0.9749672536748654"
     },
     "execution_count": 6,
     "metadata": {},
     "output_type": "execute_result"
    }
   ],
   "source": [
    "1 - df[\"indicator\"].astype(int).sum() / df.shape[0]"
   ],
   "metadata": {
    "collapsed": false,
    "ExecuteTime": {
     "end_time": "2024-03-14T22:46:46.293248Z",
     "start_time": "2024-03-14T22:46:46.287168Z"
    }
   },
   "execution_count": 6
  },
  {
   "cell_type": "code",
   "outputs": [],
   "source": [],
   "metadata": {
    "collapsed": false
   }
  }
 ],
 "metadata": {
  "kernelspec": {
   "display_name": "Python 3",
   "language": "python",
   "name": "python3"
  },
  "language_info": {
   "codemirror_mode": {
    "name": "ipython",
    "version": 2
   },
   "file_extension": ".py",
   "mimetype": "text/x-python",
   "name": "python",
   "nbconvert_exporter": "python",
   "pygments_lexer": "ipython2",
   "version": "2.7.6"
  }
 },
 "nbformat": 4,
 "nbformat_minor": 0
}
