{
 "cells": [
  {
   "cell_type": "code",
   "execution_count": 1,
   "metadata": {
    "collapsed": true,
    "ExecuteTime": {
     "end_time": "2023-06-13T13:10:56.668184300Z",
     "start_time": "2023-06-13T13:10:56.483720400Z"
    }
   },
   "outputs": [],
   "source": [
    "from src.helpers import *"
   ]
  },
  {
   "cell_type": "code",
   "execution_count": 2,
   "outputs": [],
   "source": [
    "col_names = [f'c{i}' for i in range(1, 16)]"
   ],
   "metadata": {
    "collapsed": false,
    "ExecuteTime": {
     "end_time": "2023-06-13T13:10:56.684195500Z",
     "start_time": "2023-06-13T13:10:56.672188400Z"
    }
   }
  },
  {
   "cell_type": "code",
   "execution_count": 3,
   "outputs": [
    {
     "data": {
      "text/plain": "shape: (5, 15)\n┌─────┬────────────────────────────┬────────┬─────┬───┬───────────┬─────┬─────┬─────┐\n│ c1  ┆ c2                         ┆ c3     ┆ c4  ┆ … ┆ c12       ┆ c13 ┆ c14 ┆ c15 │\n│ --- ┆ ---                        ┆ ---    ┆ --- ┆   ┆ ---       ┆ --- ┆ --- ┆ --- │\n│ str ┆ datetime[μs]               ┆ i64    ┆ i64 ┆   ┆ f32       ┆ str ┆ str ┆ str │\n╞═════╪════════════════════════════╪════════╪═════╪═══╪═══════════╪═════╪═════╪═════╡\n│ F@  ┆ 1970-01-01 03:00:00.419064 ┆ 81065  ┆ 352 ┆ … ┆ 99.800003 ┆ -   ┆ C   ┆ A   │\n│ F@  ┆ 1970-01-01 03:00:00.768722 ┆ 139585 ┆ 352 ┆ … ┆ 98.300003 ┆ -   ┆ C   ┆ A   │\n│ F@  ┆ 1970-01-01 03:00:00.803435 ┆ 144021 ┆ 352 ┆ … ┆ 98.300003 ┆ -   ┆ C   ┆ A   │\n│ F@  ┆ 1970-01-01 03:00:00.807038 ┆ 144546 ┆ 352 ┆ … ┆ 98.300003 ┆ -   ┆ C   ┆ A   │\n│ F@  ┆ 1970-01-01 03:00:00.809469 ┆ 144834 ┆ 352 ┆ … ┆ 95.099998 ┆ -   ┆ C   ┆ A   │\n└─────┴────────────────────────────┴────────┴─────┴───┴───────────┴─────┴─────┴─────┘",
      "text/html": "<div><style>\n.dataframe > thead > tr > th,\n.dataframe > tbody > tr > td {\n  text-align: right;\n}\n</style>\n<small>shape: (5, 15)</small><table border=\"1\" class=\"dataframe\"><thead><tr><th>c1</th><th>c2</th><th>c3</th><th>c4</th><th>c5</th><th>c6</th><th>c7</th><th>c8</th><th>c9</th><th>c10</th><th>c11</th><th>c12</th><th>c13</th><th>c14</th><th>c15</th></tr><tr><td>str</td><td>datetime[μs]</td><td>i64</td><td>i64</td><td>str</td><td>str</td><td>u16</td><td>f32</td><td>str</td><td>str</td><td>u16</td><td>f32</td><td>str</td><td>str</td><td>str</td></tr></thead><tbody><tr><td>&quot;F@&quot;</td><td>1970-01-01 03:00:00.419064</td><td>81065</td><td>352</td><td>&quot;P&quot;</td><td>&quot;SPXW__220302P0…</td><td>1</td><td>91.5</td><td>&quot;-&quot;</td><td>&quot;C&quot;</td><td>5</td><td>99.800003</td><td>&quot;-&quot;</td><td>&quot;C&quot;</td><td>&quot;A&quot;</td></tr><tr><td>&quot;F@&quot;</td><td>1970-01-01 03:00:00.768722</td><td>139585</td><td>352</td><td>&quot;P&quot;</td><td>&quot;SPXW__220302P0…</td><td>10</td><td>90.300003</td><td>&quot;-&quot;</td><td>&quot;C&quot;</td><td>1</td><td>98.300003</td><td>&quot;-&quot;</td><td>&quot;C&quot;</td><td>&quot;A&quot;</td></tr><tr><td>&quot;F@&quot;</td><td>1970-01-01 03:00:00.803435</td><td>144021</td><td>352</td><td>&quot;P&quot;</td><td>&quot;SPXW__220302P0…</td><td>4</td><td>91.900002</td><td>&quot;-&quot;</td><td>&quot;C&quot;</td><td>1</td><td>98.300003</td><td>&quot;-&quot;</td><td>&quot;C&quot;</td><td>&quot;A&quot;</td></tr><tr><td>&quot;F@&quot;</td><td>1970-01-01 03:00:00.807038</td><td>144546</td><td>352</td><td>&quot;P&quot;</td><td>&quot;SPXW__220302P0…</td><td>4</td><td>91.599998</td><td>&quot;-&quot;</td><td>&quot;C&quot;</td><td>1</td><td>98.300003</td><td>&quot;-&quot;</td><td>&quot;C&quot;</td><td>&quot;A&quot;</td></tr><tr><td>&quot;F@&quot;</td><td>1970-01-01 03:00:00.809469</td><td>144834</td><td>352</td><td>&quot;P&quot;</td><td>&quot;SPXW__220302P0…</td><td>4</td><td>91.599998</td><td>&quot;-&quot;</td><td>&quot;C&quot;</td><td>4</td><td>95.099998</td><td>&quot;-&quot;</td><td>&quot;C&quot;</td><td>&quot;A&quot;</td></tr></tbody></table></div>"
     },
     "execution_count": 3,
     "metadata": {},
     "output_type": "execute_result"
    }
   ],
   "source": [
    "df = pl.read_csv(\n",
    "    'data/raw/SPXW__220302P04390000.csv',\n",
    "     separator=' ',\n",
    "     has_header=False,\n",
    "     new_columns=col_names,\n",
    "     ignore_errors=True,\n",
    ")\n",
    "df = cast_types(df)\n",
    "df = df.filter(pl.col('c1') != 'FT')\n",
    "df.head()"
   ],
   "metadata": {
    "collapsed": false,
    "ExecuteTime": {
     "end_time": "2023-06-13T13:10:56.948185500Z",
     "start_time": "2023-06-13T13:10:56.689289800Z"
    }
   }
  },
  {
   "cell_type": "code",
   "execution_count": 4,
   "outputs": [],
   "source": [
    "from src.quote import generate_qr"
   ],
   "metadata": {
    "collapsed": false,
    "ExecuteTime": {
     "end_time": "2023-06-13T13:10:57.129181600Z",
     "start_time": "2023-06-13T13:10:56.951190600Z"
    }
   }
  },
  {
   "cell_type": "code",
   "execution_count": 5,
   "outputs": [
    {
     "name": "stdout",
     "output_type": "stream",
     "text": [
      "CPU times: total: 938 ms\n",
      "Wall time: 358 ms\n"
     ]
    }
   ],
   "source": [
    "%%time\n",
    "qr = generate_qr(df)"
   ],
   "metadata": {
    "collapsed": false,
    "ExecuteTime": {
     "end_time": "2023-06-13T13:10:57.503247400Z",
     "start_time": "2023-06-13T13:10:57.138181700Z"
    }
   }
  },
  {
   "cell_type": "code",
   "execution_count": 6,
   "outputs": [
    {
     "data": {
      "text/plain": "shape: (5, 10)\n┌──────────┬──────────┬──────────┬───────────┬───┬──────────┬───────────┬──────────┬───────────┐\n│ floor    ┆ A        ┆ B        ┆ C         ┆ … ┆ bid_size ┆ bid_price ┆ ask_size ┆ ask_price │\n│ ---      ┆ ---      ┆ ---      ┆ ---       ┆   ┆ ---      ┆ ---       ┆ ---      ┆ ---       │\n│ time     ┆ f64      ┆ f64      ┆ f64       ┆   ┆ u16      ┆ f32       ┆ u16      ┆ f32       │\n╞══════════╪══════════╪══════════╪═══════════╪═══╪══════════╪═══════════╪══════════╪═══════════╡\n│ 15:56:00 ┆ 0.811382 ┆ 0.067916 ┆ 0.0067395 ┆ … ┆ 37       ┆ 3.5       ┆ 2        ┆ 3.6       │\n│ 15:57:00 ┆ 0.692153 ┆ 0.048635 ┆ 0.037932  ┆ … ┆ 9        ┆ 3.7       ┆ 30       ┆ 4.2       │\n│ 15:58:00 ┆ 0.621722 ┆ 0.097804 ┆ 0.015767  ┆ … ┆ 1        ┆ 5.3       ┆ 1        ┆ 5.9       │\n│ 15:59:00 ┆ 0.670967 ┆ 0.130972 ┆ 0.000002  ┆ … ┆ 1        ┆ 6.0       ┆ 1        ┆ 6.7       │\n│ 16:00:00 ┆ 0.528441 ┆ 0.105863 ┆ 0.253316  ┆ … ┆ 9        ┆ 3.3       ┆ 1        ┆ 7.0       │\n└──────────┴──────────┴──────────┴───────────┴───┴──────────┴───────────┴──────────┴───────────┘",
      "text/html": "<div><style>\n.dataframe > thead > tr > th,\n.dataframe > tbody > tr > td {\n  text-align: right;\n}\n</style>\n<small>shape: (5, 10)</small><table border=\"1\" class=\"dataframe\"><thead><tr><th>floor</th><th>A</th><th>B</th><th>C</th><th>O</th><th>symbol</th><th>bid_size</th><th>bid_price</th><th>ask_size</th><th>ask_price</th></tr><tr><td>time</td><td>f64</td><td>f64</td><td>f64</td><td>f64</td><td>str</td><td>u16</td><td>f32</td><td>u16</td><td>f32</td></tr></thead><tbody><tr><td>15:56:00</td><td>0.811382</td><td>0.067916</td><td>0.0067395</td><td>0.113962</td><td>&quot;SPXW__220302P0…</td><td>37</td><td>3.5</td><td>2</td><td>3.6</td></tr><tr><td>15:57:00</td><td>0.692153</td><td>0.048635</td><td>0.037932</td><td>0.22128</td><td>&quot;SPXW__220302P0…</td><td>9</td><td>3.7</td><td>30</td><td>4.2</td></tr><tr><td>15:58:00</td><td>0.621722</td><td>0.097804</td><td>0.015767</td><td>0.264706</td><td>&quot;SPXW__220302P0…</td><td>1</td><td>5.3</td><td>1</td><td>5.9</td></tr><tr><td>15:59:00</td><td>0.670967</td><td>0.130972</td><td>0.000002</td><td>0.198059</td><td>&quot;SPXW__220302P0…</td><td>1</td><td>6.0</td><td>1</td><td>6.7</td></tr><tr><td>16:00:00</td><td>0.528441</td><td>0.105863</td><td>0.253316</td><td>0.11238</td><td>&quot;SPXW__220302P0…</td><td>9</td><td>3.3</td><td>1</td><td>7.0</td></tr></tbody></table></div>"
     },
     "execution_count": 6,
     "metadata": {},
     "output_type": "execute_result"
    }
   ],
   "source": [
    "qr.tail()"
   ],
   "metadata": {
    "collapsed": false,
    "ExecuteTime": {
     "end_time": "2023-06-13T13:10:57.517252700Z",
     "start_time": "2023-06-13T13:10:57.505244900Z"
    }
   }
  },
  {
   "cell_type": "code",
   "execution_count": 7,
   "outputs": [
    {
     "ename": "NameError",
     "evalue": "name 'test' is not defined",
     "output_type": "error",
     "traceback": [
      "\u001B[1;31m---------------------------------------------------------------------------\u001B[0m",
      "\u001B[1;31mNameError\u001B[0m                                 Traceback (most recent call last)",
      "Cell \u001B[1;32mIn[7], line 1\u001B[0m\n\u001B[1;32m----> 1\u001B[0m \u001B[43mtest\u001B[49m\u001B[38;5;241m.\u001B[39mwrite_csv(\u001B[38;5;124m'\u001B[39m\u001B[38;5;124mdata/quote reports/qr2.csv\u001B[39m\u001B[38;5;124m'\u001B[39m, float_precision\u001B[38;5;241m=\u001B[39m\u001B[38;5;241m2\u001B[39m)\n",
      "\u001B[1;31mNameError\u001B[0m: name 'test' is not defined"
     ]
    }
   ],
   "source": [
    "test.write_csv('data/quote reports/qr2.csv', float_precision=2)"
   ],
   "metadata": {
    "collapsed": false,
    "ExecuteTime": {
     "end_time": "2023-06-13T13:10:58.528808800Z",
     "start_time": "2023-06-13T13:10:57.518246600Z"
    }
   }
  }
 ],
 "metadata": {
  "kernelspec": {
   "display_name": "Python 3",
   "language": "python",
   "name": "python3"
  },
  "language_info": {
   "codemirror_mode": {
    "name": "ipython",
    "version": 2
   },
   "file_extension": ".py",
   "mimetype": "text/x-python",
   "name": "python",
   "nbconvert_exporter": "python",
   "pygments_lexer": "ipython2",
   "version": "2.7.6"
  }
 },
 "nbformat": 4,
 "nbformat_minor": 0
}
