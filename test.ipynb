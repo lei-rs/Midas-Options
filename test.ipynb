{
 "cells": [
  {
   "cell_type": "code",
   "execution_count": 1,
   "outputs": [],
   "source": [
    "import polars as pl"
   ],
   "metadata": {
    "collapsed": false,
    "ExecuteTime": {
     "end_time": "2023-08-30T18:53:50.848272Z",
     "start_time": "2023-08-30T18:53:50.801839Z"
    }
   }
  },
  {
   "cell_type": "code",
   "execution_count": 2,
   "outputs": [
    {
     "data": {
      "text/plain": "shape: (5, 83)\n┌─────────────────┬──────┬──────┬───────────┬───┬───────────┬───────────┬───────────┬───────────┐\n│ c2              ┆ nbb  ┆ nbo  ┆ c11_c10_A ┆ … ┆ T_nbo_ind ┆ W_nbo_ind ┆ X_nbo_ind ┆ Z_nbo_ind │\n│ ---             ┆ ---  ┆ ---  ┆ ---       ┆   ┆ ---       ┆ ---       ┆ ---       ┆ ---       │\n│ time            ┆ f32  ┆ f32  ┆ u16       ┆   ┆ i32       ┆ i32       ┆ i32       ┆ i32       │\n╞═════════════════╪══════╪══════╪═══════════╪═══╪═══════════╪═══════════╪═══════════╪═══════════╡\n│ 09:30:00.031005 ┆ 4.95 ┆ 7.35 ┆ 0         ┆ … ┆ 0         ┆ 0         ┆ 0         ┆ 0         │\n│ 09:30:00.042824 ┆ 6.85 ┆ 7.35 ┆ 0         ┆ … ┆ 0         ┆ 0         ┆ 0         ┆ 0         │\n│ 09:30:00.067477 ┆ 6.95 ┆ 7.35 ┆ 0         ┆ … ┆ 0         ┆ 0         ┆ 0         ┆ 0         │\n│ 09:30:00.068220 ┆ 6.95 ┆ 7.35 ┆ 0         ┆ … ┆ 0         ┆ 0         ┆ 0         ┆ 0         │\n│ 09:30:00.072374 ┆ 6.95 ┆ 7.35 ┆ 0         ┆ … ┆ 0         ┆ 0         ┆ 0         ┆ 0         │\n└─────────────────┴──────┴──────┴───────────┴───┴───────────┴───────────┴───────────┴───────────┘",
      "text/html": "<div><style>\n.dataframe > thead > tr > th,\n.dataframe > tbody > tr > td {\n  text-align: right;\n}\n</style>\n<small>shape: (5, 83)</small><table border=\"1\" class=\"dataframe\"><thead><tr><th>c2</th><th>nbb</th><th>nbo</th><th>c11_c10_A</th><th>c11_c10_B</th><th>c11_c10_C</th><th>c11_c10_D</th><th>c11_c10_E</th><th>c11_c10_H</th><th>c11_c10_I</th><th>c11_c10_J</th><th>c11_c10_M</th><th>c11_c10_N</th><th>c11_c10_P</th><th>c11_c10_Q</th><th>c11_c10_T</th><th>c11_c10_W</th><th>c11_c10_X</th><th>c11_c10_Z</th><th>c7_c10_A</th><th>c7_c10_B</th><th>c7_c10_C</th><th>c7_c10_D</th><th>c7_c10_E</th><th>c7_c10_H</th><th>c7_c10_I</th><th>c7_c10_J</th><th>c7_c10_M</th><th>c7_c10_N</th><th>c7_c10_P</th><th>c7_c10_Q</th><th>c7_c10_T</th><th>c7_c10_W</th><th>c7_c10_X</th><th>c7_c10_Z</th><th>c15_c10_A</th><th>c15_c10_B</th><th>&hellip;</th><th>c15_c10_Q</th><th>c15_c10_T</th><th>c15_c10_W</th><th>c15_c10_X</th><th>c15_c10_Z</th><th>A_nbb_ind</th><th>B_nbb_ind</th><th>C_nbb_ind</th><th>D_nbb_ind</th><th>E_nbb_ind</th><th>H_nbb_ind</th><th>I_nbb_ind</th><th>J_nbb_ind</th><th>M_nbb_ind</th><th>N_nbb_ind</th><th>P_nbb_ind</th><th>Q_nbb_ind</th><th>T_nbb_ind</th><th>W_nbb_ind</th><th>X_nbb_ind</th><th>Z_nbb_ind</th><th>A_nbo_ind</th><th>B_nbo_ind</th><th>C_nbo_ind</th><th>D_nbo_ind</th><th>E_nbo_ind</th><th>H_nbo_ind</th><th>I_nbo_ind</th><th>J_nbo_ind</th><th>M_nbo_ind</th><th>N_nbo_ind</th><th>P_nbo_ind</th><th>Q_nbo_ind</th><th>T_nbo_ind</th><th>W_nbo_ind</th><th>X_nbo_ind</th><th>Z_nbo_ind</th></tr><tr><td>time</td><td>f32</td><td>f32</td><td>u16</td><td>u16</td><td>u16</td><td>u16</td><td>u16</td><td>u16</td><td>u16</td><td>u16</td><td>u16</td><td>u16</td><td>u16</td><td>u16</td><td>u16</td><td>u16</td><td>u16</td><td>u16</td><td>u16</td><td>u16</td><td>u16</td><td>u16</td><td>u16</td><td>u16</td><td>u16</td><td>u16</td><td>u16</td><td>u16</td><td>u16</td><td>u16</td><td>u16</td><td>u16</td><td>u16</td><td>u16</td><td>str</td><td>str</td><td>&hellip;</td><td>str</td><td>str</td><td>str</td><td>str</td><td>str</td><td>i32</td><td>i32</td><td>i32</td><td>i32</td><td>i32</td><td>i32</td><td>i32</td><td>i32</td><td>i32</td><td>i32</td><td>i32</td><td>i32</td><td>i32</td><td>i32</td><td>i32</td><td>i32</td><td>i32</td><td>i32</td><td>i32</td><td>i32</td><td>i32</td><td>i32</td><td>i32</td><td>i32</td><td>i32</td><td>i32</td><td>i32</td><td>i32</td><td>i32</td><td>i32</td><td>i32</td><td>i32</td></tr></thead><tbody><tr><td>09:30:00.031005</td><td>4.95</td><td>7.35</td><td>0</td><td>0</td><td>0</td><td>0</td><td>0</td><td>0</td><td>0</td><td>1</td><td>0</td><td>0</td><td>0</td><td>0</td><td>0</td><td>0</td><td>0</td><td>0</td><td>0</td><td>0</td><td>0</td><td>0</td><td>0</td><td>0</td><td>0</td><td>1</td><td>0</td><td>0</td><td>0</td><td>0</td><td>0</td><td>0</td><td>0</td><td>0</td><td>&quot;K&quot;</td><td>&quot;K&quot;</td><td>&hellip;</td><td>&quot;R&quot;</td><td>&quot;R&quot;</td><td>&quot;F&quot;</td><td>&quot;R&quot;</td><td>&quot;F&quot;</td><td>0</td><td>0</td><td>0</td><td>0</td><td>0</td><td>0</td><td>0</td><td>1</td><td>0</td><td>0</td><td>0</td><td>0</td><td>0</td><td>0</td><td>0</td><td>0</td><td>0</td><td>0</td><td>0</td><td>0</td><td>0</td><td>0</td><td>0</td><td>1</td><td>0</td><td>0</td><td>0</td><td>0</td><td>0</td><td>0</td><td>0</td><td>0</td></tr><tr><td>09:30:00.042824</td><td>6.85</td><td>7.35</td><td>0</td><td>0</td><td>0</td><td>0</td><td>0</td><td>1</td><td>0</td><td>1</td><td>0</td><td>0</td><td>0</td><td>0</td><td>0</td><td>0</td><td>0</td><td>0</td><td>0</td><td>0</td><td>0</td><td>0</td><td>0</td><td>7</td><td>0</td><td>1</td><td>0</td><td>0</td><td>0</td><td>0</td><td>0</td><td>0</td><td>0</td><td>0</td><td>&quot;K&quot;</td><td>&quot;K&quot;</td><td>&hellip;</td><td>&quot;R&quot;</td><td>&quot;R&quot;</td><td>&quot;F&quot;</td><td>&quot;R&quot;</td><td>&quot;F&quot;</td><td>0</td><td>0</td><td>0</td><td>0</td><td>0</td><td>1</td><td>0</td><td>0</td><td>0</td><td>0</td><td>0</td><td>0</td><td>0</td><td>0</td><td>0</td><td>0</td><td>0</td><td>0</td><td>0</td><td>0</td><td>0</td><td>1</td><td>0</td><td>1</td><td>0</td><td>0</td><td>0</td><td>0</td><td>0</td><td>0</td><td>0</td><td>0</td></tr><tr><td>09:30:00.067477</td><td>6.95</td><td>7.35</td><td>0</td><td>0</td><td>0</td><td>0</td><td>0</td><td>1</td><td>0</td><td>1</td><td>0</td><td>0</td><td>0</td><td>0</td><td>0</td><td>0</td><td>13</td><td>0</td><td>0</td><td>0</td><td>0</td><td>0</td><td>0</td><td>7</td><td>0</td><td>1</td><td>0</td><td>0</td><td>0</td><td>0</td><td>0</td><td>0</td><td>13</td><td>0</td><td>&quot;K&quot;</td><td>&quot;K&quot;</td><td>&hellip;</td><td>&quot;R&quot;</td><td>&quot;R&quot;</td><td>&quot;F&quot;</td><td>&quot;-&quot;</td><td>&quot;F&quot;</td><td>0</td><td>0</td><td>0</td><td>0</td><td>0</td><td>0</td><td>0</td><td>0</td><td>0</td><td>0</td><td>0</td><td>0</td><td>0</td><td>0</td><td>1</td><td>0</td><td>0</td><td>0</td><td>0</td><td>0</td><td>0</td><td>1</td><td>0</td><td>1</td><td>0</td><td>0</td><td>0</td><td>0</td><td>0</td><td>0</td><td>0</td><td>0</td></tr><tr><td>09:30:00.068220</td><td>6.95</td><td>7.35</td><td>0</td><td>0</td><td>0</td><td>0</td><td>0</td><td>1</td><td>0</td><td>1</td><td>0</td><td>0</td><td>0</td><td>0</td><td>0</td><td>0</td><td>13</td><td>0</td><td>0</td><td>0</td><td>0</td><td>0</td><td>0</td><td>7</td><td>0</td><td>17</td><td>0</td><td>0</td><td>0</td><td>0</td><td>0</td><td>0</td><td>13</td><td>0</td><td>&quot;K&quot;</td><td>&quot;K&quot;</td><td>&hellip;</td><td>&quot;R&quot;</td><td>&quot;R&quot;</td><td>&quot;F&quot;</td><td>&quot;-&quot;</td><td>&quot;F&quot;</td><td>0</td><td>0</td><td>0</td><td>0</td><td>0</td><td>0</td><td>0</td><td>1</td><td>0</td><td>0</td><td>0</td><td>0</td><td>0</td><td>0</td><td>1</td><td>0</td><td>0</td><td>0</td><td>0</td><td>0</td><td>0</td><td>1</td><td>0</td><td>1</td><td>0</td><td>0</td><td>0</td><td>0</td><td>0</td><td>0</td><td>0</td><td>0</td></tr><tr><td>09:30:00.072374</td><td>6.95</td><td>7.35</td><td>0</td><td>0</td><td>0</td><td>0</td><td>0</td><td>1</td><td>0</td><td>1</td><td>0</td><td>0</td><td>0</td><td>0</td><td>0</td><td>0</td><td>13</td><td>0</td><td>0</td><td>0</td><td>0</td><td>0</td><td>0</td><td>7</td><td>0</td><td>1</td><td>0</td><td>0</td><td>0</td><td>0</td><td>0</td><td>0</td><td>13</td><td>0</td><td>&quot;K&quot;</td><td>&quot;K&quot;</td><td>&hellip;</td><td>&quot;R&quot;</td><td>&quot;R&quot;</td><td>&quot;F&quot;</td><td>&quot;-&quot;</td><td>&quot;F&quot;</td><td>0</td><td>0</td><td>0</td><td>0</td><td>0</td><td>0</td><td>0</td><td>0</td><td>0</td><td>0</td><td>0</td><td>0</td><td>0</td><td>0</td><td>1</td><td>0</td><td>0</td><td>0</td><td>0</td><td>0</td><td>0</td><td>1</td><td>0</td><td>1</td><td>0</td><td>0</td><td>0</td><td>0</td><td>0</td><td>0</td><td>0</td><td>0</td></tr></tbody></table></div>"
     },
     "execution_count": 2,
     "metadata": {},
     "output_type": "execute_result"
    }
   ],
   "source": [
    "df = pl.read_parquet('test1.parquet')\n",
    "df.head()"
   ],
   "metadata": {
    "collapsed": false,
    "ExecuteTime": {
     "end_time": "2023-08-30T18:53:53.246181Z",
     "start_time": "2023-08-30T18:53:51.685396Z"
    }
   }
  },
  {
   "cell_type": "code",
   "execution_count": 3,
   "outputs": [
    {
     "data": {
      "text/plain": "shape: (5, 33)\n┌───────────┬───────────┬───────────┬───────────┬───┬───────────┬───────────┬───────────┬──────────┐\n│ floor     ┆ A_nbb_ind ┆ B_nbb_ind ┆ C_nbb_ind ┆ … ┆ T_nbo_ind ┆ W_nbo_ind ┆ X_nbo_ind ┆ Z_nbo_in │\n│ ---       ┆ ---       ┆ ---       ┆ ---       ┆   ┆ ---       ┆ ---       ┆ ---       ┆ d        │\n│ datetime[ ┆ f64       ┆ f64       ┆ f64       ┆   ┆ f64       ┆ f64       ┆ f64       ┆ ---      │\n│ μs]       ┆           ┆           ┆           ┆   ┆           ┆           ┆           ┆ f64      │\n╞═══════════╪═══════════╪═══════════╪═══════════╪═══╪═══════════╪═══════════╪═══════════╪══════════╡\n│ 1970-01-0 ┆ 0.127045  ┆ 0.233132  ┆ 0.284673  ┆ … ┆ 0.708847  ┆ 0.093206  ┆ 0.122818  ┆ 0.650766 │\n│ 1         ┆           ┆           ┆           ┆   ┆           ┆           ┆           ┆          │\n│ 09:30:00  ┆           ┆           ┆           ┆   ┆           ┆           ┆           ┆          │\n│ 1970-01-0 ┆ 0.0729533 ┆ 0.325773  ┆ 0.2084515 ┆ … ┆ 0.705396  ┆ 0.024674  ┆ 0.099033  ┆ 0.693686 │\n│ 1         ┆           ┆           ┆           ┆   ┆           ┆           ┆           ┆          │\n│ 09:31:00  ┆           ┆           ┆           ┆   ┆           ┆           ┆           ┆          │\n│ 1970-01-0 ┆ 0.118931  ┆ 0.527665  ┆ 0.2784639 ┆ … ┆ 0.615309  ┆ 0.010329  ┆ 0.022783  ┆ 0.696184 │\n│ 1         ┆           ┆           ┆           ┆   ┆           ┆           ┆           ┆          │\n│ 09:32:00  ┆           ┆           ┆           ┆   ┆           ┆           ┆           ┆          │\n│ 1970-01-0 ┆ 0.124495  ┆ 0.536957  ┆ 0.243383  ┆ … ┆ 0.633723  ┆ 0.056252  ┆ 0.092342  ┆ 0.693042 │\n│ 1         ┆           ┆           ┆           ┆   ┆           ┆           ┆           ┆          │\n│ 09:33:00  ┆           ┆           ┆           ┆   ┆           ┆           ┆           ┆          │\n│ 1970-01-0 ┆ 0.011001  ┆ 0.303533  ┆ 0.105065  ┆ … ┆ 0.502821  ┆ 0.279147  ┆ 0.245904  ┆ 0.598596 │\n│ 1         ┆           ┆           ┆           ┆   ┆           ┆           ┆           ┆          │\n│ 09:34:00  ┆           ┆           ┆           ┆   ┆           ┆           ┆           ┆          │\n└───────────┴───────────┴───────────┴───────────┴───┴───────────┴───────────┴───────────┴──────────┘",
      "text/html": "<div><style>\n.dataframe > thead > tr > th,\n.dataframe > tbody > tr > td {\n  text-align: right;\n}\n</style>\n<small>shape: (5, 33)</small><table border=\"1\" class=\"dataframe\"><thead><tr><th>floor</th><th>A_nbb_ind</th><th>B_nbb_ind</th><th>C_nbb_ind</th><th>D_nbb_ind</th><th>E_nbb_ind</th><th>H_nbb_ind</th><th>I_nbb_ind</th><th>J_nbb_ind</th><th>M_nbb_ind</th><th>N_nbb_ind</th><th>P_nbb_ind</th><th>Q_nbb_ind</th><th>T_nbb_ind</th><th>W_nbb_ind</th><th>X_nbb_ind</th><th>Z_nbb_ind</th><th>A_nbo_ind</th><th>B_nbo_ind</th><th>C_nbo_ind</th><th>D_nbo_ind</th><th>E_nbo_ind</th><th>H_nbo_ind</th><th>I_nbo_ind</th><th>J_nbo_ind</th><th>M_nbo_ind</th><th>N_nbo_ind</th><th>P_nbo_ind</th><th>Q_nbo_ind</th><th>T_nbo_ind</th><th>W_nbo_ind</th><th>X_nbo_ind</th><th>Z_nbo_ind</th></tr><tr><td>datetime[μs]</td><td>f64</td><td>f64</td><td>f64</td><td>f64</td><td>f64</td><td>f64</td><td>f64</td><td>f64</td><td>f64</td><td>f64</td><td>f64</td><td>f64</td><td>f64</td><td>f64</td><td>f64</td><td>f64</td><td>f64</td><td>f64</td><td>f64</td><td>f64</td><td>f64</td><td>f64</td><td>f64</td><td>f64</td><td>f64</td><td>f64</td><td>f64</td><td>f64</td><td>f64</td><td>f64</td><td>f64</td><td>f64</td></tr></thead><tbody><tr><td>1970-01-01 09:30:00</td><td>0.127045</td><td>0.233132</td><td>0.284673</td><td>0.390148</td><td>0.393278</td><td>0.418102</td><td>0.346235</td><td>0.144029</td><td>0.528227</td><td>0.571527</td><td>0.580189</td><td>0.56909</td><td>0.599953</td><td>0.237112</td><td>0.378447</td><td>0.506341</td><td>0.334384</td><td>0.54719</td><td>0.134153</td><td>0.078217</td><td>0.203837</td><td>0.063392</td><td>0.07691</td><td>0.086239</td><td>0.523592</td><td>0.746503</td><td>0.639876</td><td>0.665545</td><td>0.708847</td><td>0.093206</td><td>0.122818</td><td>0.650766</td></tr><tr><td>1970-01-01 09:31:00</td><td>0.0729533</td><td>0.325773</td><td>0.2084515</td><td>0.436292</td><td>0.455109</td><td>0.344211</td><td>0.338941</td><td>0.256399</td><td>0.427279</td><td>0.6224951</td><td>0.538805</td><td>0.658532</td><td>0.587514</td><td>0.121605</td><td>0.312128</td><td>0.55319</td><td>0.35365</td><td>0.518966</td><td>0.135361</td><td>0.044493</td><td>0.205957</td><td>0.009721</td><td>0.055922</td><td>0.034771</td><td>0.529633</td><td>0.73069</td><td>0.659228</td><td>0.7429526</td><td>0.705396</td><td>0.024674</td><td>0.099033</td><td>0.693686</td></tr><tr><td>1970-01-01 09:32:00</td><td>0.118931</td><td>0.527665</td><td>0.2784639</td><td>0.3774853</td><td>0.368525</td><td>0.389129</td><td>0.3030127</td><td>0.206217</td><td>0.544009</td><td>0.6061817</td><td>0.557814</td><td>0.518638</td><td>0.511787</td><td>0.173265</td><td>0.2909793</td><td>0.555694</td><td>0.075695</td><td>0.460024</td><td>0.028083</td><td>0.12675</td><td>0.1715965</td><td>0.001335</td><td>0.007217</td><td>0.23079</td><td>0.299468</td><td>0.650975</td><td>0.67734</td><td>0.7179867</td><td>0.615309</td><td>0.010329</td><td>0.022783</td><td>0.696184</td></tr><tr><td>1970-01-01 09:33:00</td><td>0.124495</td><td>0.536957</td><td>0.243383</td><td>0.408785</td><td>0.367026</td><td>0.398719</td><td>0.363456</td><td>0.070023</td><td>0.6206642</td><td>0.74446</td><td>0.688365</td><td>0.6189243</td><td>0.588372</td><td>0.200673</td><td>0.3620773</td><td>0.632177</td><td>0.143733</td><td>0.424836</td><td>0.101949</td><td>0.091366</td><td>0.229222</td><td>0.059243</td><td>0.068214</td><td>0.1164646</td><td>0.220693</td><td>0.765701</td><td>0.638466</td><td>0.665048</td><td>0.633723</td><td>0.056252</td><td>0.092342</td><td>0.693042</td></tr><tr><td>1970-01-01 09:34:00</td><td>0.011001</td><td>0.303533</td><td>0.105065</td><td>0.248386</td><td>0.2681971</td><td>0.159032</td><td>0.1057539</td><td>0.135628</td><td>0.379137</td><td>0.6183676</td><td>0.5972032</td><td>0.55956</td><td>0.529767</td><td>0.090058</td><td>0.10954</td><td>0.617454</td><td>0.146486</td><td>0.3182744</td><td>0.240684</td><td>0.344156</td><td>0.309451</td><td>0.2908516</td><td>0.284908</td><td>0.09326</td><td>0.370244</td><td>0.715338</td><td>0.584375</td><td>0.627302</td><td>0.502821</td><td>0.279147</td><td>0.245904</td><td>0.598596</td></tr></tbody></table></div>"
     },
     "execution_count": 3,
     "metadata": {},
     "output_type": "execute_result"
    }
   ],
   "source": [
    "from src.nbbo import time_at_nbbo\n",
    "df = time_at_nbbo(df)\n",
    "df.head()"
   ],
   "metadata": {
    "collapsed": false,
    "ExecuteTime": {
     "end_time": "2023-08-30T18:53:55.502769Z",
     "start_time": "2023-08-30T18:53:53.230102Z"
    }
   }
  },
  {
   "cell_type": "code",
   "execution_count": 4,
   "outputs": [],
   "source": [
    "df.write_csv('time_at_nbbo.csv')"
   ],
   "metadata": {
    "collapsed": false,
    "ExecuteTime": {
     "end_time": "2023-08-30T18:53:56.713070Z",
     "start_time": "2023-08-30T18:53:56.703515Z"
    }
   }
  },
  {
   "cell_type": "code",
   "execution_count": null,
   "outputs": [],
   "source": [],
   "metadata": {
    "collapsed": false
   }
  }
 ],
 "metadata": {
  "kernelspec": {
   "display_name": "Python 3",
   "language": "python",
   "name": "python3"
  },
  "language_info": {
   "codemirror_mode": {
    "name": "ipython",
    "version": 2
   },
   "file_extension": ".py",
   "mimetype": "text/x-python",
   "name": "python",
   "nbconvert_exporter": "python",
   "pygments_lexer": "ipython2",
   "version": "2.7.6"
  }
 },
 "nbformat": 4,
 "nbformat_minor": 0
}
