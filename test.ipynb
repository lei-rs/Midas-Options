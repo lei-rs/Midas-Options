{
 "cells": [
  {
   "cell_type": "code",
   "execution_count": 1,
   "outputs": [],
   "source": [
    "import polars as pl"
   ],
   "metadata": {
    "collapsed": false,
    "ExecuteTime": {
     "end_time": "2023-10-20T03:05:18.999545Z",
     "start_time": "2023-10-20T03:05:18.952857Z"
    }
   }
  },
  {
   "cell_type": "code",
   "execution_count": 2,
   "outputs": [
    {
     "data": {
      "text/plain": "shape: (5, 15)\n┌─────┬─────────────┬───────┬─────┬───┬──────┬─────┬─────┬─────┐\n│ c1  ┆ c2          ┆ c3    ┆ c4  ┆ … ┆ c12  ┆ c13 ┆ c14 ┆ c15 │\n│ --- ┆ ---         ┆ ---   ┆ --- ┆   ┆ ---  ┆ --- ┆ --- ┆ --- │\n│ str ┆ i64         ┆ i64   ┆ i64 ┆   ┆ str  ┆ str ┆ str ┆ str │\n╞═════╪═════════════╪═══════╪═════╪═══╪══════╪═════╪═════╪═════╡\n│ F@  ┆ 28800222152 ┆ 2551  ┆ 355 ┆ … ┆ 0.00 ┆ n   ┆ C   ┆ F   │\n│ F@  ┆ 28800615769 ┆ 7252  ┆ 356 ┆ … ┆ 0.00 ┆ n   ┆ Z   ┆ F   │\n│ F@  ┆ 28800713366 ┆ 8472  ┆ 356 ┆ … ┆ 0.00 ┆ n   ┆ E   ┆ F   │\n│ F@  ┆ 28800798920 ┆ 9413  ┆ 356 ┆ … ┆ 0.00 ┆ n   ┆ W   ┆ F   │\n│ F@  ┆ 30600221420 ┆ 13077 ┆ 357 ┆ … ┆ 0.00 ┆ n   ┆ C   ┆ F   │\n└─────┴─────────────┴───────┴─────┴───┴──────┴─────┴─────┴─────┘",
      "text/html": "<div><style>\n.dataframe > thead > tr > th,\n.dataframe > tbody > tr > td {\n  text-align: right;\n}\n</style>\n<small>shape: (5, 15)</small><table border=\"1\" class=\"dataframe\"><thead><tr><th>c1</th><th>c2</th><th>c3</th><th>c4</th><th>c5</th><th>c6</th><th>c7</th><th>c8</th><th>c9</th><th>c10</th><th>c11</th><th>c12</th><th>c13</th><th>c14</th><th>c15</th></tr><tr><td>str</td><td>i64</td><td>i64</td><td>i64</td><td>str</td><td>str</td><td>str</td><td>f64</td><td>str</td><td>str</td><td>str</td><td>str</td><td>str</td><td>str</td><td>str</td></tr></thead><tbody><tr><td>&quot;F@&quot;</td><td>28800222152</td><td>2551</td><td>355</td><td>&quot;P&quot;</td><td>&quot;TSLA__220701P0…</td><td>&quot;0&quot;</td><td>0.0</td><td>&quot;n&quot;</td><td>&quot;C&quot;</td><td>&quot;0&quot;</td><td>&quot;0.00&quot;</td><td>&quot;n&quot;</td><td>&quot;C&quot;</td><td>&quot;F&quot;</td></tr><tr><td>&quot;F@&quot;</td><td>28800615769</td><td>7252</td><td>356</td><td>&quot;P&quot;</td><td>&quot;TSLA__220701P0…</td><td>&quot;0&quot;</td><td>0.0</td><td>&quot;n&quot;</td><td>&quot;Z&quot;</td><td>&quot;0&quot;</td><td>&quot;0.00&quot;</td><td>&quot;n&quot;</td><td>&quot;Z&quot;</td><td>&quot;F&quot;</td></tr><tr><td>&quot;F@&quot;</td><td>28800713366</td><td>8472</td><td>356</td><td>&quot;P&quot;</td><td>&quot;TSLA__220701P0…</td><td>&quot;0&quot;</td><td>0.0</td><td>&quot;n&quot;</td><td>&quot;E&quot;</td><td>&quot;0&quot;</td><td>&quot;0.00&quot;</td><td>&quot;n&quot;</td><td>&quot;E&quot;</td><td>&quot;F&quot;</td></tr><tr><td>&quot;F@&quot;</td><td>28800798920</td><td>9413</td><td>356</td><td>&quot;P&quot;</td><td>&quot;TSLA__220701P0…</td><td>&quot;0&quot;</td><td>0.0</td><td>&quot;n&quot;</td><td>&quot;W&quot;</td><td>&quot;0&quot;</td><td>&quot;0.00&quot;</td><td>&quot;n&quot;</td><td>&quot;W&quot;</td><td>&quot;F&quot;</td></tr><tr><td>&quot;F@&quot;</td><td>30600221420</td><td>13077</td><td>357</td><td>&quot;P&quot;</td><td>&quot;TSLA__220701P0…</td><td>&quot;0&quot;</td><td>0.0</td><td>&quot;n&quot;</td><td>&quot;C&quot;</td><td>&quot;0&quot;</td><td>&quot;0.00&quot;</td><td>&quot;n&quot;</td><td>&quot;C&quot;</td><td>&quot;F&quot;</td></tr></tbody></table></div>"
     },
     "execution_count": 2,
     "metadata": {},
     "output_type": "execute_result"
    }
   ],
   "source": [
    "df = pl.read_parquet('data/temp_tesla.parquet')\n",
    "df.columns = [f'c{i}' for i in range(1, 16)]\n",
    "df.head()"
   ],
   "metadata": {
    "collapsed": false,
    "ExecuteTime": {
     "end_time": "2023-10-20T03:05:19.736593Z",
     "start_time": "2023-10-20T03:05:19.582413Z"
    }
   }
  },
  {
   "cell_type": "code",
   "execution_count": 3,
   "outputs": [],
   "source": [
    "from src.nbbo import ExecutionAnalysis\n",
    "e = ExecutionAnalysis(df)"
   ],
   "metadata": {
    "collapsed": false,
    "ExecuteTime": {
     "end_time": "2023-10-20T03:05:22.805606Z",
     "start_time": "2023-10-20T03:05:20.217267Z"
    }
   }
  },
  {
   "cell_type": "code",
   "execution_count": 4,
   "outputs": [
    {
     "data": {
      "text/plain": "array([['FT', datetime.datetime(1970, 1, 1, 9, 30, 29, 933942), 6343825,\n        ..., 3, 6.349999904632568, 'A'],\n       ['FT', datetime.datetime(1970, 1, 1, 9, 30, 33, 247409), 6840527,\n        ..., 3, 6.900000095367432, 'A'],\n       ['FT', datetime.datetime(1970, 1, 1, 9, 30, 41, 665601), 7564208,\n        ..., 3, 6.75, 'B'],\n       ...,\n       ['FT', datetime.datetime(1970, 1, 1, 10, 51, 19, 363660),\n        612073079, ..., 6, 8.699999809265137, 'B'],\n       ['FT', datetime.datetime(1970, 1, 1, 10, 51, 23, 331377),\n        612409054, ..., 5, 8.75, 'B'],\n       ['FT', datetime.datetime(1970, 1, 1, 10, 51, 41, 766001),\n        613942566, ..., 6, 8.75, 'B']], dtype=object)"
     },
     "execution_count": 4,
     "metadata": {},
     "output_type": "execute_result"
    }
   ],
   "source": [
    "e._exchange_report('N')"
   ],
   "metadata": {
    "collapsed": false,
    "ExecuteTime": {
     "end_time": "2023-10-20T03:05:22.934928Z",
     "start_time": "2023-10-20T03:05:22.803704Z"
    }
   }
  },
  {
   "cell_type": "code",
   "execution_count": 9,
   "outputs": [
    {
     "data": {
      "text/plain": "shape: (5, 16)\n┌─────┬─────────────┬───────┬─────┬───┬─────┬──────┬──────┬───────┐\n│ c1  ┆ c2          ┆ c3    ┆ c4  ┆ … ┆ c13 ┆ c14  ┆ c15  ┆ index │\n│ --- ┆ ---         ┆ ---   ┆ --- ┆   ┆ --- ┆ ---  ┆ ---  ┆ ---   │\n│ str ┆ i64         ┆ i64   ┆ i64 ┆   ┆ str ┆ str  ┆ str  ┆ i64   │\n╞═════╪═════════════╪═══════╪═════╪═══╪═════╪══════╪══════╪═══════╡\n│ F@  ┆ 33900011124 ┆ 31449 ┆ 359 ┆ … ┆ -   ┆ X    ┆ R    ┆ 0     │\n│ FT  ┆ 34200067477 ┆ 48463 ┆ 356 ┆ … ┆ I   ┆ null ┆ null ┆ 1     │\n│ F@  ┆ 34200067477 ┆ 48464 ┆ 356 ┆ … ┆ -   ┆ X    ┆ -    ┆ 2     │\n│ F@  ┆ 34200083079 ┆ 48978 ┆ 356 ┆ … ┆ -   ┆ X    ┆ -    ┆ 3     │\n│ F@  ┆ 34200096496 ┆ 49790 ┆ 356 ┆ … ┆ -   ┆ X    ┆ -    ┆ 4     │\n└─────┴─────────────┴───────┴─────┴───┴─────┴──────┴──────┴───────┘",
      "text/html": "<div><style>\n.dataframe > thead > tr > th,\n.dataframe > tbody > tr > td {\n  text-align: right;\n}\n</style>\n<small>shape: (5, 16)</small><table border=\"1\" class=\"dataframe\"><thead><tr><th>c1</th><th>c2</th><th>c3</th><th>c4</th><th>c5</th><th>c6</th><th>c7</th><th>c8</th><th>c9</th><th>c10</th><th>c11</th><th>c12</th><th>c13</th><th>c14</th><th>c15</th><th>index</th></tr><tr><td>str</td><td>i64</td><td>i64</td><td>i64</td><td>str</td><td>str</td><td>str</td><td>f64</td><td>str</td><td>str</td><td>str</td><td>str</td><td>str</td><td>str</td><td>str</td><td>i64</td></tr></thead><tbody><tr><td>&quot;F@&quot;</td><td>33900011124</td><td>31449</td><td>359</td><td>&quot;P&quot;</td><td>&quot;TSLA__220701P0…</td><td>&quot;0&quot;</td><td>0.0</td><td>&quot;-&quot;</td><td>&quot;X&quot;</td><td>&quot;0&quot;</td><td>&quot;0.00&quot;</td><td>&quot;-&quot;</td><td>&quot;X&quot;</td><td>&quot;R&quot;</td><td>0</td></tr><tr><td>&quot;FT&quot;</td><td>34200067477</td><td>48463</td><td>356</td><td>&quot;P&quot;</td><td>&quot;TSLA__220701P0…</td><td>&quot;T&quot;</td><td>6.0</td><td>&quot;7.00&quot;</td><td>&quot;X&quot;</td><td>&quot;-&quot;</td><td>&quot;X&quot;</td><td>&quot;I&quot;</td><td>null</td><td>null</td><td>1</td></tr><tr><td>&quot;F@&quot;</td><td>34200067477</td><td>48464</td><td>356</td><td>&quot;P&quot;</td><td>&quot;TSLA__220701P0…</td><td>&quot;13&quot;</td><td>6.95</td><td>&quot;-&quot;</td><td>&quot;X&quot;</td><td>&quot;13&quot;</td><td>&quot;7.45&quot;</td><td>&quot;-&quot;</td><td>&quot;X&quot;</td><td>&quot;-&quot;</td><td>2</td></tr><tr><td>&quot;F@&quot;</td><td>34200083079</td><td>48978</td><td>356</td><td>&quot;P&quot;</td><td>&quot;TSLA__220701P0…</td><td>&quot;13&quot;</td><td>6.95</td><td>&quot;-&quot;</td><td>&quot;X&quot;</td><td>&quot;13&quot;</td><td>&quot;7.40&quot;</td><td>&quot;-&quot;</td><td>&quot;X&quot;</td><td>&quot;-&quot;</td><td>3</td></tr><tr><td>&quot;F@&quot;</td><td>34200096496</td><td>49790</td><td>356</td><td>&quot;P&quot;</td><td>&quot;TSLA__220701P0…</td><td>&quot;13&quot;</td><td>6.85</td><td>&quot;-&quot;</td><td>&quot;X&quot;</td><td>&quot;13&quot;</td><td>&quot;7.40&quot;</td><td>&quot;-&quot;</td><td>&quot;X&quot;</td><td>&quot;-&quot;</td><td>4</td></tr></tbody></table></div>"
     },
     "execution_count": 9,
     "metadata": {},
     "output_type": "execute_result"
    }
   ],
   "source": [
    "t = e.by_exchange['X']\n",
    "t.head()"
   ],
   "metadata": {
    "collapsed": false,
    "ExecuteTime": {
     "end_time": "2023-10-20T00:36:37.432294Z",
     "start_time": "2023-10-20T00:36:37.426587Z"
    }
   }
  },
  {
   "cell_type": "code",
   "execution_count": 12,
   "outputs": [
    {
     "data": {
      "text/plain": "shape: (5, 16)\n┌─────┬─────────────┬───────────┬─────┬───┬─────┬──────┬──────┬────────┐\n│ c1  ┆ c2          ┆ c3        ┆ c4  ┆ … ┆ c13 ┆ c14  ┆ c15  ┆ index  │\n│ --- ┆ ---         ┆ ---       ┆ --- ┆   ┆ --- ┆ ---  ┆ ---  ┆ ---    │\n│ str ┆ i64         ┆ i64       ┆ i64 ┆   ┆ str ┆ str  ┆ str  ┆ i64    │\n╞═════╪═════════════╪═══════════╪═════╪═══╪═════╪══════╪══════╪════════╡\n│ FT  ┆ 38858337703 ┆ 590601885 ┆ 361 ┆ … ┆ a   ┆ null ┆ null ┆ 102457 │\n│ FT  ┆ 38895899701 ┆ 595416182 ┆ 360 ┆ … ┆ a   ┆ null ┆ null ┆ 103509 │\n│ FT  ┆ 38980560701 ┆ 603670515 ┆ 360 ┆ … ┆ a   ┆ null ┆ null ┆ 105342 │\n│ FT  ┆ 39051596696 ┆ 609099697 ┆ 359 ┆ … ┆ a   ┆ null ┆ null ┆ 106609 │\n│ FT  ┆ 39105470956 ┆ 614216921 ┆ 360 ┆ … ┆ f   ┆ null ┆ null ┆ 107685 │\n└─────┴─────────────┴───────────┴─────┴───┴─────┴──────┴──────┴────────┘",
      "text/html": "<div><style>\n.dataframe > thead > tr > th,\n.dataframe > tbody > tr > td {\n  text-align: right;\n}\n</style>\n<small>shape: (5, 16)</small><table border=\"1\" class=\"dataframe\"><thead><tr><th>c1</th><th>c2</th><th>c3</th><th>c4</th><th>c5</th><th>c6</th><th>c7</th><th>c8</th><th>c9</th><th>c10</th><th>c11</th><th>c12</th><th>c13</th><th>c14</th><th>c15</th><th>index</th></tr><tr><td>str</td><td>i64</td><td>i64</td><td>i64</td><td>str</td><td>str</td><td>str</td><td>f64</td><td>str</td><td>str</td><td>str</td><td>str</td><td>str</td><td>str</td><td>str</td><td>i64</td></tr></thead><tbody><tr><td>&quot;FT&quot;</td><td>38858337703</td><td>590601885</td><td>361</td><td>&quot;P&quot;</td><td>&quot;TSLA__220701P0…</td><td>&quot;T&quot;</td><td>1.0</td><td>&quot;7.62&quot;</td><td>&quot;X&quot;</td><td>&quot;-&quot;</td><td>&quot;X&quot;</td><td>&quot;a&quot;</td><td>null</td><td>null</td><td>102457</td></tr><tr><td>&quot;FT&quot;</td><td>38895899701</td><td>595416182</td><td>360</td><td>&quot;P&quot;</td><td>&quot;TSLA__220701P0…</td><td>&quot;T&quot;</td><td>5.0</td><td>&quot;7.08&quot;</td><td>&quot;X&quot;</td><td>&quot;-&quot;</td><td>&quot;X&quot;</td><td>&quot;a&quot;</td><td>null</td><td>null</td><td>103509</td></tr><tr><td>&quot;FT&quot;</td><td>38980560701</td><td>603670515</td><td>360</td><td>&quot;P&quot;</td><td>&quot;TSLA__220701P0…</td><td>&quot;T&quot;</td><td>1.0</td><td>&quot;7.25&quot;</td><td>&quot;X&quot;</td><td>&quot;-&quot;</td><td>&quot;X&quot;</td><td>&quot;a&quot;</td><td>null</td><td>null</td><td>105342</td></tr><tr><td>&quot;FT&quot;</td><td>39051596696</td><td>609099697</td><td>359</td><td>&quot;P&quot;</td><td>&quot;TSLA__220701P0…</td><td>&quot;T&quot;</td><td>1.0</td><td>&quot;8.17&quot;</td><td>&quot;X&quot;</td><td>&quot;-&quot;</td><td>&quot;X&quot;</td><td>&quot;a&quot;</td><td>null</td><td>null</td><td>106609</td></tr><tr><td>&quot;FT&quot;</td><td>39105470956</td><td>614216921</td><td>360</td><td>&quot;P&quot;</td><td>&quot;TSLA__220701P0…</td><td>&quot;T&quot;</td><td>1.0</td><td>&quot;8.43&quot;</td><td>&quot;X&quot;</td><td>&quot;-&quot;</td><td>&quot;X&quot;</td><td>&quot;f&quot;</td><td>null</td><td>null</td><td>107685</td></tr></tbody></table></div>"
     },
     "execution_count": 12,
     "metadata": {},
     "output_type": "execute_result"
    }
   ],
   "source": [
    "t.filter(pl.col('c1') == 'FT').tail()"
   ],
   "metadata": {
    "collapsed": false,
    "ExecuteTime": {
     "end_time": "2023-10-20T00:38:09.396609Z",
     "start_time": "2023-10-20T00:38:09.389698Z"
    }
   }
  },
  {
   "cell_type": "code",
   "execution_count": 13,
   "outputs": [
    {
     "data": {
      "text/plain": "shape: (107_699, 16)\n┌─────┬─────────────┬───────────┬─────┬───┬─────┬──────┬──────┬────────┐\n│ c1  ┆ c2          ┆ c3        ┆ c4  ┆ … ┆ c13 ┆ c14  ┆ c15  ┆ index  │\n│ --- ┆ ---         ┆ ---       ┆ --- ┆   ┆ --- ┆ ---  ┆ ---  ┆ ---    │\n│ str ┆ i64         ┆ i64       ┆ i64 ┆   ┆ str ┆ str  ┆ str  ┆ i64    │\n╞═════╪═════════════╪═══════════╪═════╪═══╪═════╪══════╪══════╪════════╡\n│ F@  ┆ 33900011124 ┆ 31449     ┆ 359 ┆ … ┆ -   ┆ X    ┆ R    ┆ 0      │\n│ FT  ┆ 34200067477 ┆ 48463     ┆ 356 ┆ … ┆ I   ┆ null ┆ null ┆ 1      │\n│ F@  ┆ 34200067477 ┆ 48464     ┆ 356 ┆ … ┆ -   ┆ X    ┆ -    ┆ 2      │\n│ F@  ┆ 34200083079 ┆ 48978     ┆ 356 ┆ … ┆ -   ┆ X    ┆ -    ┆ 3      │\n│ …   ┆ …           ┆ …         ┆ …   ┆ … ┆ …   ┆ …    ┆ …    ┆ …      │\n│ F@  ┆ 39105535939 ┆ 614258678 ┆ 360 ┆ … ┆ -   ┆ X    ┆ -    ┆ 107695 │\n│ F@  ┆ 39105552614 ┆ 614265413 ┆ 360 ┆ … ┆ -   ┆ X    ┆ -    ┆ 107696 │\n│ F@  ┆ 39105581337 ┆ 614272421 ┆ 359 ┆ … ┆ -   ┆ X    ┆ -    ┆ 107697 │\n│ F@  ┆ 39105581407 ┆ 614272430 ┆ 359 ┆ … ┆ -   ┆ X    ┆ -    ┆ 107698 │\n└─────┴─────────────┴───────────┴─────┴───┴─────┴──────┴──────┴────────┘",
      "text/html": "<div><style>\n.dataframe > thead > tr > th,\n.dataframe > tbody > tr > td {\n  text-align: right;\n}\n</style>\n<small>shape: (107_699, 16)</small><table border=\"1\" class=\"dataframe\"><thead><tr><th>c1</th><th>c2</th><th>c3</th><th>c4</th><th>c5</th><th>c6</th><th>c7</th><th>c8</th><th>c9</th><th>c10</th><th>c11</th><th>c12</th><th>c13</th><th>c14</th><th>c15</th><th>index</th></tr><tr><td>str</td><td>i64</td><td>i64</td><td>i64</td><td>str</td><td>str</td><td>str</td><td>f64</td><td>str</td><td>str</td><td>str</td><td>str</td><td>str</td><td>str</td><td>str</td><td>i64</td></tr></thead><tbody><tr><td>&quot;F@&quot;</td><td>33900011124</td><td>31449</td><td>359</td><td>&quot;P&quot;</td><td>&quot;TSLA__220701P0…</td><td>&quot;0&quot;</td><td>0.0</td><td>&quot;-&quot;</td><td>&quot;X&quot;</td><td>&quot;0&quot;</td><td>&quot;0.00&quot;</td><td>&quot;-&quot;</td><td>&quot;X&quot;</td><td>&quot;R&quot;</td><td>0</td></tr><tr><td>&quot;FT&quot;</td><td>34200067477</td><td>48463</td><td>356</td><td>&quot;P&quot;</td><td>&quot;TSLA__220701P0…</td><td>&quot;T&quot;</td><td>6.0</td><td>&quot;7.00&quot;</td><td>&quot;X&quot;</td><td>&quot;-&quot;</td><td>&quot;X&quot;</td><td>&quot;I&quot;</td><td>null</td><td>null</td><td>1</td></tr><tr><td>&quot;F@&quot;</td><td>34200067477</td><td>48464</td><td>356</td><td>&quot;P&quot;</td><td>&quot;TSLA__220701P0…</td><td>&quot;13&quot;</td><td>6.95</td><td>&quot;-&quot;</td><td>&quot;X&quot;</td><td>&quot;13&quot;</td><td>&quot;7.45&quot;</td><td>&quot;-&quot;</td><td>&quot;X&quot;</td><td>&quot;-&quot;</td><td>2</td></tr><tr><td>&quot;F@&quot;</td><td>34200083079</td><td>48978</td><td>356</td><td>&quot;P&quot;</td><td>&quot;TSLA__220701P0…</td><td>&quot;13&quot;</td><td>6.95</td><td>&quot;-&quot;</td><td>&quot;X&quot;</td><td>&quot;13&quot;</td><td>&quot;7.40&quot;</td><td>&quot;-&quot;</td><td>&quot;X&quot;</td><td>&quot;-&quot;</td><td>3</td></tr><tr><td>&quot;F@&quot;</td><td>34200096496</td><td>49790</td><td>356</td><td>&quot;P&quot;</td><td>&quot;TSLA__220701P0…</td><td>&quot;13&quot;</td><td>6.85</td><td>&quot;-&quot;</td><td>&quot;X&quot;</td><td>&quot;13&quot;</td><td>&quot;7.40&quot;</td><td>&quot;-&quot;</td><td>&quot;X&quot;</td><td>&quot;-&quot;</td><td>4</td></tr><tr><td>&quot;F@&quot;</td><td>34200168232</td><td>52562</td><td>356</td><td>&quot;P&quot;</td><td>&quot;TSLA__220701P0…</td><td>&quot;13&quot;</td><td>6.85</td><td>&quot;-&quot;</td><td>&quot;X&quot;</td><td>&quot;13&quot;</td><td>&quot;7.50&quot;</td><td>&quot;-&quot;</td><td>&quot;X&quot;</td><td>&quot;-&quot;</td><td>5</td></tr><tr><td>&quot;F@&quot;</td><td>34200225619</td><td>53465</td><td>357</td><td>&quot;P&quot;</td><td>&quot;TSLA__220701P0…</td><td>&quot;13&quot;</td><td>6.9</td><td>&quot;-&quot;</td><td>&quot;X&quot;</td><td>&quot;13&quot;</td><td>&quot;7.50&quot;</td><td>&quot;-&quot;</td><td>&quot;X&quot;</td><td>&quot;-&quot;</td><td>6</td></tr><tr><td>&quot;F@&quot;</td><td>34200462056</td><td>57221</td><td>356</td><td>&quot;P&quot;</td><td>&quot;TSLA__220701P0…</td><td>&quot;1&quot;</td><td>4.0</td><td>&quot;-&quot;</td><td>&quot;X&quot;</td><td>&quot;4&quot;</td><td>&quot;20.00&quot;</td><td>&quot;-&quot;</td><td>&quot;X&quot;</td><td>&quot;-&quot;</td><td>7</td></tr><tr><td>&quot;F@&quot;</td><td>34200530685</td><td>66714</td><td>357</td><td>&quot;P&quot;</td><td>&quot;TSLA__220701P0…</td><td>&quot;13&quot;</td><td>6.75</td><td>&quot;-&quot;</td><td>&quot;X&quot;</td><td>&quot;13&quot;</td><td>&quot;7.30&quot;</td><td>&quot;-&quot;</td><td>&quot;X&quot;</td><td>&quot;-&quot;</td><td>8</td></tr><tr><td>&quot;F@&quot;</td><td>34200541210</td><td>67771</td><td>357</td><td>&quot;P&quot;</td><td>&quot;TSLA__220701P0…</td><td>&quot;5&quot;</td><td>6.9</td><td>&quot;-&quot;</td><td>&quot;X&quot;</td><td>&quot;13&quot;</td><td>&quot;7.30&quot;</td><td>&quot;-&quot;</td><td>&quot;X&quot;</td><td>&quot;-&quot;</td><td>9</td></tr><tr><td>&quot;F@&quot;</td><td>34200543402</td><td>68319</td><td>359</td><td>&quot;P&quot;</td><td>&quot;TSLA__220701P0…</td><td>&quot;13&quot;</td><td>6.75</td><td>&quot;-&quot;</td><td>&quot;X&quot;</td><td>&quot;13&quot;</td><td>&quot;7.30&quot;</td><td>&quot;-&quot;</td><td>&quot;X&quot;</td><td>&quot;-&quot;</td><td>10</td></tr><tr><td>&quot;F@&quot;</td><td>34200556291</td><td>70377</td><td>358</td><td>&quot;P&quot;</td><td>&quot;TSLA__220701P0…</td><td>&quot;13&quot;</td><td>6.75</td><td>&quot;-&quot;</td><td>&quot;X&quot;</td><td>&quot;13&quot;</td><td>&quot;7.25&quot;</td><td>&quot;-&quot;</td><td>&quot;X&quot;</td><td>&quot;-&quot;</td><td>11</td></tr><tr><td>&hellip;</td><td>&hellip;</td><td>&hellip;</td><td>&hellip;</td><td>&hellip;</td><td>&hellip;</td><td>&hellip;</td><td>&hellip;</td><td>&hellip;</td><td>&hellip;</td><td>&hellip;</td><td>&hellip;</td><td>&hellip;</td><td>&hellip;</td><td>&hellip;</td><td>&hellip;</td></tr><tr><td>&quot;F@&quot;</td><td>39105471367</td><td>614217446</td><td>360</td><td>&quot;P&quot;</td><td>&quot;TSLA__220701P0…</td><td>&quot;1&quot;</td><td>8.1</td><td>&quot;-&quot;</td><td>&quot;X&quot;</td><td>&quot;4&quot;</td><td>&quot;8.75&quot;</td><td>&quot;-&quot;</td><td>&quot;X&quot;</td><td>&quot;-&quot;</td><td>107687</td></tr><tr><td>&quot;F@&quot;</td><td>39105472371</td><td>614218945</td><td>362</td><td>&quot;P&quot;</td><td>&quot;TSLA__220701P0…</td><td>&quot;6&quot;</td><td>7.8</td><td>&quot;-&quot;</td><td>&quot;X&quot;</td><td>&quot;4&quot;</td><td>&quot;8.75&quot;</td><td>&quot;-&quot;</td><td>&quot;X&quot;</td><td>&quot;-&quot;</td><td>107688</td></tr><tr><td>&quot;F@&quot;</td><td>39105478714</td><td>614222931</td><td>361</td><td>&quot;P&quot;</td><td>&quot;TSLA__220701P0…</td><td>&quot;6&quot;</td><td>7.7</td><td>&quot;-&quot;</td><td>&quot;X&quot;</td><td>&quot;4&quot;</td><td>&quot;8.75&quot;</td><td>&quot;-&quot;</td><td>&quot;X&quot;</td><td>&quot;-&quot;</td><td>107689</td></tr><tr><td>&quot;F@&quot;</td><td>39105488495</td><td>614230986</td><td>362</td><td>&quot;P&quot;</td><td>&quot;TSLA__220701P0…</td><td>&quot;6&quot;</td><td>7.7</td><td>&quot;-&quot;</td><td>&quot;X&quot;</td><td>&quot;3&quot;</td><td>&quot;8.75&quot;</td><td>&quot;-&quot;</td><td>&quot;X&quot;</td><td>&quot;-&quot;</td><td>107690</td></tr><tr><td>&quot;F@&quot;</td><td>39105493428</td><td>614234538</td><td>359</td><td>&quot;P&quot;</td><td>&quot;TSLA__220701P0…</td><td>&quot;6&quot;</td><td>7.7</td><td>&quot;-&quot;</td><td>&quot;X&quot;</td><td>&quot;1&quot;</td><td>&quot;8.90&quot;</td><td>&quot;-&quot;</td><td>&quot;X&quot;</td><td>&quot;-&quot;</td><td>107691</td></tr><tr><td>&quot;F@&quot;</td><td>39105505001</td><td>614244498</td><td>360</td><td>&quot;P&quot;</td><td>&quot;TSLA__220701P0…</td><td>&quot;8&quot;</td><td>7.7</td><td>&quot;-&quot;</td><td>&quot;X&quot;</td><td>&quot;1&quot;</td><td>&quot;8.90&quot;</td><td>&quot;-&quot;</td><td>&quot;X&quot;</td><td>&quot;-&quot;</td><td>107692</td></tr><tr><td>&quot;F@&quot;</td><td>39105514424</td><td>614248388</td><td>361</td><td>&quot;P&quot;</td><td>&quot;TSLA__220701P0…</td><td>&quot;6&quot;</td><td>7.7</td><td>&quot;-&quot;</td><td>&quot;X&quot;</td><td>&quot;1&quot;</td><td>&quot;8.90&quot;</td><td>&quot;-&quot;</td><td>&quot;X&quot;</td><td>&quot;-&quot;</td><td>107693</td></tr><tr><td>&quot;F@&quot;</td><td>39105515455</td><td>614248942</td><td>359</td><td>&quot;P&quot;</td><td>&quot;TSLA__220701P0…</td><td>&quot;7&quot;</td><td>7.7</td><td>&quot;-&quot;</td><td>&quot;X&quot;</td><td>&quot;1&quot;</td><td>&quot;8.90&quot;</td><td>&quot;-&quot;</td><td>&quot;X&quot;</td><td>&quot;-&quot;</td><td>107694</td></tr><tr><td>&quot;F@&quot;</td><td>39105535939</td><td>614258678</td><td>360</td><td>&quot;P&quot;</td><td>&quot;TSLA__220701P0…</td><td>&quot;6&quot;</td><td>7.7</td><td>&quot;-&quot;</td><td>&quot;X&quot;</td><td>&quot;1&quot;</td><td>&quot;8.90&quot;</td><td>&quot;-&quot;</td><td>&quot;X&quot;</td><td>&quot;-&quot;</td><td>107695</td></tr><tr><td>&quot;F@&quot;</td><td>39105552614</td><td>614265413</td><td>360</td><td>&quot;P&quot;</td><td>&quot;TSLA__220701P0…</td><td>&quot;6&quot;</td><td>7.7</td><td>&quot;-&quot;</td><td>&quot;X&quot;</td><td>&quot;2&quot;</td><td>&quot;8.90&quot;</td><td>&quot;-&quot;</td><td>&quot;X&quot;</td><td>&quot;-&quot;</td><td>107696</td></tr><tr><td>&quot;F@&quot;</td><td>39105581337</td><td>614272421</td><td>359</td><td>&quot;P&quot;</td><td>&quot;TSLA__220701P0…</td><td>&quot;6&quot;</td><td>7.65</td><td>&quot;-&quot;</td><td>&quot;X&quot;</td><td>&quot;2&quot;</td><td>&quot;8.90&quot;</td><td>&quot;-&quot;</td><td>&quot;X&quot;</td><td>&quot;-&quot;</td><td>107697</td></tr><tr><td>&quot;F@&quot;</td><td>39105581407</td><td>614272430</td><td>359</td><td>&quot;P&quot;</td><td>&quot;TSLA__220701P0…</td><td>&quot;8&quot;</td><td>7.65</td><td>&quot;-&quot;</td><td>&quot;X&quot;</td><td>&quot;2&quot;</td><td>&quot;8.90&quot;</td><td>&quot;-&quot;</td><td>&quot;X&quot;</td><td>&quot;-&quot;</td><td>107698</td></tr></tbody></table></div>"
     },
     "execution_count": 13,
     "metadata": {},
     "output_type": "execute_result"
    }
   ],
   "source": [
    "t"
   ],
   "metadata": {
    "collapsed": false,
    "ExecuteTime": {
     "end_time": "2023-10-20T00:38:12.899627Z",
     "start_time": "2023-10-20T00:38:12.893396Z"
    }
   }
  },
  {
   "cell_type": "code",
   "execution_count": null,
   "outputs": [],
   "source": [],
   "metadata": {
    "collapsed": false
   }
  }
 ],
 "metadata": {
  "kernelspec": {
   "display_name": "Python 3",
   "language": "python",
   "name": "python3"
  },
  "language_info": {
   "codemirror_mode": {
    "name": "ipython",
    "version": 2
   },
   "file_extension": ".py",
   "mimetype": "text/x-python",
   "name": "python",
   "nbconvert_exporter": "python",
   "pygments_lexer": "ipython2",
   "version": "2.7.6"
  }
 },
 "nbformat": 4,
 "nbformat_minor": 0
}
